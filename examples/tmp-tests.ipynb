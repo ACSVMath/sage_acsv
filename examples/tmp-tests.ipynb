{
 "cells": [
  {
   "cell_type": "markdown",
   "metadata": {},
   "source": [
    "# Non Smooth"
   ]
  },
  {
   "cell_type": "code",
   "execution_count": 86,
   "metadata": {},
   "outputs": [
    {
     "name": "stdout",
     "output_type": "stream",
     "text": [
      "The autoreload extension is already loaded. To reload it, use:\n",
      "  %reload_ext autoreload\n"
     ]
    }
   ],
   "source": [
    "%load_ext autoreload\n",
    "%autoreload 2\n",
    "from sage_acsv import *"
   ]
  },
  {
   "cell_type": "code",
   "execution_count": 87,
   "metadata": {},
   "outputs": [],
   "source": [
    "from sage.all import Macaulay2"
   ]
  },
  {
   "cell_type": "code",
   "execution_count": 88,
   "metadata": {},
   "outputs": [],
   "source": [
    "m2=Macaulay2(command='/opt/homebrew/bin/M2')"
   ]
  },
  {
   "cell_type": "code",
   "execution_count": 26,
   "metadata": {},
   "outputs": [
    {
     "data": {
      "text/plain": [
       "[[3/4, 3/2]]"
      ]
     },
     "execution_count": 26,
     "metadata": {},
     "output_type": "execute_result"
    }
   ],
   "source": [
    "var('x,y,lambda_,t,u_')\n",
    "G=1\n",
    "H=(1-(2*x+y)/3)*(1-(3*x+y)/4)\n",
    "\n",
    "whitney_strat = [\n",
    "    [(x-1,y-1)],\n",
    "    [(H,)],\n",
    "]\n",
    "\n",
    "\n",
    "# Expect [[3/4, 3/2]]\n",
    "MinimalCriticalCombinatorialNonSmooth(G,H,([x,y],lambda_,t,u_), r=[1,1], m2=m2, whitney_strat=whitney_strat)"
   ]
  },
  {
   "cell_type": "code",
   "execution_count": 27,
   "metadata": {},
   "outputs": [
    {
     "data": {
      "text/plain": [
       "[[1, 1]]"
      ]
     },
     "execution_count": 27,
     "metadata": {},
     "output_type": "execute_result"
    }
   ],
   "source": [
    "var('x,y,lambda_,t,u')\n",
    "G=1\n",
    "H=(1-(2*x+y)/3)*(1-(3*x+y)/4)\n",
    "\n",
    "whitney_strat = [\n",
    "    [(x-1,y-1)],\n",
    "    [(H,)],\n",
    "]\n",
    "\n",
    "# Expected [1,1]\n",
    "MinimalCriticalCombinatorialNonSmooth(G,H,([x,y],lambda_,t,u), r=[17/24, 7/24], m2=m2, whitney_strat=None)"
   ]
  },
  {
   "cell_type": "code",
   "execution_count": 89,
   "metadata": {},
   "outputs": [
    {
     "data": {
      "text/plain": [
       "[[12/17, 27/17]]"
      ]
     },
     "execution_count": 89,
     "metadata": {},
     "output_type": "execute_result"
    }
   ],
   "source": [
    "var('x,y,lambda_,t,u')\n",
    "G=1\n",
    "H=(1-(2*x+y)/3)*(1-(3*x+y)/4)\n",
    "\n",
    "whitney_strat = [\n",
    "    [(x-1,y-1)],\n",
    "    [(H,)],\n",
    "]\n",
    "\n",
    "# Expected [1,1]\n",
    "MinimalCriticalCombinatorialNonSmooth(G,H,([x,y],lambda_,t,u), r=[2/3, 3/4], m2=m2, whitney_strat=None)"
   ]
  },
  {
   "cell_type": "code",
   "execution_count": 28,
   "metadata": {},
   "outputs": [
    {
     "name": "stdout",
     "output_type": "stream",
     "text": [
      "Non-generic critical point found - [1, 1] is contained in 0-dimensional stratum\n"
     ]
    }
   ],
   "source": [
    "var('x,y,lambda_,t,u_')\n",
    "G=1\n",
    "H=(1-(2*x+y)/3)*(1-(3*x+y)/4)\n",
    "\n",
    "whitney_strat = [\n",
    "    [(x-1,y-1)],\n",
    "    [(H,)],\n",
    "]\n",
    "\n",
    "try:\n",
    "    MinimalCriticalCombinatorialNonSmooth(G,H,([x,y],lambda_,t,u_), r=[2,1], m2=m2)\n",
    "except Exception as e:\n",
    "    print(e)"
   ]
  },
  {
   "cell_type": "code",
   "execution_count": null,
   "metadata": {},
   "outputs": [],
   "source": [
    "from sage_acsv import *\n",
    "var('v,x,y,lambda_,t,u_')\n",
    "G=1\n",
    "H=(1-v*(1+x^2+x*y^2))*(1-y)*(1+x^2)\n",
    "R = PolynomialRing(QQ, [v,x,y])\n",
    "\n",
    "whitney_strat = [\n",
    "    [(1,)],\n",
    "    [(1-v*(1+x^2+x*y^2), 1-y), (1-y, 1+x^2), (1-v*(1+x^2+x*y^2), 1+x^2)],\n",
    "    [(H,)]\n",
    "]\n",
    "#[sum([Ideal([R(f) for f in comp]) for comp in stratum]) for stratum in whitney_strat]\n",
    "MinimalCriticalCombinatorialNonSmooth(G,H,([x,y,v],lambda_,t,u_), r=[1,1,1], whitney_strat=whitney_strat, m2=m2)"
   ]
  },
  {
   "cell_type": "code",
   "execution_count": null,
   "metadata": {
    "collapsed": true,
    "jupyter": {
     "outputs_hidden": true
    }
   },
   "outputs": [],
   "source": []
  },
  {
   "cell_type": "code",
   "execution_count": null,
   "metadata": {
    "collapsed": true,
    "jupyter": {
     "outputs_hidden": true
    }
   },
   "outputs": [],
   "source": []
  },
  {
   "cell_type": "code",
   "execution_count": null,
   "metadata": {
    "collapsed": true,
    "jupyter": {
     "outputs_hidden": true
    }
   },
   "outputs": [],
   "source": []
  },
  {
   "cell_type": "markdown",
   "metadata": {},
   "source": [
    "# Irrational Directions"
   ]
  },
  {
   "cell_type": "code",
   "execution_count": 6,
   "metadata": {},
   "outputs": [
    {
     "name": "stdout",
     "output_type": "stream",
     "text": [
      "[0.4530745716375183?, 1]\n",
      "0.3119570552789534?\n"
     ]
    }
   ],
   "source": [
    "var('x y')\n",
    "vs = (y, x)\n",
    "H = (1-x)^4-x*y*(1-x-x^2+x^3+x^2*y)\n",
    "P = H.subs(y==1)\n",
    "rho = min([r for r in QQ['x'](P).roots(AA, multiplicities=False) if r>0])\n",
    "sbs = {v: 1 for v in vs[0:-1]} | {vs[-1]:rho}\n",
    "m = [H.derivative(v).subs(sbs)/(rho*H.derivative(vs[-1]).subs(sbs)) for v in vs[0:-1]] + [1]\n",
    "\n",
    "print(m)\n",
    "print(rho)"
   ]
  },
  {
   "cell_type": "code",
   "execution_count": 7,
   "metadata": {},
   "outputs": [],
   "source": [
    "\n",
    "R.<y,x,lambda_,t, u_> = PolynomialRing(QQ)\n",
    "G = y*x^4 - 3*y*x^3 + 3*y*x^2 - y*x\n",
    "H = y^2*x^3 + y*x^4 - y*x^3 - x^4 - y*x^2 + 4*x^3 + y*x - 6*x^2 + 4*x - 1\n",
    "variables = ([y, x], lambda_, t, u_)\n",
    "r = m"
   ]
  },
  {
   "cell_type": "code",
   "execution_count": 4,
   "metadata": {},
   "outputs": [
    {
     "ename": "NameError",
     "evalue": "name 'G' is not defined",
     "output_type": "error",
     "traceback": [
      "\u001b[0;31m---------------------------------------------------------------------------\u001b[0m",
      "\u001b[0;31mNameError\u001b[0m                                 Traceback (most recent call last)",
      "Cell \u001b[0;32mIn[4], line 2\u001b[0m\n\u001b[1;32m      1\u001b[0m \u001b[38;5;28;01mfrom\u001b[39;00m \u001b[38;5;21;01msage_acsv\u001b[39;00m \u001b[38;5;28;01mimport\u001b[39;00m \u001b[38;5;241m*\u001b[39m\n\u001b[0;32m----> 2\u001b[0m diagonal_asy(\u001b[43mG\u001b[49m\u001b[38;5;241m/\u001b[39mH, r\u001b[38;5;241m=\u001b[39mr, use_msolve\u001b[38;5;241m=\u001b[39m\u001b[38;5;28;01mTrue\u001b[39;00m)\n",
      "\u001b[0;31mNameError\u001b[0m: name 'G' is not defined"
     ]
    }
   ],
   "source": [
    "from sage_acsv import *\n",
    "diagonal_asy(G/H, r=r, use_msolve=True)"
   ]
  },
  {
   "cell_type": "code",
   "execution_count": 27,
   "metadata": {},
   "outputs": [],
   "source": [
    "from sage_acsv import *"
   ]
  },
  {
   "cell_type": "code",
   "execution_count": 28,
   "metadata": {},
   "outputs": [
    {
     "data": {
      "text/plain": [
       "-1/128*4^n*(16/n - 1/n^2 - 128)/(sqrt(pi)*sqrt(n))"
      ]
     },
     "execution_count": 28,
     "metadata": {},
     "output_type": "execute_result"
    }
   ],
   "source": [
    "diagonal_asy(1/(1 - x - y), output_format=\"symbolic\", expansion_precision=3, as_radical_expression=True)"
   ]
  },
  {
   "cell_type": "code",
   "execution_count": 21,
   "metadata": {},
   "outputs": [
    {
     "data": {
      "text/plain": [
       "<OutputFormat.SYMBOLIC: 'symbolic'>"
      ]
     },
     "execution_count": 21,
     "metadata": {},
     "output_type": "execute_result"
    }
   ],
   "source": []
  },
  {
   "cell_type": "code",
   "execution_count": null,
   "metadata": {
    "collapsed": true,
    "jupyter": {
     "outputs_hidden": true
    }
   },
   "outputs": [],
   "source": []
  },
  {
   "cell_type": "code",
   "execution_count": null,
   "metadata": {
    "collapsed": true,
    "jupyter": {
     "outputs_hidden": true
    }
   },
   "outputs": [],
   "source": []
  },
  {
   "cell_type": "code",
   "execution_count": null,
   "metadata": {
    "collapsed": true,
    "jupyter": {
     "outputs_hidden": true
    }
   },
   "outputs": [],
   "source": []
  },
  {
   "cell_type": "markdown",
   "metadata": {},
   "source": [
    "# All-Updates"
   ]
  },
  {
   "cell_type": "code",
   "execution_count": null,
   "metadata": {},
   "outputs": [],
   "source": [
    "%load_ext autoreload\n",
    "%autoreload 2\n",
    "from sage_acsv import *"
   ]
  },
  {
   "cell_type": "code",
   "execution_count": null,
   "metadata": {},
   "outputs": [],
   "source": [
    "# Make variables to be used later\n",
    "var('x,y,w,z,n')"
   ]
  },
  {
   "cell_type": "code",
   "execution_count": null,
   "metadata": {},
   "outputs": [],
   "source": [
    "# Binomial coefficients\n",
    "F1 = 1/(1-x-y)\n",
    "diagonal_asy(F1, r=[1,1], as_symbolic=True, M=2)"
   ]
  },
  {
   "cell_type": "code",
   "execution_count": null,
   "metadata": {},
   "outputs": [],
   "source": [
    "# Example with two critical points with positive coords, neither of which is obviously non-minimal\n",
    "F4 = -1/(1-(1-x-y)*(20-x-40*y))\n",
    "diagonal_asy(F4, as_symbolic=True, use_msolve=False, return_points=True)"
   ]
  },
  {
   "cell_type": "code",
   "execution_count": null,
   "metadata": {},
   "outputs": [],
   "source": [
    "# Binomial coefficients\n",
    "F1 = 1/(1-x-y)\n",
    "diagonal_asy(F1, as_symbolic=True, use_msolve=False)"
   ]
  },
  {
   "cell_type": "code",
   "execution_count": null,
   "metadata": {},
   "outputs": [],
   "source": [
    "# Lattice paths enumeration sequence (on main diagonal)\n",
    "F2 = (1+x)*(1+y)/(1-w*x*y*(x+y+1/x+1/y))\n",
    "diagonal_asy(F2, as_symbolic=True)"
   ]
  },
  {
   "cell_type": "code",
   "execution_count": null,
   "metadata": {},
   "outputs": [],
   "source": [
    "# Apéry sequence (on main diagonal)\n",
    "F3 = 1/(1 - w*(1 + x)*(1 + y)*(1 + z)*(x*y*z + y*z + y + z + 1))\n",
    "diagonal_asy(F3, as_symbolic=True)"
   ]
  },
  {
   "cell_type": "code",
   "execution_count": null,
   "metadata": {},
   "outputs": [],
   "source": [
    "# Apéry sequence (on main diagonal)\n",
    "F3 = 1/(1 - w*(1 + x)*(1 + y)*(1 + z)*(x*y*z + y*z + y + z + 1))\n",
    "diagonal_asy(F3, as_symbolic=True, use_msolve=False)"
   ]
  },
  {
   "cell_type": "code",
   "execution_count": null,
   "metadata": {},
   "outputs": [],
   "source": [
    "# The quantities here are algebraic of degree two, so we can represent them in radicals\n",
    "asm_vals = diagonal_asy(F3)\n",
    "show(add([a.radical_expression()^n*b*c*d.radical_expression() for (a,b,c,d) in asm_vals]))"
   ]
  },
  {
   "cell_type": "code",
   "execution_count": null,
   "metadata": {},
   "outputs": [],
   "source": [
    "# Example with two critical points with positive coords, neither of which is obviously non-minimal\n",
    "F4 = -1/(1-(1-x-y)*(20-x-40*y))\n",
    "diagonal_asy(F4, as_symbolic=True, return_points=True)"
   ]
  },
  {
   "cell_type": "code",
   "execution_count": null,
   "metadata": {},
   "outputs": [],
   "source": [
    "# Example with two critical points with positive coords, neither of which is obviously non-minimal\n",
    "F4 = -1/(1-(1-x-y)*(20-x-40*y))\n",
    "diagonal_asy(F4, as_symbolic=True, use_msolve=False, return_points=True)"
   ]
  },
  {
   "cell_type": "code",
   "execution_count": null,
   "metadata": {},
   "outputs": [],
   "source": [
    "# Example with no critical points in (1,1)-direction\n",
    "F5 = 1/(x^4*y + x^3*y + x^2*y + x*y - 1)\n",
    "try:\n",
    "    diagonal_asy(F5, as_symbolic=True)\n",
    "except Exception as e:\n",
    "    print(f\"No result was computed: {e}\")"
   ]
  },
  {
   "cell_type": "code",
   "execution_count": null,
   "metadata": {},
   "outputs": [],
   "source": [
    "# Another example with no critical points \n",
    "F6 = 1/((-x + 1)^4 - x*y*(x^3 + x^2*y - x^2 - x + 1))\n",
    "try:\n",
    "    diagonal_asy(F6, as_symbolic=True)\n",
    "except Exception as e:\n",
    "    print(f\"No result was computed: {e}\")"
   ]
  },
  {
   "cell_type": "code",
   "execution_count": null,
   "metadata": {},
   "outputs": [],
   "source": [
    "# Delannoy generating function\n",
    "F7 = 1/(1 - x - y - x*y)\n",
    "diagonal_asy(F7, as_symbolic=True)"
   ]
  },
  {
   "cell_type": "code",
   "execution_count": null,
   "metadata": {},
   "outputs": [],
   "source": [
    "# Delannoy generating function\n",
    "F7 = 1/(1 - x - y - x*y)\n",
    "diagonal_asy(F7, as_symbolic=True, use_msolve=True)"
   ]
  },
  {
   "cell_type": "code",
   "execution_count": null,
   "metadata": {},
   "outputs": [],
   "source": [
    "# One variable example with many minimal critical points on same torus\n",
    "F8 = 1/(1 - x^7)\n",
    "diagonal_asy(F8, as_symbolic=True)"
   ]
  },
  {
   "cell_type": "code",
   "execution_count": null,
   "metadata": {},
   "outputs": [],
   "source": [
    "# One variable example with many minimal critical points on same torus\n",
    "F8 = 1/(1 - x^7)\n",
    "diagonal_asy(F8, as_symbolic=True, use_msolve=False)"
   ]
  },
  {
   "cell_type": "code",
   "execution_count": null,
   "metadata": {},
   "outputs": [],
   "source": [
    "# One variable example having singularities with close moduli\n",
    "F9 = 1/(8 - 17*x^3 - 9*x^2 + 7*x)\n",
    "diagonal_asy(F9, return_points=True)"
   ]
  },
  {
   "cell_type": "code",
   "execution_count": null,
   "metadata": {},
   "outputs": [],
   "source": [
    "F10 = (x^2*y^2 - x*y + 1)/(1-x-y-x*y+x*y^2+x^2*y-x^2*y^3-x^3*y^2)\n",
    "diagonal_asy(F10, as_symbolic=True)"
   ]
  },
  {
   "cell_type": "code",
   "execution_count": null,
   "metadata": {},
   "outputs": [],
   "source": [
    "F10 = (x^2*y^2 - x*y + 1)/(1-x-y-x*y+x*y^2+x^2*y-x^2*y^3-x^3*y^2)\n",
    "diagonal_asy(F10, as_symbolic=True, use_msolve=False)"
   ]
  },
  {
   "cell_type": "code",
   "execution_count": null,
   "metadata": {},
   "outputs": [],
   "source": [
    "#Does not finish computing (hangs on computing GB for critical point system)\n",
    "from sage_acsv import diagonal_asy\n",
    "var('x,y,w,z,n')\n",
    "F = (1-x^3*y^6+x^3*y^4+x^2*y^4+x^2*y^3)/(1-x-y+x^2*y^3-x^3*y^3-x^4*y^4-x^3*y^6+x^4*y^6)\n",
    "diagonal_asy(F, as_symbolic=True, use_msolve=False)"
   ]
  },
  {
   "cell_type": "code",
   "execution_count": null,
   "metadata": {},
   "outputs": [],
   "source": []
  },
  {
   "cell_type": "code",
   "execution_count": null,
   "metadata": {},
   "outputs": [],
   "source": []
  },
  {
   "cell_type": "markdown",
   "metadata": {},
   "source": [
    "# Whitney Stratification"
   ]
  },
  {
   "cell_type": "code",
   "execution_count": 8,
   "metadata": {},
   "outputs": [],
   "source": [
    "from sage.all import *"
   ]
  },
  {
   "cell_type": "code",
   "execution_count": 9,
   "metadata": {},
   "outputs": [],
   "source": [
    "def PrimaryDecomposition(Id):\n",
    "    Id_m2 = macaulay2.ideal(Id)\n",
    "    for J in Id_m2.decompose():\n",
    "        yield J.sage()"
   ]
  },
  {
   "cell_type": "code",
   "execution_count": 10,
   "metadata": {},
   "outputs": [],
   "source": [
    "def Con(X, P, RZ):\n",
    "    vs = P.gens()\n",
    "    vzs = tuple(v for v in RZ.gens() if v not in vs)\n",
    "    c = X.codimension()\n",
    "\n",
    "    X = P.subscheme(X.defining_ideal().radical())\n",
    "    M = X.Jacobian_matrix()\n",
    "    Jac = X.Jacobian()\n",
    "    JacZ = Ideal(matrix([list(vzs)] + list(M)).minors(c+1))\n",
    "    \n",
    "    return (X.defining_ideal().change_ring(RZ)+JacZ).saturation(Jac.change_ring(RZ))[0]"
   ]
  },
  {
   "cell_type": "code",
   "execution_count": 11,
   "metadata": {},
   "outputs": [],
   "source": [
    "def con(Id, R):\n",
    "    vs = R.gens()\n",
    "    P, vsP = ProjectiveSpace(QQ, len(vs), list(vs)+['z0']).objgens() \n",
    "    z0 = vsP[-1]\n",
    "    R_hom = z0.parent()\n",
    "    Id = Id.change_ring(R_hom).homogenize(z0)\n",
    "    R = P.gens()[0].parent()\n",
    "    RZ = PolynomialRing(R, ['t%d'%i for i in range(len(vs)+1)])\n",
    "    RZ = RZ.flattening_morphism()(vs[0]).parent()\n",
    "\n",
    "    return Con(P.subscheme(Id), P, RZ)"
   ]
  },
  {
   "cell_type": "code",
   "execution_count": 12,
   "metadata": {},
   "outputs": [],
   "source": [
    "R.<x,y,v> = PolynomialRing(QQ, 3)"
   ]
  },
  {
   "cell_type": "code",
   "execution_count": 13,
   "metadata": {},
   "outputs": [],
   "source": [
    "H = (1-v*(1+x^2+x*y^2))*(1-y)*(1+x^2)"
   ]
  },
  {
   "cell_type": "code",
   "execution_count": 14,
   "metadata": {},
   "outputs": [
    {
     "data": {
      "text/plain": [
       "Ideal (x^2*y - x^2 + y - 1, y^3*v - y^2*v + x*y - x, x^4*v + x^3*v + 2*x^2*v - x^2 + x*v + v - 1) of Multivariate Polynomial Ring in x, y, v over Rational Field"
      ]
     },
     "execution_count": 14,
     "metadata": {},
     "output_type": "execute_result"
    }
   ],
   "source": [
    "smooth_strat = [0,0,Ideal(H)]\n",
    "\n",
    "H_sing = (Ideal(H) + Ideal(H, H.derivative(x), H.derivative(y), H.derivative(v))).radical()\n",
    "smooth_strat[1] = H_sing\n",
    "H_sing"
   ]
  },
  {
   "cell_type": "code",
   "execution_count": 15,
   "metadata": {},
   "outputs": [],
   "source": [
    "Jac = matrix(jacobian(H_sing.gens(), [x,y,v])).minors(2)\n",
    "H_sing2 = (H_sing + Ideal(Jac)).radical()\n",
    "smooth_strat[0] = H_sing2"
   ]
  },
  {
   "cell_type": "code",
   "execution_count": 16,
   "metadata": {},
   "outputs": [
    {
     "data": {
      "text/plain": [
       "[Ideal (y - 1, x + v, v^2 + 1) of Multivariate Polynomial Ring in x, y, v over Rational Field,\n",
       " Ideal (x^2*y - x^2 + y - 1, y^3*v - y^2*v + x*y - x, x^4*v + x^3*v + 2*x^2*v - x^2 + x*v + v - 1) of Multivariate Polynomial Ring in x, y, v over Rational Field,\n",
       " Ideal (x^3*y^3*v + x^4*y*v - x^3*y^2*v - x^4*v + x*y^3*v + 2*x^2*y*v - x*y^2*v - x^2*y - 2*x^2*v + x^2 + y*v - y - v + 1) of Multivariate Polynomial Ring in x, y, v over Rational Field]"
      ]
     },
     "execution_count": 16,
     "metadata": {},
     "output_type": "execute_result"
    }
   ],
   "source": [
    "smooth_strat"
   ]
  },
  {
   "cell_type": "code",
   "execution_count": 19,
   "metadata": {},
   "outputs": [
    {
     "name": "stdout",
     "output_type": "stream",
     "text": [
      "Ideal (t2, y - z0, t0^2 + t1^2 + 2*t1*t3 + t3^2, z0*t0 - x*t1 - x*t3, x*t0 + z0*t1 + z0*t3, x^2 + z0^2) of Multivariate Polynomial Ring in x, y, v, z0, t0, t1, t2, t3 over Rational Field\n",
      "\n",
      "Ideal (y*t1 - 2*v*t2, x*t0 + 3*v*t2 + z0*t3, x^2 + z0^2, z0^2*t0 - 3*x*v*t2 - x*z0*t3, y^2*v + x*z0^2, 12*v*t0^2*t2 - 27*x*t1^2*t2 - 8*z0*t0^2*t3 - 36*v*t2*t3^2 - 8*z0*t3^3, 6*y*v*t0*t2 - 9*z0^2*t1*t2 - 2*y*z0*t0*t3 + 2*x*y*t3^2, 9*z0^2*t1^2 - 12*v^2*t0*t2 + 4*v*z0*t0*t3 - 4*x*v*t3^2, x*z0^2*t1 + 2*y*v^2*t2, 4*z0*t0^3 + 27*z0*t1^2*t2 + 36*v*t0*t2*t3 + 4*x*t3^3, 4*v*z0*t0^2 - 9*x*z0*t1^2 + 24*v^2*t2*t3 + 4*v*z0*t3^2, 2*y*z0*t0^2 - 9*x*z0*t1*t2 + 12*y*v*t2*t3 + 2*y*z0*t3^2, 2*y*v*t0^2 - 9*x*v*t1*t2 - 6*x*z0*t1*t3 + 2*y*v*t3^2, y^2*t0^2 - 9*x*v*t2^2 - 6*x*z0*t2*t3 + y^2*t3^2, 2*y*v*z0*t0 - 3*z0^3*t1 - 2*x*y*v*t3, y^2*z0*t0 - 3*z0^3*t2 - x*y^2*t3, z0^4*t1 - 2*x*y*v^2*t2, 4*v*t0^4 + 27*v*t0*t1^2*t2 + 27*z0*t0*t1^2*t3 + 8*v*t0^2*t3^2 + 9*x*t1^2*t3^2 + 4*v*t3^4, 2*y*t0^4 + 27*v*t0*t1*t2^2 + 27*z0*t0*t1*t2*t3 + 4*y*t0^2*t3^2 + 9*x*t1*t2*t3^2 + 2*y*t3^4, 16*t0^6 + 216*t0^3*t1^2*t2 + 729*t1^4*t2^2 + 48*t0^4*t3^2 - 648*t0*t1^2*t2*t3^2 + 48*t0^2*t3^4 + 16*t3^6) of Multivariate Polynomial Ring in x, y, v, z0, t0, t1, t2, t3 over Rational Field\n",
      "\n",
      "Ideal (y - z0, x*t0 + z0*t1 + v*t2 + z0*t3, z0*t0*t1 - x*t1^2 - z0*t1^2 - 3*v*t0*t2 + 4*z0*t0*t2 + v*t1*t2 + z0*t1*t2 + 3*v*t2^2 + z0*t0*t3 - 2*x*t1*t3 - 2*z0*t1*t3 + v*t2*t3 + z0*t2*t3 - x*t3^2 - z0*t3^2, x*z0*t1 - z0^2*t1 + 3*x*v*t2 + 3*v^2*t2 - 4*v*z0*t2 + x*z0*t3 - z0^2*t3, x^2*t1 + 2*z0^2*t1 - 4*x*v*t2 - 3*v^2*t2 + 2*v*z0*t2 + 3*z0^2*t2 + x^2*t3 + 2*z0^2*t3, z0*t0^2 - x*t1^2 - 5*v*t0*t2 + 3*z0*t0*t2 + 5*v*t1*t2 + 3*z0*t1*t2 + 9*v*t2^2 - 2*x*t1*t3 + 5*v*t2*t3 + 3*z0*t2*t3 - x*t3^2, 3*v*t0^2 - 3*v*t0*t1 - 6*x*t1^2 + 3*v*t1^2 - 29*v*t0*t2 + 20*z0*t0*t2 + 28*v*t1*t2 + 14*z0*t1*t2 + 42*v*t2^2 - 3*v*t0*t3 - 12*x*t1*t3 + 6*v*t1*t3 + 28*v*t2*t3 + 14*z0*t2*t3 - 6*x*t3^2 + 3*v*t3^2, z0^2*t0 - 2*z0^2*t1 + 3*v^2*t2 - 6*v*z0*t2 - 2*z0^2*t3, v*z0*t0 - x*v*t1 - v*z0*t1 - 3*z0^2*t1 + 4*v^2*t2 - 9*v*z0*t2 - x*v*t3 - v*z0*t3 - 3*z0^2*t3, x^2*v + x*v*z0 + v*z0^2 - z0^3, 3*z0^2*t1^2 - 3*v^2*t0*t2 + 4*x*v*t1*t2 - 3*v^2*t1*t2 + 14*v*z0*t1*t2 + 12*z0^2*t1*t2 - 13*v^2*t2^2 + 36*v*z0*t2^2 + 6*z0^2*t1*t3 + 4*x*v*t2*t3 - 3*v^2*t2*t3 + 14*v*z0*t2*t3 + 12*z0^2*t2*t3 + 3*z0^2*t3^2, z0^3*t1 - x*v^2*t2 - 2*v^2*z0*t2 + 3*v*z0^2*t2 + z0^3*t3, 3*t0^4 - 6*t0^3*t1 + 9*t0^2*t1^2 - 6*t0*t1^3 + 3*t1^4 - 14*t0^3*t2 + 30*t0^2*t1*t2 - 6*t0*t1^2*t2 + 4*t1^3*t2 + 27*t0^2*t2^2 - 6*t0^3*t3 + 18*t0^2*t1*t3 - 18*t0*t1^2*t3 + 12*t1^3*t3 + 30*t0^2*t2*t3 - 12*t0*t1*t2*t3 + 12*t1^2*t2*t3 + 9*t0^2*t3^2 - 18*t0*t1*t3^2 + 18*t1^2*t3^2 - 6*t0*t2*t3^2 + 12*t1*t2*t3^2 - 6*t0*t3^3 + 12*t1*t3^3 + 4*t2*t3^3 + 3*t3^4) of Multivariate Polynomial Ring in x, y, v, z0, t0, t1, t2, t3 over Rational Field\n",
      "\n"
     ]
    }
   ],
   "source": [
    "for comp in H_sing.primary_decomposition():\n",
    "    print(con(comp, R).radical())\n",
    "    print()"
   ]
  },
  {
   "cell_type": "code",
   "execution_count": null,
   "metadata": {},
   "outputs": [],
   "source": []
  },
  {
   "cell_type": "code",
   "execution_count": null,
   "metadata": {},
   "outputs": [],
   "source": []
  },
  {
   "cell_type": "markdown",
   "metadata": {},
   "source": [
    "# Temp Debugging"
   ]
  },
  {
   "cell_type": "code",
   "execution_count": null,
   "metadata": {},
   "outputs": [],
   "source": [
    "W = DifferentialWeylAlgebra(PolynomialRing(SR, ['t', 'u']))\n",
    "D = list(W.differentials())\n",
    "M = MatrixSpace(W, 1, 2)\n",
    "M([D])"
   ]
  },
  {
   "cell_type": "code",
   "execution_count": null,
   "metadata": {},
   "outputs": [],
   "source": [
    "matrix(W, [[D[0]]])"
   ]
  },
  {
   "cell_type": "code",
   "execution_count": 31,
   "metadata": {},
   "outputs": [
    {
     "data": {
      "text/plain": [
       "[Ideal (y, z^3, x*z^2, 2*x^2*z - 3*z^2, x^3) of Multivariate Polynomial Ring in x, y, z over Rational Field,\n",
       " Ideal (z, y) of Multivariate Polynomial Ring in x, y, z over Rational Field,\n",
       " Ideal (x^2*z^2 - z^3 - y^2) of Multivariate Polynomial Ring in x, y, z over Rational Field]"
      ]
     },
     "execution_count": 31,
     "metadata": {},
     "output_type": "execute_result"
    }
   ],
   "source": [
    "R.<x,y,z> = PolynomialRing(QQ, 3)\n",
    "IX = Ideal(y^2+z^3-x^2*z^2)\n",
    "WhitneyStrat(IX, R)"
   ]
  },
  {
   "cell_type": "code",
   "execution_count": 40,
   "metadata": {},
   "outputs": [
    {
     "data": {
      "text/plain": [
       "(x, y)"
      ]
     },
     "execution_count": 40,
     "metadata": {},
     "output_type": "execute_result"
    }
   ],
   "source": [
    "var('x,y')"
   ]
  },
  {
   "cell_type": "code",
   "execution_count": 52,
   "metadata": {},
   "outputs": [
    {
     "data": {
      "text/plain": [
       "2*x^2 + 2*y^2"
      ]
     },
     "execution_count": 52,
     "metadata": {},
     "output_type": "execute_result"
    }
   ],
   "source": [
    "QQbar['x,y'](2*(x^2+y^2))"
   ]
  },
  {
   "cell_type": "code",
   "execution_count": 53,
   "metadata": {},
   "outputs": [],
   "source": [
    "f = _"
   ]
  },
  {
   "cell_type": "code",
   "execution_count": 64,
   "metadata": {},
   "outputs": [
    {
     "name": "stdout",
     "output_type": "stream",
     "text": [
      "Multivariate Polynomial Ring in x, y over Algebraic Field\n",
      "Multivariate Polynomial Ring in x, y over Algebraic Field\n"
     ]
    }
   ],
   "source": [
    "for g in f.factor():\n",
    "    print(g[0].parent())"
   ]
  },
  {
   "cell_type": "code",
   "execution_count": 60,
   "metadata": {},
   "outputs": [
    {
     "data": {
      "text/plain": [
       "2"
      ]
     },
     "execution_count": 60,
     "metadata": {},
     "output_type": "execute_result"
    }
   ],
   "source": [
    "f.factor().unit()"
   ]
  },
  {
   "cell_type": "code",
   "execution_count": 75,
   "metadata": {},
   "outputs": [
    {
     "data": {
      "text/plain": [
       "[2, 3]"
      ]
     },
     "execution_count": 75,
     "metadata": {},
     "output_type": "execute_result"
    }
   ],
   "source": [
    "sample([1,2,3],2)"
   ]
  },
  {
   "cell_type": "code",
   "execution_count": 81,
   "metadata": {},
   "outputs": [
    {
     "data": {
      "text/plain": [
       "(5, 11)"
      ]
     },
     "execution_count": 81,
     "metadata": {},
     "output_type": "execute_result"
    }
   ],
   "source": [
    "matrix([[1,2],[3,4]]) * vector([1,2])"
   ]
  },
  {
   "cell_type": "code",
   "execution_count": 84,
   "metadata": {},
   "outputs": [
    {
     "data": {
      "text/plain": [
       "70"
      ]
     },
     "execution_count": 84,
     "metadata": {},
     "output_type": "execute_result"
    }
   ],
   "source": [
    "prod(vector([1,2]) * matrix([[1,2],[3,4]]))"
   ]
  },
  {
   "cell_type": "code",
   "execution_count": 83,
   "metadata": {},
   "outputs": [
    {
     "data": {
      "text/plain": [
       "[  -2    1]\n",
       "[ 3/2 -1/2]"
      ]
     },
     "execution_count": 83,
     "metadata": {},
     "output_type": "execute_result"
    }
   ],
   "source": [
    "matrix([[1,2],[3,4]]).inverse()"
   ]
  },
  {
   "cell_type": "code",
   "execution_count": 91,
   "metadata": {},
   "outputs": [
    {
     "data": {
      "text/plain": [
       "[x, y]"
      ]
     },
     "execution_count": 91,
     "metadata": {},
     "output_type": "execute_result"
    }
   ],
   "source": [
    "sorted([x,y])"
   ]
  },
  {
   "cell_type": "code",
   "execution_count": 98,
   "metadata": {},
   "outputs": [
    {
     "ename": "TypeError",
     "evalue": "'int' object is not iterable",
     "output_type": "error",
     "traceback": [
      "\u001b[0;31m---------------------------------------------------------------------------\u001b[0m",
      "\u001b[0;31mTypeError\u001b[0m                                 Traceback (most recent call last)",
      "Cell \u001b[0;32mIn[98], line 1\u001b[0m\n\u001b[0;32m----> 1\u001b[0m \u001b[43mmatrix\u001b[49m\u001b[43m(\u001b[49m\u001b[43m[\u001b[49m\u001b[43m[\u001b[49m\u001b[43m[\u001b[49m\u001b[43mInteger\u001b[49m\u001b[43m(\u001b[49m\u001b[38;5;241;43m1\u001b[39;49m\u001b[43m)\u001b[49m\u001b[43m,\u001b[49m\u001b[43mInteger\u001b[49m\u001b[43m(\u001b[49m\u001b[38;5;241;43m2\u001b[39;49m\u001b[43m)\u001b[49m\u001b[43m]\u001b[49m\u001b[43m,\u001b[49m\u001b[43m \u001b[49m\u001b[43m[\u001b[49m\u001b[43mInteger\u001b[49m\u001b[43m(\u001b[49m\u001b[38;5;241;43m1\u001b[39;49m\u001b[43m)\u001b[49m\u001b[43m,\u001b[49m\u001b[43mInteger\u001b[49m\u001b[43m(\u001b[49m\u001b[38;5;241;43m2\u001b[39;49m\u001b[43m)\u001b[49m\u001b[43m]\u001b[49m\u001b[43m]\u001b[49m\u001b[43m,\u001b[49m\u001b[43m[\u001b[49m\u001b[43m[\u001b[49m\u001b[43mInteger\u001b[49m\u001b[43m(\u001b[49m\u001b[38;5;241;43m1\u001b[39;49m\u001b[43m)\u001b[49m\u001b[43m,\u001b[49m\u001b[43mInteger\u001b[49m\u001b[43m(\u001b[49m\u001b[38;5;241;43m2\u001b[39;49m\u001b[43m)\u001b[49m\u001b[43m]\u001b[49m\u001b[43m,\u001b[49m\u001b[43m \u001b[49m\u001b[43m[\u001b[49m\u001b[43mInteger\u001b[49m\u001b[43m(\u001b[49m\u001b[38;5;241;43m1\u001b[39;49m\u001b[43m)\u001b[49m\u001b[43m,\u001b[49m\u001b[43mInteger\u001b[49m\u001b[43m(\u001b[49m\u001b[38;5;241;43m2\u001b[39;49m\u001b[43m)\u001b[49m\u001b[43m]\u001b[49m\u001b[43m]\u001b[49m\u001b[43m]\u001b[49m\u001b[43m)\u001b[49m\n",
      "File \u001b[0;32m/private/var/tmp/sage-10.4-current/local/var/lib/sage/venv-python3.12.4/lib/python3.12/site-packages/sage/matrix/constructor.pyx:676\u001b[0m, in \u001b[0;36msage.matrix.constructor.matrix (build/cythonized/sage/matrix/constructor.c:5712)\u001b[0;34m()\u001b[0m\n\u001b[1;32m    674\u001b[0m \"\"\"\n\u001b[1;32m    675\u001b[0m immutable = kwds.pop('immutable', False)\n\u001b[0;32m--> 676\u001b[0m return MatrixArgs(*args, **kwds).element(immutable=immutable)\n\u001b[1;32m    677\u001b[0m \n\u001b[1;32m    678\u001b[0m \n",
      "File \u001b[0;32m/private/var/tmp/sage-10.4-current/local/var/lib/sage/venv-python3.12.4/lib/python3.12/site-packages/sage/matrix/args.pyx:805\u001b[0m, in \u001b[0;36msage.matrix.args.MatrixArgs.element (build/cythonized/sage/matrix/args.c:14516)\u001b[0;34m()\u001b[0m\n\u001b[1;32m    803\u001b[0m     To:   Free module generated by {'u', 'v'} over Integer Ring\n\u001b[1;32m    804\u001b[0m \"\"\"\n\u001b[0;32m--> 805\u001b[0m self.finalize()\n\u001b[1;32m    806\u001b[0m cdef Matrix M = self.matrix(convert=True)\n\u001b[1;32m    807\u001b[0m if immutable:\n",
      "File \u001b[0;32m/private/var/tmp/sage-10.4-current/local/var/lib/sage/venv-python3.12.4/lib/python3.12/site-packages/sage/matrix/args.pyx:1178\u001b[0m, in \u001b[0;36msage.matrix.args.MatrixArgs.finalize (build/cythonized/sage/matrix/args.c:18242)\u001b[0;34m()\u001b[0m\n\u001b[1;32m   1176\u001b[0m # really need to look at the entries.\n\u001b[1;32m   1177\u001b[0m if self.typ == MA_ENTRIES_SEQ_SEQ:\n\u001b[0;32m-> 1178\u001b[0m     self.finalize_seq_seq()\n\u001b[1;32m   1179\u001b[0m elif self.typ == MA_ENTRIES_SEQ_FLAT:\n\u001b[1;32m   1180\u001b[0m     self.finalize_seq_scalar()\n",
      "File \u001b[0;32m/private/var/tmp/sage-10.4-current/local/var/lib/sage/venv-python3.12.4/lib/python3.12/site-packages/sage/matrix/args.pyx:1421\u001b[0m, in \u001b[0;36msage.matrix.args.MatrixArgs.finalize_seq_seq (build/cythonized/sage/matrix/args.c:22021)\u001b[0;34m()\u001b[0m\n\u001b[1;32m   1419\u001b[0m         self.set_ncols(c)\n\u001b[1;32m   1420\u001b[0m \n\u001b[0;32m-> 1421\u001b[0m     self.set_seq_flat(entries)\n\u001b[1;32m   1422\u001b[0m \n\u001b[1;32m   1423\u001b[0m cdef int finalize_seq_scalar(self) except -1:\n",
      "File \u001b[0;32m/private/var/tmp/sage-10.4-current/local/var/lib/sage/venv-python3.12.4/lib/python3.12/site-packages/sage/matrix/args.pyx:1239\u001b[0m, in \u001b[0;36msage.matrix.args.MatrixArgs.set_seq_flat (build/cythonized/sage/matrix/args.c:19057)\u001b[0;34m()\u001b[0m\n\u001b[1;32m   1237\u001b[0m \"\"\"\n\u001b[1;32m   1238\u001b[0m if self.base is None:\n\u001b[0;32m-> 1239\u001b[0m     self.set_base_from_entries(entries)\n\u001b[1;32m   1240\u001b[0m self.entries = entries\n\u001b[1;32m   1241\u001b[0m self.typ = MA_ENTRIES_SEQ_FLAT\n",
      "File \u001b[0;32m/private/var/tmp/sage-10.4-current/local/var/lib/sage/venv-python3.12.4/lib/python3.12/site-packages/sage/matrix/args.pyx:1226\u001b[0m, in \u001b[0;36msage.matrix.args.MatrixArgs.set_base_from_entries (build/cythonized/sage/matrix/args.c:18916)\u001b[0;34m()\u001b[0m\n\u001b[1;32m   1224\u001b[0m \"\"\"\n\u001b[1;32m   1225\u001b[0m if entries:\n\u001b[0;32m-> 1226\u001b[0m     B = coercion_model.common_parent(*entries)\n\u001b[1;32m   1227\u001b[0m     if isinstance(B, type):\n\u001b[1;32m   1228\u001b[0m         B = py_scalar_parent(B)\n",
      "File \u001b[0;32m/private/var/tmp/sage-10.4-current/local/var/lib/sage/venv-python3.12.4/lib/python3.12/site-packages/sage/structure/coerce.pyx:1090\u001b[0m, in \u001b[0;36msage.structure.coerce.CoercionModel.common_parent (build/cythonized/sage/structure/coerce.c:14940)\u001b[0;34m()\u001b[0m\n\u001b[1;32m   1088\u001b[0m     base = x\n\u001b[1;32m   1089\u001b[0m else:\n\u001b[0;32m-> 1090\u001b[0m     a = base.an_element() if isinstance(base, Parent) else base(1)\n\u001b[1;32m   1091\u001b[0m     b = x.an_element() if isinstance(x, Parent) else x(1)\n\u001b[1;32m   1092\u001b[0m     base = parent(self.canonical_coercion(a, b)[0])\n",
      "\u001b[0;31mTypeError\u001b[0m: 'int' object is not iterable"
     ]
    }
   ],
   "source": []
  },
  {
   "cell_type": "code",
   "execution_count": null,
   "metadata": {},
   "outputs": [],
   "source": []
  }
 ],
 "metadata": {
  "@webio": {
   "lastCommId": null,
   "lastKernelId": null
  },
  "kernelspec": {
   "display_name": "SageMath 10.4",
   "language": "sage",
   "name": "sagemath-10.4"
  },
  "language_info": {
   "codemirror_mode": {
    "name": "ipython",
    "version": 3
   },
   "file_extension": ".py",
   "mimetype": "text/x-python",
   "name": "python",
   "nbconvert_exporter": "python",
   "pygments_lexer": "ipython3",
   "version": "3.12.4"
  }
 },
 "nbformat": 4,
 "nbformat_minor": 4
}
