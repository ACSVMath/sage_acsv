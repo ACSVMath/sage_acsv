{
 "cells": [
  {
   "cell_type": "markdown",
   "id": "045bfa18-2b09-48e8-a86f-1a62b99573c4",
   "metadata": {},
   "source": [
    "#### Examples from the paper:\n",
    "### \"A SageMath Package for Analytic Combinatorics in Several Variables: Beyond the Smooth Case\"\n",
    "#### By: Benjamin Hackl, Andrew Luo, Stephen Melczer, Éric Schost"
   ]
  },
  {
   "cell_type": "code",
   "execution_count": null,
   "id": "758ed891-d48b-4862-a092-a7c286ec3121",
   "metadata": {},
   "outputs": [],
   "source": [
    "%display typeset"
   ]
  },
  {
   "cell_type": "code",
   "execution_count": null,
   "id": "b12b97c8-c905-4cc3-b330-81609ba6499a",
   "metadata": {},
   "outputs": [],
   "source": [
    "from sage_acsv import diagonal_asy, get_expansion_terms, ACSVSettings"
   ]
  },
  {
   "cell_type": "code",
   "execution_count": null,
   "id": "3dd7f8df-5916-49a6-b0ce-a8d1f5b209dd",
   "metadata": {},
   "outputs": [],
   "source": [
    "var('w x y z')"
   ]
  },
  {
   "cell_type": "markdown",
   "id": "a066660c-8d0d-46be-9d49-48231ad8ef3a",
   "metadata": {},
   "source": [
    "##### Example 4: binomial coefficients"
   ]
  },
  {
   "cell_type": "code",
   "execution_count": null,
   "id": "18422262-c223-47be-8ced-efb0863d3cb1",
   "metadata": {},
   "outputs": [],
   "source": [
    "diagonal_asy(1/(1 - x - y))"
   ]
  },
  {
   "cell_type": "code",
   "execution_count": null,
   "id": "baf7554d-4c49-483e-a35d-f716d39d4f3a",
   "metadata": {},
   "outputs": [],
   "source": [
    "diagonal_asy(1/(1 - x - y), r=[2, 1])"
   ]
  },
  {
   "cell_type": "code",
   "execution_count": null,
   "id": "fddea3d7-f857-4b94-bdb8-dcf91326de5b",
   "metadata": {},
   "outputs": [],
   "source": [
    "ex = diagonal_asy(1/(1 - x - y), r=[2, 1], expansion_precision=2); ex"
   ]
  },
  {
   "cell_type": "code",
   "execution_count": null,
   "id": "16a7acbd-70ae-4fd9-a14b-66c87799d844",
   "metadata": {},
   "outputs": [],
   "source": [
    "terms = get_expansion_terms(ex); terms"
   ]
  },
  {
   "cell_type": "code",
   "execution_count": null,
   "id": "95402426-ff92-4d5c-bb54-813ad5e1cf6c",
   "metadata": {},
   "outputs": [],
   "source": [
    "terms[0].coefficient.minpoly()"
   ]
  },
  {
   "cell_type": "code",
   "execution_count": null,
   "id": "ec4956d3-e76b-4412-913b-d19b73a2fcc1",
   "metadata": {},
   "outputs": [],
   "source": [
    "terms[0].coefficient.radical_expression()"
   ]
  },
  {
   "cell_type": "markdown",
   "id": "df0e8e63-b029-4db6-aec6-303576725533",
   "metadata": {},
   "source": [
    "##### Example 5: winning choices in a given single player game"
   ]
  },
  {
   "cell_type": "code",
   "execution_count": null,
   "id": "89c339c8-2fb2-431c-83cd-c330eb1dd315",
   "metadata": {},
   "outputs": [],
   "source": [
    "F = 1/(1 - x/3 - 2*y/3)/(1 -2*x/3 - y/3)"
   ]
  },
  {
   "cell_type": "code",
   "execution_count": null,
   "id": "13c2c767-2645-4f05-95b5-7a175d0390b0",
   "metadata": {},
   "outputs": [],
   "source": [
    "diagonal_asy(F, r=[1, 3])"
   ]
  },
  {
   "cell_type": "code",
   "execution_count": null,
   "id": "00a6a4a2-2f07-41fe-a3a2-e07912c7d7a4",
   "metadata": {},
   "outputs": [],
   "source": [
    "diagonal_asy(F, r=[4, 1])"
   ]
  },
  {
   "cell_type": "code",
   "execution_count": null,
   "id": "57599dd2-fe6a-40f7-8f39-042dd325c589",
   "metadata": {},
   "outputs": [],
   "source": [
    "diagonal_asy(F, r=[1, 1])"
   ]
  },
  {
   "cell_type": "code",
   "execution_count": null,
   "id": "a798201a-0eca-40a2-8afe-d16ef3435572",
   "metadata": {},
   "outputs": [],
   "source": [
    "try:\n",
    "    diagonal_asy(F, r=[2, 1])\n",
    "except Exception as e:\n",
    "    print(e)"
   ]
  },
  {
   "cell_type": "markdown",
   "id": "e72e1fbc-db41-4dbb-87e6-d9af6dd2266e",
   "metadata": {},
   "source": [
    "##### Example 6: quarter plane lattice walk with steps (-1, -1), (1, -1), (0, 1)"
   ]
  },
  {
   "cell_type": "code",
   "execution_count": null,
   "id": "d4ae36c8-ed90-4dba-85a0-f5d1e811b3be",
   "metadata": {},
   "outputs": [],
   "source": [
    "F = (1 + x)*(2*z*x^2*y^2 + 2*z*y^2 - 1)/((-1 + y)*(z*x^2*y^2 + z*y^2 + z*x - 1)*(z*x^2*y^2 + z*y^2 - 1))"
   ]
  },
  {
   "cell_type": "code",
   "execution_count": null,
   "id": "92d59a8b-1028-44d3-b505-020726ac0d94",
   "metadata": {},
   "outputs": [],
   "source": [
    "diagonal_asy(F)"
   ]
  },
  {
   "cell_type": "code",
   "execution_count": null,
   "id": "e17ed0c1-507c-4ff2-88fc-08360566e394",
   "metadata": {},
   "outputs": [],
   "source": [
    "expansion = diagonal_asy(F, expansion_precision=2)\n",
    "expansion"
   ]
  },
  {
   "cell_type": "code",
   "execution_count": null,
   "id": "40e5ac16-3d66-4f0a-80f5-db3170fd25c0",
   "metadata": {},
   "outputs": [],
   "source": [
    "terms = get_expansion_terms(expansion)\n",
    "for term in terms:\n",
    "    print((term.coefficient.radical_expression(), term.base.radical_expression()))"
   ]
  },
  {
   "cell_type": "markdown",
   "id": "f3cd6a94-54de-41c1-800e-54f3440cda97",
   "metadata": {},
   "source": [
    "##### Example 7: Whitney Stratification"
   ]
  },
  {
   "cell_type": "code",
   "execution_count": null,
   "id": "d8942cbd-229f-4bd1-a2fc-0cde1d27dbf9",
   "metadata": {},
   "outputs": [],
   "source": [
    "from sage_acsv import WhitneyStrat\n",
    "R.<x, y, z> = PolynomialRing(QQ, 3)\n",
    "IX = Ideal(y^2 + z^3 - x^2*z^2); IX"
   ]
  },
  {
   "cell_type": "code",
   "execution_count": null,
   "id": "23e6daae-88b6-4ad3-bc31-ce93dc7fc99e",
   "metadata": {},
   "outputs": [],
   "source": [
    "WhitneyStrat(IX, R)"
   ]
  },
  {
   "cell_type": "markdown",
   "id": "2a238ec4-4fe8-4959-af08-9ffe5135d056",
   "metadata": {},
   "source": [
    "##### Example 13: Critical Points"
   ]
  },
  {
   "cell_type": "code",
   "execution_count": null,
   "id": "b3a7eb85-3c9d-457e-b5e8-1cd128d3be12",
   "metadata": {},
   "outputs": [],
   "source": [
    "from sage_acsv import ACSVSettings as AS, CriticalPoints\n",
    "var('w x y z')"
   ]
  },
  {
   "cell_type": "code",
   "execution_count": null,
   "id": "20911883-5d09-4bbc-bea2-c65c3b7c37e0",
   "metadata": {},
   "outputs": [],
   "source": [
    "# this example takes very long without setting the gröbner basis backend to Macaulay2\n",
    "AS.set_default_groebner_backend(AS.Groebner.MACAULAY2)"
   ]
  },
  {
   "cell_type": "code",
   "execution_count": null,
   "id": "48271f67-4848-4ecb-8c92-a5cd97c43d37",
   "metadata": {},
   "outputs": [],
   "source": [
    "CriticalPoints(1/(1 - (w + x + y + z) + 27*w*x*y*z))"
   ]
  },
  {
   "cell_type": "markdown",
   "id": "07c603d3-aad4-4a79-8923-82049432ac47",
   "metadata": {},
   "source": [
    "##### Example 15: minimal critical points"
   ]
  },
  {
   "cell_type": "code",
   "execution_count": null,
   "id": "0f745f41-14a5-4e39-a896-9a1441b11b08",
   "metadata": {},
   "outputs": [],
   "source": [
    "from sage_acsv import MinimalCriticalCombinatorial"
   ]
  },
  {
   "cell_type": "code",
   "execution_count": null,
   "id": "72113c1c-22eb-4d78-a334-8731644f1d05",
   "metadata": {},
   "outputs": [],
   "source": [
    "F = 1/(1 - (w + x + y + z) + 24*w*x*y*z)\n",
    "CriticalPoints(F)"
   ]
  },
  {
   "cell_type": "code",
   "execution_count": null,
   "id": "f5f0292d-5346-4a69-88ee-b032fdd3715d",
   "metadata": {},
   "outputs": [],
   "source": [
    "MinimalCriticalCombinatorial(F)"
   ]
  },
  {
   "cell_type": "markdown",
   "id": "e46ffe96-9af2-4f78-a585-1e9c7fe6a1cd",
   "metadata": {},
   "source": [
    "##### Example 18: revisiting lattice paths from Example 6"
   ]
  },
  {
   "cell_type": "code",
   "execution_count": null,
   "id": "66fc80ec-c991-4e8c-b421-5d7e4b520a24",
   "metadata": {},
   "outputs": [],
   "source": [
    "from sage_acsv import MinimalCriticalCombinatorial, ContributingCombinatorial"
   ]
  },
  {
   "cell_type": "code",
   "execution_count": null,
   "id": "08b44d7b-c350-4d28-be19-82887cac05c4",
   "metadata": {},
   "outputs": [],
   "source": [
    "F = (1 + x)*(2*z*x^2*y^2 + 2*z*y^2 - 1)/((-1 + y)*(z*x^2*y^2 + z*y^2 + z*x - 1)*(z*x^2*y^2 + z*y^2 - 1))"
   ]
  },
  {
   "cell_type": "code",
   "execution_count": null,
   "id": "a4f4efe2-374e-457d-a234-6ef7602c6a09",
   "metadata": {},
   "outputs": [],
   "source": [
    "MinimalCriticalCombinatorial(F)"
   ]
  },
  {
   "cell_type": "code",
   "execution_count": null,
   "id": "c142b255-3053-4fe3-ab63-05f6eff7a457",
   "metadata": {},
   "outputs": [],
   "source": [
    "ContributingCombinatorial(F)"
   ]
  },
  {
   "cell_type": "code",
   "execution_count": null,
   "id": "a6a73b56-0213-4267-9474-c29a5899785a",
   "metadata": {},
   "outputs": [],
   "source": []
  }
 ],
 "metadata": {
  "kernelspec": {
   "display_name": "SageMath 10.6.beta6",
   "language": "sage",
   "name": "sagemath"
  },
  "language_info": {
   "codemirror_mode": {
    "name": "ipython",
    "version": 3
   },
   "file_extension": ".py",
   "mimetype": "text/x-python",
   "name": "python",
   "nbconvert_exporter": "python",
   "pygments_lexer": "ipython3",
   "version": "3.9.6"
  }
 },
 "nbformat": 4,
 "nbformat_minor": 5
}
