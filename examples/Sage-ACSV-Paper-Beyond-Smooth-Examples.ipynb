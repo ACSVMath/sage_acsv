{
 "cells": [
  {
   "cell_type": "markdown",
   "id": "045bfa18-2b09-48e8-a86f-1a62b99573c4",
   "metadata": {},
   "source": [
    "#### Examples from the paper:\n",
    "### \"A SageMath Package for Analytic Combinatorics in Several Variables: Beyond the Smooth Case\"\n",
    "#### By: Benjamin Hackl, Andrew Luo, Stephen Melczer, Éric Schost"
   ]
  },
  {
   "cell_type": "code",
   "execution_count": null,
   "id": "758ed891-d48b-4862-a092-a7c286ec3121",
   "metadata": {},
   "outputs": [],
   "source": [
    "%display typeset"
   ]
  },
  {
   "cell_type": "code",
   "execution_count": null,
   "id": "b12b97c8-c905-4cc3-b330-81609ba6499a",
   "metadata": {},
   "outputs": [],
   "source": [
    "from sage_acsv import diagonal_asy, get_coefficients"
   ]
  },
  {
   "cell_type": "code",
   "execution_count": null,
   "id": "3dd7f8df-5916-49a6-b0ce-a8d1f5b209dd",
   "metadata": {},
   "outputs": [],
   "source": [
    "var('x y z')"
   ]
  },
  {
   "cell_type": "markdown",
   "id": "a066660c-8d0d-46be-9d49-48231ad8ef3a",
   "metadata": {},
   "source": [
    "##### Example 4: binomial coefficients"
   ]
  },
  {
   "cell_type": "code",
   "execution_count": null,
   "id": "18422262-c223-47be-8ced-efb0863d3cb1",
   "metadata": {},
   "outputs": [],
   "source": [
    "diagonal_asy(1/(1 - x - y))"
   ]
  },
  {
   "cell_type": "code",
   "execution_count": null,
   "id": "baf7554d-4c49-483e-a35d-f716d39d4f3a",
   "metadata": {},
   "outputs": [],
   "source": [
    "diagonal_asy(1/(1 - x - y), r=[2, 1])"
   ]
  },
  {
   "cell_type": "code",
   "execution_count": null,
   "id": "fddea3d7-f857-4b94-bdb8-dcf91326de5b",
   "metadata": {},
   "outputs": [],
   "source": [
    "expansion = diagonal_asy(1/(1 - x - y), r=[2, 1])\n",
    "coefs = get_coefficients(expansion)\n",
    "main_term = coefs[0]; main_term"
   ]
  },
  {
   "cell_type": "code",
   "execution_count": null,
   "id": "ec4956d3-e76b-4412-913b-d19b73a2fcc1",
   "metadata": {},
   "outputs": [],
   "source": [
    "main_term.coefficient.radical_expression()"
   ]
  },
  {
   "cell_type": "markdown",
   "id": "df0e8e63-b029-4db6-aec6-303576725533",
   "metadata": {},
   "source": [
    "##### Example 5: winning choices in a given single player game"
   ]
  },
  {
   "cell_type": "code",
   "execution_count": null,
   "id": "89c339c8-2fb2-431c-83cd-c330eb1dd315",
   "metadata": {},
   "outputs": [],
   "source": [
    "F = 1/(1 - x/3 - 2*y/3)/(1 -2*x/3 - y/3)"
   ]
  },
  {
   "cell_type": "code",
   "execution_count": null,
   "id": "13c2c767-2645-4f05-95b5-7a175d0390b0",
   "metadata": {},
   "outputs": [],
   "source": [
    "diagonal_asy(F, r=[1, 3])"
   ]
  },
  {
   "cell_type": "code",
   "execution_count": null,
   "id": "00a6a4a2-2f07-41fe-a3a2-e07912c7d7a4",
   "metadata": {},
   "outputs": [],
   "source": [
    "diagonal_asy(F, r=[4, 1])"
   ]
  },
  {
   "cell_type": "code",
   "execution_count": null,
   "id": "57599dd2-fe6a-40f7-8f39-042dd325c589",
   "metadata": {},
   "outputs": [],
   "source": [
    "diagonal_asy(F, r=[1, 1])"
   ]
  },
  {
   "cell_type": "code",
   "execution_count": null,
   "id": "a798201a-0eca-40a2-8afe-d16ef3435572",
   "metadata": {},
   "outputs": [],
   "source": [
    "try:\n",
    "    diagonal_asy(F, r=[2, 1])\n",
    "except Exception as e:\n",
    "    print(e)"
   ]
  },
  {
   "cell_type": "markdown",
   "id": "e72e1fbc-db41-4dbb-87e6-d9af6dd2266e",
   "metadata": {},
   "source": [
    "##### Example 6: quarter plane lattice walk with steps (-1, -1), (1, -1), (0, 1)"
   ]
  },
  {
   "cell_type": "code",
   "execution_count": null,
   "id": "d4ae36c8-ed90-4dba-85a0-f5d1e811b3be",
   "metadata": {},
   "outputs": [],
   "source": [
    "F = (1 + x)*(2*z*x^2*y^2 + 2*z*y^2 - 1)/((-1 + y)*(z*x^2*y^2 + z*y^2 + z*x - 1)*(z*x^2*y^2 + z*y^2 - 1))"
   ]
  },
  {
   "cell_type": "code",
   "execution_count": null,
   "id": "92d59a8b-1028-44d3-b505-020726ac0d94",
   "metadata": {},
   "outputs": [],
   "source": [
    "diagonal_asy(F)"
   ]
  },
  {
   "cell_type": "code",
   "execution_count": null,
   "id": "e17ed0c1-507c-4ff2-88fc-08360566e394",
   "metadata": {},
   "outputs": [],
   "source": [
    "expansion = diagonal_asy(F, expansion_precision=2)\n",
    "expansion"
   ]
  },
  {
   "cell_type": "code",
   "execution_count": null,
   "id": "40e5ac16-3d66-4f0a-80f5-db3170fd25c0",
   "metadata": {},
   "outputs": [],
   "source": [
    "terms = get_coefficients(expansion)\n",
    "for term in terms:\n",
    "    print((term.coefficient.radical_expression(), term.base.radical_expression()))"
   ]
  },
  {
   "cell_type": "code",
   "execution_count": null,
   "id": "4782d64c-6794-4f4b-a3f4-9e35485e08e2",
   "metadata": {},
   "outputs": [],
   "source": []
  }
 ],
 "metadata": {
  "kernelspec": {
   "display_name": "SageMath 10.6.beta6",
   "language": "sage",
   "name": "sagemath"
  },
  "language_info": {
   "codemirror_mode": {
    "name": "ipython",
    "version": 3
   },
   "file_extension": ".py",
   "mimetype": "text/x-python",
   "name": "python",
   "nbconvert_exporter": "python",
   "pygments_lexer": "ipython3",
   "version": "3.9.6"
  }
 },
 "nbformat": 4,
 "nbformat_minor": 5
}
