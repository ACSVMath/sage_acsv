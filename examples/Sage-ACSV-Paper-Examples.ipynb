{
 "cells": [
  {
   "cell_type": "markdown",
   "metadata": {},
   "source": [
    "#### Examples from the paper:\n",
    "### \"Rigorous Analytic Combinatorics in Several Variables in SageMath\"\n",
    "#### By: Benjamin Hackl, Andrew Luo, Stephen Melczer, Jesse Selover, Elaine Wong"
   ]
  },
  {
   "cell_type": "code",
   "execution_count": 1,
   "metadata": {},
   "outputs": [],
   "source": [
    "from sage_acsv import diagonal_asy"
   ]
  },
  {
   "cell_type": "code",
   "execution_count": 2,
   "metadata": {
    "scrolled": true
   },
   "outputs": [
    {
     "data": {
      "text/plain": [
       "(x, y, w, z, n, t, lambda_)"
      ]
     },
     "execution_count": 2,
     "metadata": {},
     "output_type": "execute_result"
    }
   ],
   "source": [
    "# Make variables to be used later\n",
    "var('x,y,w,z,n,t,lambda_')"
   ]
  },
  {
   "cell_type": "code",
   "execution_count": 4,
   "metadata": {},
   "outputs": [
    {
     "data": {
      "text/plain": [
       "4^n/(sqrt(pi)*sqrt(n))"
      ]
     },
     "execution_count": 4,
     "metadata": {},
     "output_type": "execute_result"
    }
   ],
   "source": [
    "# Example 2: Binomial coefficients\n",
    "F = 1/(1-x-y)\n",
    "diagonal_asy(F, as_symbolic=True)"
   ]
  },
  {
   "cell_type": "code",
   "execution_count": 6,
   "metadata": {},
   "outputs": [
    {
     "data": {
      "text/plain": [
       "1.225275868941647?*33.97056274847714?^n/(pi^1.5*n^1.5)"
      ]
     },
     "execution_count": 6,
     "metadata": {},
     "output_type": "execute_result"
    }
   ],
   "source": [
    "# Example 3: Apéry sequence (on main diagonal)\n",
    "F = 1/(1 - w*(1 + x)*(1 + y)*(1 + z)*(x*y*z + y*z + y + z + 1))\n",
    "diagonal_asy(F, as_symbolic=True)"
   ]
  },
  {
   "cell_type": "code",
   "execution_count": 7,
   "metadata": {},
   "outputs": [
    {
     "data": {
      "text/html": [
       "<html><script type=\"math/tex; mode=display\">\\newcommand{\\Bold}[1]{\\mathbf{#1}}\\frac{{\\left(12 \\, \\sqrt{2} + 17\\right)}^{n} \\sqrt{\\frac{17}{2} \\, \\sqrt{2} + 12}}{4 \\, \\pi^{1.5} n^{1.5}}</script></html>"
      ],
      "text/latex": [
       "$$\\newcommand{\\Bold}[1]{\\mathbf{#1}}\\frac{{\\left(12 \\, \\sqrt{2} + 17\\right)}^{n} \\sqrt{\\frac{17}{2} \\, \\sqrt{2} + 12}}{4 \\, \\pi^{1.5} n^{1.5}}$$"
      ],
      "text/plain": [
       "1/4*(12*sqrt(2) + 17)^n*sqrt(17/2*sqrt(2) + 12)/(pi^1.5*n^1.5)"
      ]
     },
     "metadata": {},
     "output_type": "display_data"
    }
   ],
   "source": [
    "# Example 3 continued: The quantities here are algebraic of degree two,\n",
    "# so we can represent them in terms of radicals\n",
    "asm_vals = diagonal_asy(F)\n",
    "show(add([a.radical_expression()^n*b*c*d.radical_expression() for (a,b,c,d) in asm_vals]))"
   ]
  },
  {
   "cell_type": "code",
   "execution_count": 8,
   "metadata": {},
   "outputs": [
    {
     "data": {
      "text/plain": [
       "0.9430514023983397?*4.518911369262258?^n/(sqrt(pi)*sqrt(n))"
      ]
     },
     "execution_count": 8,
     "metadata": {},
     "output_type": "execute_result"
    }
   ],
   "source": [
    "# Example 7: Pemantle and Wilson Sequence Alignment\n",
    "F = (x^2*y^2-x*y+1)/(1-(x+y+x*y-x*y^2-x^2*y+x^2*y^3+x^3*y^2))\n",
    "diagonal_asy(F, as_symbolic=True)"
   ]
  },
  {
   "cell_type": "code",
   "execution_count": 9,
   "metadata": {},
   "outputs": [
    {
     "name": "stdout",
     "output_type": "stream",
     "text": [
      "u_^8 - 18*u_^7 + 146*u_^6 - 692*u_^5 + 2067*u_^4 - 3922*u_^3 + 4553*u_^2 - 2925*u_ + 790\n",
      "[10*u_^7 - 153*u_^6 + 1046*u_^5 - 4081*u_^4 + 9589*u_^3 - 13270*u_^2 + 9844*u_ - 2985, 10*u_^7 - 154*u_^6 + 1061*u_^5 - 4180*u_^4 + 9954*u_^3 - 14044*u_^2 + 10714*u_ - 3380, -u_^7 + 11*u_^6 - 56*u_^5 + 157*u_^4 - 182*u_^3 - 140*u_^2 + 527*u_ - 335, 8*u_^7 - 139*u_^6 + 1030*u_^5 - 4187*u_^4 + 10021*u_^3 - 14048*u_^2 + 10631*u_ - 3335, -12*u_^7 + 181*u_^6 - 1231*u_^5 + 4801*u_^4 - 11275*u_^3 + 15548*u_^2 - 11452*u_ + 3440]\n"
     ]
    }
   ],
   "source": [
    "# Example 12: Kronecker Representation\n",
    "from sage_acsv import kronecker\n",
    "# Extended Critical Point System\n",
    "ECPS = [x*y*z - x*z + x - lambda_, x*y*z - y*z + y - lambda_, x*y*z - x*z - y*z + z - lambda_,\n",
    "x*y*z - x*z - y*z + x + y + z - 1,x*y*z*t^3 - x*z*t^2 - y*z*t^2 + x*t + y*t + z*t -1]\n",
    "# Choose u = x + t as the linear form\n",
    "P, Qs = kronecker(ECPS, [x, y, z, t, lambda_], x + t)\n",
    "print(P)\n",
    "print(Qs)"
   ]
  },
  {
   "cell_type": "code",
   "execution_count": 10,
   "metadata": {},
   "outputs": [
    {
     "name": "stdout",
     "output_type": "stream",
     "text": [
      "[[0.3819660112501051?, 0.3819660112501051?, 0.618033988749895?]]\n"
     ]
    }
   ],
   "source": [
    "# Example 12: Identifying minimal critical points from the Kronecker Representation\n",
    "#\n",
    "# Using Sage's solver over the Real Algebraic Field we can determine the real roots of P(u),\n",
    "# then identify which correspond to critical points with positive real coordinates, filter out \n",
    "# those that are not minimal by examining solutions with t coordinate in (0, 1), and \n",
    "# identify which critical points have the same coordinate-wise modulus.\n",
    "#\n",
    "# All of these computations have been implemented in the function MinimalCriticalCombinatorial.\n",
    "\n",
    "# Here, we use the P and Qs computed above\n",
    "Qt = Qs[-2]  # Qs ordering is H.variables() + [t, lambda_]\n",
    "Pd = P.derivative()\n",
    "one_minus_t = gcd(Pd - Qt, P)\n",
    "\n",
    "# Real roots of P(u) corresponding to critical points with positive real coordinates\n",
    "pos_minimals = []\n",
    "for u in one_minus_t.roots(AA, multiplicities=False):\n",
    "    is_min = True\n",
    "    v = [(q/Pd).subs(u_=u) for q in Qs[0:-2]]\n",
    "    if any([k <= 0 for k in v]):\n",
    "        continue\n",
    "    if is_min:\n",
    "        pos_minimals.append(u)\n",
    "    \n",
    "minCP = [(q/Pd).subs(u_=pos_minimals[0]) for q in Qs[0:-2]]\n",
    "\n",
    "# Filtering out non-minimal roots from minCP\n",
    "minimals = []\n",
    "for u in one_minus_t.roots(QQbar, multiplicities=False):\n",
    "    v = [(q/Pd).subs(u_=u) for q in Qs[0:-2]]\n",
    "    if all([a.abs() == b.abs() for (a, b) in zip(minCP, v)]):\n",
    "        minimals.append(u)\n",
    "\n",
    "minimal_coords = [[(q/Pd).subs(u_=u) for q in Qs[0:-2]] for u in minimals]\n",
    "\n",
    "print(minimal_coords)"
   ]
  },
  {
   "cell_type": "code",
   "execution_count": 10,
   "metadata": {},
   "outputs": [
    {
     "name": "stdout",
     "output_type": "stream",
     "text": [
      "[[0.3819660112501051?, 0.3819660112501051?, 0.618033988749895?]]\n"
     ]
    }
   ],
   "source": [
    "# Actual output from MinimialCriticalCombinatorial for the previous example\n",
    "R.<x, y, z, lambda_, t, u_> = QQ[]\n",
    "from sage_acsv import MinimalCriticalCombinatorial\n",
    "print(MinimalCriticalCombinatorial(1,1-x-y-z*(1-x)*(1-y),([x, y, z], lambda_, t, u_)))"
   ]
  },
  {
   "cell_type": "code",
   "execution_count": 11,
   "metadata": {},
   "outputs": [
    {
     "data": {
      "text/plain": [
       "1.113516364411607?*11.09016994374948?^n/(pi^1.0*n^1.0)"
      ]
     },
     "execution_count": 11,
     "metadata": {},
     "output_type": "execute_result"
    }
   ],
   "source": [
    "# Actual asympototics for the previous example\n",
    "F = 1/(1-x-y-z*(1-x)*(1-y))\n",
    "diagonal_asy(F, as_symbolic=True)"
   ]
  },
  {
   "cell_type": "code",
   "execution_count": null,
   "metadata": {},
   "outputs": [],
   "source": []
  }
 ],
 "metadata": {
  "@webio": {
   "lastCommId": null,
   "lastKernelId": null
  },
  "kernelspec": {
   "display_name": "SageMath 10.2",
   "language": "sage",
   "name": "sagemath"
  },
  "language_info": {
   "codemirror_mode": {
    "name": "ipython",
    "version": 3
   },
   "file_extension": ".py",
   "mimetype": "text/x-python",
   "name": "python",
   "nbconvert_exporter": "python",
   "pygments_lexer": "ipython3",
   "version": "3.11.1"
  }
 },
 "nbformat": 4,
 "nbformat_minor": 4
}
