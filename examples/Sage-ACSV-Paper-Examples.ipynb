{
 "cells": [
  {
   "cell_type": "markdown",
   "metadata": {},
   "source": [
    "#### Examples from the paper:\n",
    "### \"Rigorous Analytic Combinatorics in Several Variables in SageMath\"\n",
    "#### By: Benjamin Hackl, Andrew Luo, Stephen Melczer, Jesse Selover, Elaine Wong"
   ]
  },
  {
   "cell_type": "code",
   "execution_count": null,
   "metadata": {},
   "outputs": [],
   "source": [
    "from sage_acsv import diagonal_asymptotics_combinatorial as diagonal"
   ]
  },
  {
   "cell_type": "code",
   "execution_count": null,
   "metadata": {
    "scrolled": true
   },
   "outputs": [],
   "source": [
    "# Make variables to be used later\n",
    "var('x,y,w,z,n,t,lambda_')"
   ]
  },
  {
   "cell_type": "code",
   "execution_count": null,
   "metadata": {},
   "outputs": [],
   "source": [
    "# Example 2: Binomial coefficients\n",
    "F = 1/(1-x-y)\n",
    "diagonal(F, as_symbolic=True)"
   ]
  },
  {
   "cell_type": "code",
   "execution_count": null,
   "metadata": {},
   "outputs": [],
   "source": [
    "# Example 3: Apéry sequence (on main diagonal)\n",
    "F = 1/(1 - w*(1 + x)*(1 + y)*(1 + z)*(x*y*z + y*z + y + z + 1))\n",
    "diagonal(F, as_symbolic=True)"
   ]
  },
  {
   "cell_type": "code",
   "execution_count": null,
   "metadata": {},
   "outputs": [],
   "source": [
    "# Example 3 continued: The quantities here are algebraic of degree two,\n",
    "# so we can represent them in terms of radicals\n",
    "asm_vals = diagonal(F)\n",
    "show(add([a.radical_expression()^n*b*c*d.radical_expression() for (a,b,c,d) in asm_vals]))"
   ]
  },
  {
   "cell_type": "code",
   "execution_count": null,
   "metadata": {},
   "outputs": [],
   "source": [
    "# Example 7: Pemantle and Wilson Sequence Alignment\n",
    "F = (x^2*y^2-x*y+1)/(1-(x+y+x*y-x*y^2-x^2*y+x^2*y^3+x^3*y^2))\n",
    "diagonal(F, as_symbolic=True)"
   ]
  },
  {
   "cell_type": "code",
   "execution_count": null,
   "metadata": {},
   "outputs": [],
   "source": [
    "# Example 12: Kronecker Representation\n",
    "from sage_acsv import kronecker_representation\n",
    "# Extended Critical Point System\n",
    "ECPS = [x*y*z - x*z + x - lambda_, x*y*z - y*z + y - lambda_, x*y*z - x*z - y*z + z - lambda_,\n",
    "x*y*z - x*z - y*z + x + y + z - 1,x*y*z*t^3 - x*z*t^2 - y*z*t^2 + x*t + y*t + z*t -1]\n",
    "# Choose u = x + t as the linear form\n",
    "P, Qs = kronecker_representation(ECPS, [x, y, z, t, lambda_], x + t)\n",
    "print(P)\n",
    "print(Qs)"
   ]
  },
  {
   "cell_type": "code",
   "execution_count": null,
   "metadata": {},
   "outputs": [],
   "source": [
    "# Example 12: Identifying minimal critical points from the Kronecker Representation\n",
    "#\n",
    "# Using Sage's solver over the Real Algebraic Field we can determine the real roots of P(u),\n",
    "# then identify which correspond to critical points with positive real coordinates, filter out \n",
    "# those that are not minimal by examining solutions with t coordinate in (0, 1), and \n",
    "# identify which critical points have the same coordinate-wise modulus.\n",
    "#\n",
    "# All of these computations have been implemented in the function minimal_critical_points_combinatorial.\n",
    "\n",
    "# Here, we use the P and Qs computed above\n",
    "Qt = Qs[-2]  # Qs ordering is H.variables() + [t, lambda_]\n",
    "Pd = P.derivative()\n",
    "one_minus_t = gcd(Pd - Qt, P)\n",
    "\n",
    "# Real roots of P(u) corresponding to critical points with positive real coordinates\n",
    "pos_minimals = []\n",
    "for u in one_minus_t.roots(AA, multiplicities=False):\n",
    "    is_min = True\n",
    "    v = [(q/Pd).subs(u_=u) for q in Qs[0:-2]]\n",
    "    if any([k <= 0 for k in v]):\n",
    "        continue\n",
    "    if is_min:\n",
    "        pos_minimals.append(u)\n",
    "    \n",
    "minCP = [(q/Pd).subs(u_=pos_minimals[0]) for q in Qs[0:-2]]\n",
    "\n",
    "# Filtering out non-minimal roots from minCP\n",
    "minimals = []\n",
    "for u in one_minus_t.roots(QQbar, multiplicities=False):\n",
    "    v = [(q/Pd).subs(u_=u) for q in Qs[0:-2]]\n",
    "    if all([a.abs() == b.abs() for (a, b) in zip(minCP, v)]):\n",
    "        minimals.append(u)\n",
    "\n",
    "minimal_coords = [[(q/Pd).subs(u_=u) for q in Qs[0:-2]] for u in minimals]\n",
    "\n",
    "print(minimal_coords)"
   ]
  },
  {
   "cell_type": "code",
   "execution_count": null,
   "metadata": {},
   "outputs": [],
   "source": [
    "# Actual output from MinimialCriticalCombinatorial for the previous example\n",
    "R.<x, y, z, lambda_, t, u_> = QQ[]\n",
    "from sage_acsv import minimal_critical_points_combinatorial\n",
    "print(minimal_critical_points_combinatorial(1,1-x-y-z*(1-x)*(1-y),([x, y, z], lambda_, t, u_)))"
   ]
  },
  {
   "cell_type": "code",
   "execution_count": null,
   "metadata": {},
   "outputs": [],
   "source": [
    "# Actual asympototics for the previous example\n",
    "F = 1/(1-x-y-z*(1-x)*(1-y))\n",
    "diagonal(F, as_symbolic=True)"
   ]
  },
  {
   "cell_type": "code",
   "execution_count": null,
   "metadata": {},
   "outputs": [],
   "source": []
  }
 ],
 "metadata": {
  "@webio": {
   "lastCommId": null,
   "lastKernelId": null
  },
  "kernelspec": {
   "display_name": "SageMath 10.2",
   "language": "sage",
   "name": "sagemath"
  },
  "language_info": {
   "codemirror_mode": {
    "name": "ipython",
    "version": 3
   },
   "file_extension": ".py",
   "mimetype": "text/x-python",
   "name": "python",
   "nbconvert_exporter": "python",
   "pygments_lexer": "ipython3",
   "version": "3.11.1"
  }
 },
 "nbformat": 4,
 "nbformat_minor": 4
}
