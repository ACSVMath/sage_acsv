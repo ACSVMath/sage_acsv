{
 "cells": [
  {
   "cell_type": "markdown",
   "metadata": {},
   "source": [
    "#### Examples from the paper:\n",
    "### \"Rigorous Analytic Combinatorics in Several Variables in SageMath\"\n",
    "#### By: Benjamin Hackl, Andrew Luo, Stephen Melczer, Jesse Selover, Elaine Wong"
   ]
  },
  {
   "cell_type": "code",
   "execution_count": 1,
   "metadata": {},
   "outputs": [],
   "source": [
    "from sage_acsv import diagonal_asy"
   ]
  },
  {
   "cell_type": "code",
   "execution_count": 2,
   "metadata": {
    "scrolled": true
   },
   "outputs": [
    {
     "data": {
      "text/plain": [
       "(x, y, w, z, n, t, lambda_)"
      ]
     },
     "execution_count": 2,
     "metadata": {},
     "output_type": "execute_result"
    }
   ],
   "source": [
    "# Make variables to be used later\n",
    "var('x,y,w,z,n,t,lambda_')"
   ]
  },
  {
   "cell_type": "code",
   "execution_count": 3,
   "metadata": {},
   "outputs": [
    {
     "data": {
      "text/plain": [
       "4^n/(sqrt(pi)*sqrt(n))"
      ]
     },
     "execution_count": 3,
     "metadata": {},
     "output_type": "execute_result"
    }
   ],
   "source": [
    "# Example 2: Binomial coefficients\n",
    "F = 1/(1-x-y)\n",
    "diagonal_asy(F, as_symbolic=True)"
   ]
  },
  {
   "cell_type": "code",
   "execution_count": 5,
   "metadata": {},
   "outputs": [
    {
     "data": {
      "text/plain": [
       "1.225275868941647?*33.97056274847714?^n/(pi^1.5*n^1.5)"
      ]
     },
     "execution_count": 5,
     "metadata": {},
     "output_type": "execute_result"
    }
   ],
   "source": [
    "# Example 3: Apéry sequence (on main diagonal)\n",
    "F = 1/(1 - w*(1 + x)*(1 + y)*(1 + z)*(x*y*z + y*z + y + z + 1))\n",
    "diagonal_asy(F, as_symbolic=True)"
   ]
  },
  {
   "cell_type": "code",
   "execution_count": 6,
   "metadata": {},
   "outputs": [
    {
     "data": {
      "text/html": [
       "<html><script type=\"math/tex; mode=display\">\\newcommand{\\Bold}[1]{\\mathbf{#1}}\\frac{{\\left(12 \\, \\sqrt{2} + 17\\right)}^{n} \\sqrt{\\frac{17}{2} \\, \\sqrt{2} + 12}}{4 \\, \\pi^{1.5} n^{1.5}}</script></html>"
      ],
      "text/latex": [
       "$$\\newcommand{\\Bold}[1]{\\mathbf{#1}}\\frac{{\\left(12 \\, \\sqrt{2} + 17\\right)}^{n} \\sqrt{\\frac{17}{2} \\, \\sqrt{2} + 12}}{4 \\, \\pi^{1.5} n^{1.5}}$$"
      ],
      "text/plain": [
       "1/4*(12*sqrt(2) + 17)^n*sqrt(17/2*sqrt(2) + 12)/(pi^1.5*n^1.5)"
      ]
     },
     "metadata": {},
     "output_type": "display_data"
    }
   ],
   "source": [
    "# Example 3 continued: The quantities here are algebraic of degree two,\n",
    "# so we can represent them in terms of radicals\n",
    "asm_vals = diagonal_asy(F)\n",
    "show(add([a.radical_expression()^n*b*c*d.radical_expression() for (a,b,c,d) in asm_vals]))"
   ]
  },
  {
   "cell_type": "code",
   "execution_count": 7,
   "metadata": {},
   "outputs": [
    {
     "data": {
      "text/plain": [
       "0.9430514023983397?*4.518911369262258?^n/(sqrt(pi)*sqrt(n))"
      ]
     },
     "execution_count": 7,
     "metadata": {},
     "output_type": "execute_result"
    }
   ],
   "source": [
    "# Example 7: Pemantle and Wilson Sequence Alignment\n",
    "F = (x^2*y^2-x*y+1)/(1-(x+y+x*y-x*y^2-x^2*y+x^2*y^3+x^3*y^2))\n",
    "diagonal_asy(F, as_symbolic=True)"
   ]
  },
  {
   "cell_type": "code",
   "execution_count": 8,
   "metadata": {},
   "outputs": [
    {
     "data": {
      "text/plain": [
       "(u_^8 - 18*u_^7 + 146*u_^6 - 692*u_^5 + 2067*u_^4 - 3922*u_^3 + 4553*u_^2 - 2925*u_ + 790,\n",
       " [10*u_^7 - 153*u_^6 + 1046*u_^5 - 4081*u_^4 + 9589*u_^3 - 13270*u_^2 + 9844*u_ - 2985,\n",
       "  10*u_^7 - 154*u_^6 + 1061*u_^5 - 4180*u_^4 + 9954*u_^3 - 14044*u_^2 + 10714*u_ - 3380,\n",
       "  -u_^7 + 11*u_^6 - 56*u_^5 + 157*u_^4 - 182*u_^3 - 140*u_^2 + 527*u_ - 335,\n",
       "  8*u_^7 - 139*u_^6 + 1030*u_^5 - 4187*u_^4 + 10021*u_^3 - 14048*u_^2 + 10631*u_ - 3335,\n",
       "  -12*u_^7 + 181*u_^6 - 1231*u_^5 + 4801*u_^4 - 11275*u_^3 + 15548*u_^2 - 11452*u_ + 3440])"
      ]
     },
     "execution_count": 8,
     "metadata": {},
     "output_type": "execute_result"
    }
   ],
   "source": [
    "# Example 12: Krnonecker Representation\n",
    "from sage_acsv import kronecker\n",
    "# Extended Critical Point System\n",
    "ECPS = [x*y*z - x*z + x - lambda_, x*y*z - y*z + y - lambda_, x*y*z - x*z - y*z + z - lambda_,\n",
    "x*y*z - x*z - y*z + x + y + z - 1,x*y*z*t^3 - x*z*t^2 - y*z*t^2 + x*t + y*t + z*t -1]\n",
    "# Choose u = x + t as the linear form\n",
    "kronecker(ECPS, [x, y, z, t, lambda_], x + t)"
   ]
  },
  {
   "cell_type": "code",
   "execution_count": null,
   "metadata": {},
   "outputs": [],
   "source": []
  }
 ],
 "metadata": {
  "@webio": {
   "lastCommId": null,
   "lastKernelId": null
  },
  "kernelspec": {
   "display_name": "SageMath 9.5",
   "language": "sage",
   "name": "sagemath"
  },
  "language_info": {
   "codemirror_mode": {
    "name": "ipython",
    "version": 3
   },
   "file_extension": ".py",
   "mimetype": "text/x-python",
   "name": "python",
   "nbconvert_exporter": "python",
   "pygments_lexer": "ipython3",
   "version": "3.10.6"
  }
 },
 "nbformat": 4,
 "nbformat_minor": 4
}
