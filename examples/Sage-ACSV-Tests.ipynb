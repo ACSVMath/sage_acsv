{
 "cells": [
  {
   "cell_type": "code",
   "execution_count": 1,
   "metadata": {},
   "outputs": [],
   "source": [
    "from sage_acsv import diagonal_asy"
   ]
  },
  {
   "cell_type": "code",
   "execution_count": 2,
   "metadata": {},
   "outputs": [
    {
     "data": {
      "text/plain": [
       "(x, y, w, z, n)"
      ]
     },
     "execution_count": 2,
     "metadata": {},
     "output_type": "execute_result"
    }
   ],
   "source": [
    "# Make variables to be used later\n",
    "var('x,y,w,z,n')"
   ]
  },
  {
   "cell_type": "code",
   "execution_count": 3,
   "metadata": {},
   "outputs": [
    {
     "name": "stdout",
     "output_type": "stream",
     "text": [
      "2*u_ - 17\n",
      "[1, 1, 2, 1]\n"
     ]
    },
    {
     "data": {
      "text/plain": [
       "4^n/(sqrt(pi)*sqrt(n))"
      ]
     },
     "execution_count": 3,
     "metadata": {},
     "output_type": "execute_result"
    }
   ],
   "source": [
    "# Binomial coefficients\n",
    "F1 = 1/(1-x-y)\n",
    "diagonal_asy(F1, as_symbolic=True, use_msolve=False)"
   ]
  },
  {
   "cell_type": "code",
   "execution_count": 4,
   "metadata": {},
   "outputs": [
    {
     "name": "stdout",
     "output_type": "stream",
     "text": [
      "2*u_ - 1\n",
      "[1, 1, 2, -2*u_]\n"
     ]
    },
    {
     "data": {
      "text/plain": [
       "4^n/(sqrt(pi)*sqrt(n))"
      ]
     },
     "execution_count": 4,
     "metadata": {},
     "output_type": "execute_result"
    }
   ],
   "source": [
    "# Binomial coefficients\n",
    "F1 = 1/(1-x-y)\n",
    "diagonal_asy(F1, as_symbolic=True, use_msolve=True)"
   ]
  },
  {
   "cell_type": "code",
   "execution_count": 6,
   "metadata": {},
   "outputs": [
    {
     "name": "stdout",
     "output_type": "stream",
     "text": [
      "u_^8 + 120*u_^7 + 7118*u_^6 + 262620*u_^5 + 5708481*u_^4 + 61978860*u_^3 - 288730156*u_^2 - 15678691680*u_ + 31916262400\n",
      "[-8*u_^6 - 720*u_^5 - 28380*u_^4 - 622800*u_^3 - 18113604*u_^2 - 360348120*u_ - 3172580200, -32*u_^6 - 2880*u_^5 - 113520*u_^4 - 2491200*u_^3 - 72454416*u_^2 - 1441392480*u_ - 12690320800, -32*u_^6 - 2880*u_^5 - 113520*u_^4 - 2491200*u_^3 - 72454416*u_^2 - 1441392480*u_ - 12690320800, 84*u_^6 + 7560*u_^5 + 171024*u_^4 - 1078560*u_^3 - 201505332*u_^2 - 4539207960*u_ + 25774845600, 8*u_^7 + 840*u_^6 + 42708*u_^5 + 1313100*u_^4 + 22833924*u_^3 + 185936580*u_^2 - 577460312*u_ - 15678691680]\n"
     ]
    },
    {
     "data": {
      "text/plain": [
       "4*4^n/(pi*n)"
      ]
     },
     "execution_count": 6,
     "metadata": {},
     "output_type": "execute_result"
    }
   ],
   "source": [
    "# Lattice paths enumeration sequence (on main diagonal)\n",
    "F2 = (1+x)*(1+y)/(1-w*x*y*(x+y+1/x+1/y))\n",
    "diagonal_asy(F2, as_symbolic=True)"
   ]
  },
  {
   "cell_type": "code",
   "execution_count": 5,
   "metadata": {},
   "outputs": [
    {
     "data": {
      "text/plain": [
       "1.225275868941647?*33.97056274847714?^n/(pi^1.5*n^1.5)"
      ]
     },
     "execution_count": 5,
     "metadata": {},
     "output_type": "execute_result"
    }
   ],
   "source": [
    "# Apéry sequence (on main diagonal)\n",
    "F3 = 1/(1 - w*(1 + x)*(1 + y)*(1 + z)*(x*y*z + y*z + y + z + 1))\n",
    "diagonal_asy(F3, as_symbolic=True)"
   ]
  },
  {
   "cell_type": "code",
   "execution_count": 6,
   "metadata": {},
   "outputs": [
    {
     "data": {
      "text/html": [
       "<html>\\(\\displaystyle \\frac{{\\left(12 \\, \\sqrt{2} + 17\\right)}^{n} \\sqrt{\\frac{17}{2} \\, \\sqrt{2} + 12}}{4 \\, \\pi^{1.5} n^{1.5}}\\)</html>"
      ],
      "text/latex": [
       "$\\displaystyle \\frac{{\\left(12 \\, \\sqrt{2} + 17\\right)}^{n} \\sqrt{\\frac{17}{2} \\, \\sqrt{2} + 12}}{4 \\, \\pi^{1.5} n^{1.5}}$"
      ],
      "text/plain": [
       "1/4*(12*sqrt(2) + 17)^n*sqrt(17/2*sqrt(2) + 12)/(pi^1.5*n^1.5)"
      ]
     },
     "metadata": {},
     "output_type": "display_data"
    }
   ],
   "source": [
    "# The quantities here are algebraic of degree two, so we can represent them in radicals\n",
    "asm_vals = diagonal_asy(F3)\n",
    "show(add([a.radical_expression()^n*b*c*d.radical_expression() for (a,b,c,d) in asm_vals]))"
   ]
  },
  {
   "cell_type": "code",
   "execution_count": 7,
   "metadata": {},
   "outputs": [
    {
     "data": {
      "text/plain": [
       "0.09677555757474702?*5.884442204019508?^n/(sqrt(pi)*sqrt(n))"
      ]
     },
     "execution_count": 7,
     "metadata": {},
     "output_type": "execute_result"
    }
   ],
   "source": [
    "# Example with two critical points with positive coords, neither of which is obviously non-minimal\n",
    "F4 = -1/(1-(1-x-y)*(20-x-40*y))\n",
    "diagonal_asy(F4, as_symbolic=True)"
   ]
  },
  {
   "cell_type": "code",
   "execution_count": 8,
   "metadata": {},
   "outputs": [
    {
     "name": "stdout",
     "output_type": "stream",
     "text": [
      "No result was computed: No smooth minimal critical points found.\n"
     ]
    }
   ],
   "source": [
    "# Example with no critical points in (1,1)-direction\n",
    "F5 = 1/(x^4*y + x^3*y + x^2*y + x*y - 1)\n",
    "try:\n",
    "    diagonal_asy(F5, as_symbolic=True)\n",
    "except Exception as e:\n",
    "    print(f\"No result was computed: {e}\")"
   ]
  },
  {
   "cell_type": "code",
   "execution_count": 9,
   "metadata": {},
   "outputs": [
    {
     "name": "stdout",
     "output_type": "stream",
     "text": [
      "No result was computed: No smooth minimal critical points found.\n"
     ]
    }
   ],
   "source": [
    "# Another example with no critical points \n",
    "F6 = 1/((-x + 1)^4 - x*y*(x^3 + x^2*y - x^2 - x + 1))\n",
    "try:\n",
    "    diagonal_asy(F6, as_symbolic=True)\n",
    "except Exception as e:\n",
    "    print(f\"No result was computed: {e}\")"
   ]
  },
  {
   "cell_type": "code",
   "execution_count": 10,
   "metadata": {},
   "outputs": [
    {
     "data": {
      "text/plain": [
       "1.015051765128218?*5.828427124746190?^n/(sqrt(pi)*sqrt(n))"
      ]
     },
     "execution_count": 10,
     "metadata": {},
     "output_type": "execute_result"
    }
   ],
   "source": [
    "# Delannoy generating function\n",
    "F7 = 1/(1 - x - y - x*y)\n",
    "diagonal_asy(F7, as_symbolic=True)"
   ]
  },
  {
   "cell_type": "code",
   "execution_count": 11,
   "metadata": {},
   "outputs": [
    {
     "data": {
      "text/plain": [
       "1/7*(0.6234898018587335? + 0.7818314824680299?*I)^n + 1/7*(0.6234898018587335? - 0.7818314824680299?*I)^n + 1/7*(-0.2225209339563144? + 0.9749279121818236?*I)^n + 1/7*(-0.2225209339563144? - 0.9749279121818236?*I)^n + 1/7*(-0.9009688679024191? + 0.4338837391175581?*I)^n + 1/7*(-0.9009688679024191? - 0.4338837391175581?*I)^n + 1/7"
      ]
     },
     "execution_count": 11,
     "metadata": {},
     "output_type": "execute_result"
    }
   ],
   "source": [
    "# One variable example with many minimal critical points on same torus\n",
    "F8 = 1/(1 - x^7)\n",
    "diagonal_asy(F8, as_symbolic=True)"
   ]
  },
  {
   "cell_type": "code",
   "execution_count": 12,
   "metadata": {},
   "outputs": [
    {
     "data": {
      "text/plain": [
       "([(1.285654384750451?, 1, 1, 0.03396226416457560?)], [[0.7778140158516262?]])"
      ]
     },
     "execution_count": 12,
     "metadata": {},
     "output_type": "execute_result"
    }
   ],
   "source": [
    "# One variable example having singularities with close moduli\n",
    "F9 = 1/(8 - 17*x^3 - 9*x^2 + 7*x)\n",
    "diagonal_asy(F9, return_points=True)"
   ]
  },
  {
   "cell_type": "code",
   "execution_count": 13,
   "metadata": {},
   "outputs": [
    {
     "data": {
      "text/plain": [
       "0.9430514023983397?*4.518911369262258?^n/(sqrt(pi)*sqrt(n))"
      ]
     },
     "execution_count": 13,
     "metadata": {},
     "output_type": "execute_result"
    }
   ],
   "source": [
    "F10 = (x^2*y^2 - x*y + 1)/(1-x-y-x*y+x*y^2+x^2*y-x^2*y^3-x^3*y^2)\n",
    "diagonal_asy(F10, as_symbolic=True)"
   ]
  },
  {
   "cell_type": "code",
   "execution_count": 5,
   "metadata": {},
   "outputs": [
    {
     "ename": "KeyboardInterrupt",
     "evalue": "",
     "output_type": "error",
     "traceback": [
      "\u001b[0;31m---------------------------------------------------------------------------\u001b[0m",
      "\u001b[0;31mKeyboardInterrupt\u001b[0m                         Traceback (most recent call last)",
      "Cell \u001b[0;32mIn [5], line 3\u001b[0m\n\u001b[1;32m      1\u001b[0m \u001b[38;5;66;03m#Does not finish computing (hangs on computing GB for critical point system)\u001b[39;00m\n\u001b[1;32m      2\u001b[0m F \u001b[38;5;241m=\u001b[39m (Integer(\u001b[38;5;241m1\u001b[39m)\u001b[38;5;241m-\u001b[39mx\u001b[38;5;241m*\u001b[39m\u001b[38;5;241m*\u001b[39mInteger(\u001b[38;5;241m3\u001b[39m)\u001b[38;5;241m*\u001b[39my\u001b[38;5;241m*\u001b[39m\u001b[38;5;241m*\u001b[39mInteger(\u001b[38;5;241m6\u001b[39m)\u001b[38;5;241m+\u001b[39mx\u001b[38;5;241m*\u001b[39m\u001b[38;5;241m*\u001b[39mInteger(\u001b[38;5;241m3\u001b[39m)\u001b[38;5;241m*\u001b[39my\u001b[38;5;241m*\u001b[39m\u001b[38;5;241m*\u001b[39mInteger(\u001b[38;5;241m4\u001b[39m)\u001b[38;5;241m+\u001b[39mx\u001b[38;5;241m*\u001b[39m\u001b[38;5;241m*\u001b[39mInteger(\u001b[38;5;241m2\u001b[39m)\u001b[38;5;241m*\u001b[39my\u001b[38;5;241m*\u001b[39m\u001b[38;5;241m*\u001b[39mInteger(\u001b[38;5;241m4\u001b[39m)\u001b[38;5;241m+\u001b[39mx\u001b[38;5;241m*\u001b[39m\u001b[38;5;241m*\u001b[39mInteger(\u001b[38;5;241m2\u001b[39m)\u001b[38;5;241m*\u001b[39my\u001b[38;5;241m*\u001b[39m\u001b[38;5;241m*\u001b[39mInteger(\u001b[38;5;241m3\u001b[39m))\u001b[38;5;241m/\u001b[39m(Integer(\u001b[38;5;241m1\u001b[39m)\u001b[38;5;241m-\u001b[39mx\u001b[38;5;241m-\u001b[39my\u001b[38;5;241m+\u001b[39mx\u001b[38;5;241m*\u001b[39m\u001b[38;5;241m*\u001b[39mInteger(\u001b[38;5;241m2\u001b[39m)\u001b[38;5;241m*\u001b[39my\u001b[38;5;241m*\u001b[39m\u001b[38;5;241m*\u001b[39mInteger(\u001b[38;5;241m3\u001b[39m)\u001b[38;5;241m-\u001b[39mx\u001b[38;5;241m*\u001b[39m\u001b[38;5;241m*\u001b[39mInteger(\u001b[38;5;241m3\u001b[39m)\u001b[38;5;241m*\u001b[39my\u001b[38;5;241m*\u001b[39m\u001b[38;5;241m*\u001b[39mInteger(\u001b[38;5;241m3\u001b[39m)\u001b[38;5;241m-\u001b[39mx\u001b[38;5;241m*\u001b[39m\u001b[38;5;241m*\u001b[39mInteger(\u001b[38;5;241m4\u001b[39m)\u001b[38;5;241m*\u001b[39my\u001b[38;5;241m*\u001b[39m\u001b[38;5;241m*\u001b[39mInteger(\u001b[38;5;241m4\u001b[39m)\u001b[38;5;241m-\u001b[39mx\u001b[38;5;241m*\u001b[39m\u001b[38;5;241m*\u001b[39mInteger(\u001b[38;5;241m3\u001b[39m)\u001b[38;5;241m*\u001b[39my\u001b[38;5;241m*\u001b[39m\u001b[38;5;241m*\u001b[39mInteger(\u001b[38;5;241m6\u001b[39m)\u001b[38;5;241m+\u001b[39mx\u001b[38;5;241m*\u001b[39m\u001b[38;5;241m*\u001b[39mInteger(\u001b[38;5;241m4\u001b[39m)\u001b[38;5;241m*\u001b[39my\u001b[38;5;241m*\u001b[39m\u001b[38;5;241m*\u001b[39mInteger(\u001b[38;5;241m6\u001b[39m))\n\u001b[0;32m----> 3\u001b[0m \u001b[43mdiagonal_asy\u001b[49m\u001b[43m(\u001b[49m\u001b[43mF\u001b[49m\u001b[43m,\u001b[49m\u001b[43m \u001b[49m\u001b[43mas_symbolic\u001b[49m\u001b[38;5;241;43m=\u001b[39;49m\u001b[38;5;28;43;01mTrue\u001b[39;49;00m\u001b[43m)\u001b[49m\n",
      "File \u001b[0;32m~/.sage/local/lib/python3.11/site-packages/sage_acsv/asymptotics.py:165\u001b[0m, in \u001b[0;36mdiagonal_asy\u001b[0;34m(F, r, linear_form, M, return_points, output_format, as_symbolic)\u001b[0m\n\u001b[1;32m    162\u001b[0m \u001b[38;5;28;01mfor\u001b[39;00m _ \u001b[38;5;129;01min\u001b[39;00m \u001b[38;5;28mrange\u001b[39m(MAX_MIN_CRIT_RETRIES):\n\u001b[1;32m    163\u001b[0m     \u001b[38;5;28;01mtry\u001b[39;00m:\n\u001b[1;32m    164\u001b[0m         \u001b[38;5;66;03m# Find minimal critical points in Kronecker Representation\u001b[39;00m\n\u001b[0;32m--> 165\u001b[0m         min_crit_pts \u001b[38;5;241m=\u001b[39m \u001b[43mMinimalCriticalCombinatorial\u001b[49m\u001b[43m(\u001b[49m\n\u001b[1;32m    166\u001b[0m \u001b[43m            \u001b[49m\u001b[43mG\u001b[49m\u001b[43m,\u001b[49m\u001b[43m \u001b[49m\u001b[43mH\u001b[49m\u001b[43m,\u001b[49m\u001b[43m \u001b[49m\u001b[43mall_variables\u001b[49m\u001b[43m,\u001b[49m\n\u001b[1;32m    167\u001b[0m \u001b[43m            \u001b[49m\u001b[43mr\u001b[49m\u001b[38;5;241;43m=\u001b[39;49m\u001b[43mr\u001b[49m\u001b[43m,\u001b[49m\n\u001b[1;32m    168\u001b[0m \u001b[43m            \u001b[49m\u001b[43mlinear_form\u001b[49m\u001b[38;5;241;43m=\u001b[39;49m\u001b[43mlinear_form\u001b[49m\n\u001b[1;32m    169\u001b[0m \u001b[43m        \u001b[49m\u001b[43m)\u001b[49m\n\u001b[1;32m    170\u001b[0m         \u001b[38;5;28;01mbreak\u001b[39;00m\n\u001b[1;32m    171\u001b[0m     \u001b[38;5;28;01mexcept\u001b[39;00m \u001b[38;5;167;01mException\u001b[39;00m \u001b[38;5;28;01mas\u001b[39;00m e:\n",
      "File \u001b[0;32m~/.sage/local/lib/python3.11/site-packages/sage_acsv/asymptotics.py:391\u001b[0m, in \u001b[0;36mMinimalCriticalCombinatorial\u001b[0;34m(G, H, variables, r, linear_form)\u001b[0m\n\u001b[1;32m    389\u001b[0m \u001b[38;5;66;03m# Compute the Kronecker representation of our system\u001b[39;00m\n\u001b[1;32m    390\u001b[0m timer\u001b[38;5;241m.\u001b[39mcheckpoint()\n\u001b[0;32m--> 391\u001b[0m P, Qs \u001b[38;5;241m=\u001b[39m \u001b[43m_kronecker_representation\u001b[49m\u001b[43m(\u001b[49m\u001b[43msystem\u001b[49m\u001b[43m,\u001b[49m\u001b[43m \u001b[49m\u001b[43mu_\u001b[49m\u001b[43m,\u001b[49m\u001b[43m \u001b[49m\u001b[43mvsT\u001b[49m\u001b[43m,\u001b[49m\u001b[43m \u001b[49m\u001b[43mlambda_\u001b[49m\u001b[43m,\u001b[49m\u001b[43m \u001b[49m\u001b[43mlinear_form\u001b[49m\u001b[43m)\u001b[49m\n\u001b[1;32m    392\u001b[0m timer\u001b[38;5;241m.\u001b[39mcheckpoint(\u001b[38;5;124m\"\u001b[39m\u001b[38;5;124mKronecker\u001b[39m\u001b[38;5;124m\"\u001b[39m)\n\u001b[1;32m    394\u001b[0m Qt \u001b[38;5;241m=\u001b[39m Qs[\u001b[38;5;241m-\u001b[39m\u001b[38;5;241m2\u001b[39m]  \u001b[38;5;66;03m# Qs ordering is H.variables() + [t, lambda_]\u001b[39;00m\n",
      "File \u001b[0;32m~/.sage/local/lib/python3.11/site-packages/sage_acsv/kronecker.py:69\u001b[0m, in \u001b[0;36m_kronecker_representation\u001b[0;34m(system, u_, vs, lambda_, linear_form)\u001b[0m\n\u001b[1;32m     66\u001b[0m \u001b[38;5;28;01mexcept\u001b[39;00m \u001b[38;5;167;01mException\u001b[39;00m:\n\u001b[1;32m     67\u001b[0m     \u001b[38;5;28;01mraise\u001b[39;00m ACSVException(\u001b[38;5;124m\"\u001b[39m\u001b[38;5;124mTrouble computing Groebner basis. System may be too large.\u001b[39m\u001b[38;5;124m\"\u001b[39m)\n\u001b[0;32m---> 69\u001b[0m ideal \u001b[38;5;241m=\u001b[39m \u001b[43mideal\u001b[49m\u001b[38;5;241;43m.\u001b[39;49m\u001b[43mradical\u001b[49m\u001b[43m(\u001b[49m\u001b[43m)\u001b[49m\n\u001b[1;32m     70\u001b[0m gb \u001b[38;5;241m=\u001b[39m ideal\u001b[38;5;241m.\u001b[39mtransformed_basis(\u001b[38;5;124m'\u001b[39m\u001b[38;5;124mfglm\u001b[39m\u001b[38;5;124m'\u001b[39m)\n\u001b[1;32m     72\u001b[0m rabinowitsch_R \u001b[38;5;241m=\u001b[39m rabinowitsch_R\u001b[38;5;241m.\u001b[39mchange_ring(order\u001b[38;5;241m=\u001b[39m\u001b[38;5;124m\"\u001b[39m\u001b[38;5;124mlex\u001b[39m\u001b[38;5;124m\"\u001b[39m)\n",
      "File \u001b[0;32m/private/var/tmp/sage-10.2-current/local/var/lib/sage/venv-python3.11.1/lib/python3.11/site-packages/sage/rings/polynomial/multi_polynomial_ideal.py:304\u001b[0m, in \u001b[0;36mRequireField.__call__\u001b[0;34m(self, *args, **kwds)\u001b[0m\n\u001b[1;32m    302\u001b[0m \u001b[38;5;28;01mif\u001b[39;00m \u001b[38;5;129;01mnot\u001b[39;00m R\u001b[38;5;241m.\u001b[39mbase_ring()\u001b[38;5;241m.\u001b[39mis_field():\n\u001b[1;32m    303\u001b[0m     \u001b[38;5;28;01mraise\u001b[39;00m \u001b[38;5;167;01mValueError\u001b[39;00m(\u001b[38;5;124m\"\u001b[39m\u001b[38;5;124mCoefficient ring must be a field for function \u001b[39m\u001b[38;5;124m'\u001b[39m\u001b[38;5;132;01m%s\u001b[39;00m\u001b[38;5;124m'\u001b[39m\u001b[38;5;124m.\u001b[39m\u001b[38;5;124m\"\u001b[39m \u001b[38;5;241m%\u001b[39m (\u001b[38;5;28mself\u001b[39m\u001b[38;5;241m.\u001b[39mf\u001b[38;5;241m.\u001b[39m\u001b[38;5;18m__name__\u001b[39m))\n\u001b[0;32m--> 304\u001b[0m \u001b[38;5;28;01mreturn\u001b[39;00m \u001b[38;5;28;43mself\u001b[39;49m\u001b[38;5;241;43m.\u001b[39;49m\u001b[43mf\u001b[49m\u001b[43m(\u001b[49m\u001b[38;5;28;43mself\u001b[39;49m\u001b[38;5;241;43m.\u001b[39;49m\u001b[43m_instance\u001b[49m\u001b[43m,\u001b[49m\u001b[43m \u001b[49m\u001b[38;5;241;43m*\u001b[39;49m\u001b[43margs\u001b[49m\u001b[43m,\u001b[49m\u001b[43m \u001b[49m\u001b[38;5;241;43m*\u001b[39;49m\u001b[38;5;241;43m*\u001b[39;49m\u001b[43mkwds\u001b[49m\u001b[43m)\u001b[49m\n",
      "File \u001b[0;32m/private/var/tmp/sage-10.2-current/local/var/lib/sage/venv-python3.11.1/lib/python3.11/site-packages/sage/libs/singular/standard_options.py:143\u001b[0m, in \u001b[0;36mlibsingular_gb_standard_options.<locals>.wrapper\u001b[0;34m(*args, **kwds)\u001b[0m\n\u001b[1;32m    139\u001b[0m \u001b[38;5;124;03m\"\"\"\u001b[39;00m\n\u001b[1;32m    140\u001b[0m \u001b[38;5;124;03mExecute function in ``LibSingularGBDefaultContext``.\u001b[39;00m\n\u001b[1;32m    141\u001b[0m \u001b[38;5;124;03m\"\"\"\u001b[39;00m\n\u001b[1;32m    142\u001b[0m \u001b[38;5;28;01mwith\u001b[39;00m LibSingularGBDefaultContext():\n\u001b[0;32m--> 143\u001b[0m     \u001b[38;5;28;01mreturn\u001b[39;00m \u001b[43mfunc\u001b[49m\u001b[43m(\u001b[49m\u001b[38;5;241;43m*\u001b[39;49m\u001b[43margs\u001b[49m\u001b[43m,\u001b[49m\u001b[43m \u001b[49m\u001b[38;5;241;43m*\u001b[39;49m\u001b[38;5;241;43m*\u001b[39;49m\u001b[43mkwds\u001b[49m\u001b[43m)\u001b[49m\n",
      "File \u001b[0;32m/private/var/tmp/sage-10.2-current/local/var/lib/sage/venv-python3.11.1/lib/python3.11/site-packages/sage/rings/polynomial/multi_polynomial_ideal.py:1767\u001b[0m, in \u001b[0;36mMPolynomialIdeal_singular_repr.radical\u001b[0;34m(self)\u001b[0m\n\u001b[1;32m   1765\u001b[0m \u001b[38;5;28;01mfrom\u001b[39;00m \u001b[38;5;21;01msage\u001b[39;00m\u001b[38;5;21;01m.\u001b[39;00m\u001b[38;5;21;01mlibs\u001b[39;00m\u001b[38;5;21;01m.\u001b[39;00m\u001b[38;5;21;01msingular\u001b[39;00m\u001b[38;5;21;01m.\u001b[39;00m\u001b[38;5;21;01mfunction_factory\u001b[39;00m \u001b[38;5;28;01mimport\u001b[39;00m ff\n\u001b[1;32m   1766\u001b[0m radical \u001b[38;5;241m=\u001b[39m ff\u001b[38;5;241m.\u001b[39mprimdec__lib\u001b[38;5;241m.\u001b[39mradical\n\u001b[0;32m-> 1767\u001b[0m r \u001b[38;5;241m=\u001b[39m \u001b[43mradical\u001b[49m\u001b[43m(\u001b[49m\u001b[38;5;28;43mself\u001b[39;49m\u001b[43m)\u001b[49m\n\u001b[1;32m   1769\u001b[0m S \u001b[38;5;241m=\u001b[39m \u001b[38;5;28mself\u001b[39m\u001b[38;5;241m.\u001b[39mring()\n\u001b[1;32m   1771\u001b[0m \u001b[38;5;66;03m#I = self._singular_()\u001b[39;00m\n\u001b[1;32m   1772\u001b[0m \u001b[38;5;66;03m#I.parent().lib('primdec.lib')\u001b[39;00m\n\u001b[1;32m   1773\u001b[0m \u001b[38;5;66;03m#r = I.radical()\u001b[39;00m\n",
      "File \u001b[0;32m/private/var/tmp/sage-10.2-current/local/var/lib/sage/venv-python3.11.1/lib/python3.11/site-packages/sage/libs/singular/function.pyx:1298\u001b[0m, in \u001b[0;36msage.libs.singular.function.SingularFunction.__call__ (build/cythonized/sage/libs/singular/function.cpp:21315)\u001b[0;34m()\u001b[0m\n\u001b[1;32m   1296\u001b[0m     if not (isinstance(ring, MPolynomialRing_libsingular) or isinstance(ring, NCPolynomialRing_plural)):\n\u001b[1;32m   1297\u001b[0m         raise TypeError(\"cannot call Singular function '%s' with ring parameter of type '%s'\" % (self._name,type(ring)))\n\u001b[0;32m-> 1298\u001b[0m     return call_function(self, args, ring, interruptible, attributes)\n\u001b[1;32m   1299\u001b[0m \n\u001b[1;32m   1300\u001b[0m def _instancedoc_(self):\n",
      "File \u001b[0;32m/private/var/tmp/sage-10.2-current/local/var/lib/sage/venv-python3.11.1/lib/python3.11/site-packages/sage/libs/singular/function.pyx:1477\u001b[0m, in \u001b[0;36msage.libs.singular.function.call_function (build/cythonized/sage/libs/singular/function.cpp:23302)\u001b[0;34m()\u001b[0m\n\u001b[1;32m   1475\u001b[0m     error_messages.pop()\n\u001b[1;32m   1476\u001b[0m \n\u001b[0;32m-> 1477\u001b[0m with opt_ctx: # we are preserving the global options state here\n\u001b[1;32m   1478\u001b[0m     if signal_handler:\n\u001b[1;32m   1479\u001b[0m         sig_on()\n",
      "File \u001b[0;32m/private/var/tmp/sage-10.2-current/local/var/lib/sage/venv-python3.11.1/lib/python3.11/site-packages/sage/libs/singular/function.pyx:1479\u001b[0m, in \u001b[0;36msage.libs.singular.function.call_function (build/cythonized/sage/libs/singular/function.cpp:23214)\u001b[0;34m()\u001b[0m\n\u001b[1;32m   1477\u001b[0m with opt_ctx: # we are preserving the global options state here\n\u001b[1;32m   1478\u001b[0m     if signal_handler:\n\u001b[0;32m-> 1479\u001b[0m         sig_on()\n\u001b[1;32m   1480\u001b[0m         _res = self.call_handler.handle_call(argument_list, si_ring)\n\u001b[1;32m   1481\u001b[0m         sig_off()\n",
      "\u001b[0;31mKeyboardInterrupt\u001b[0m: "
     ]
    }
   ],
   "source": [
    "#Does not finish computing (hangs on computing GB for critical point system)\n",
    "F = (1-x^3*y^6+x^3*y^4+x^2*y^4+x^2*y^3)/(1-x-y+x^2*y^3-x^3*y^3-x^4*y^4-x^3*y^6+x^4*y^6)\n",
    "diagonal_asy(F, as_symbolic=True)"
   ]
  },
  {
   "cell_type": "code",
   "execution_count": null,
   "metadata": {},
   "outputs": [],
   "source": []
  },
  {
   "cell_type": "code",
   "execution_count": null,
   "metadata": {},
   "outputs": [],
   "source": []
  }
 ],
 "metadata": {
  "@webio": {
   "lastCommId": null,
   "lastKernelId": null
  },
  "kernelspec": {
   "display_name": "SageMath 10.2",
   "language": "sage",
   "name": "sagemath"
  },
  "language_info": {
   "codemirror_mode": {
    "name": "ipython",
    "version": 3
   },
   "file_extension": ".py",
   "mimetype": "text/x-python",
   "name": "python",
   "nbconvert_exporter": "python",
   "pygments_lexer": "ipython3",
   "version": "3.11.1"
  }
 },
 "nbformat": 4,
 "nbformat_minor": 4
}
