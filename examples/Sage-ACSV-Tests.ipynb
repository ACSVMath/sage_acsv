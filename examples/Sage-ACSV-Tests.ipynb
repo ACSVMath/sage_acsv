{
 "cells": [
  {
   "cell_type": "code",
   "execution_count": 1,
   "metadata": {},
   "outputs": [],
   "source": [
    "from sage_acsv import diagonal_asy"
   ]
  },
  {
   "cell_type": "code",
   "execution_count": 2,
   "metadata": {},
   "outputs": [
    {
     "data": {
      "text/plain": [
       "(x, y, w, z, n)"
      ]
     },
     "execution_count": 2,
     "metadata": {},
     "output_type": "execute_result"
    }
   ],
   "source": [
    "# Make variables to be used later\n",
    "var('x,y,w,z,n')"
   ]
  },
  {
   "cell_type": "code",
   "execution_count": 3,
   "metadata": {},
   "outputs": [
    {
     "data": {
      "text/plain": [
       "4^n/(sqrt(pi)*sqrt(n))"
      ]
     },
     "execution_count": 3,
     "metadata": {},
     "output_type": "execute_result"
    }
   ],
   "source": [
    "# Binomial coefficients\n",
    "F1 = 1/(1-x-y)\n",
    "diagonal_asy(F1, as_symbolic=True, use_msolve=False)"
   ]
  },
  {
   "cell_type": "code",
   "execution_count": 4,
   "metadata": {},
   "outputs": [
    {
     "data": {
      "text/plain": [
       "4^n/(sqrt(pi)*sqrt(n))"
      ]
     },
     "execution_count": 4,
     "metadata": {},
     "output_type": "execute_result"
    }
   ],
   "source": [
    "# Binomial coefficients\n",
    "F1 = 1/(1-x-y)\n",
    "diagonal_asy(F1, as_symbolic=True, use_msolve=True)"
   ]
  },
  {
   "cell_type": "code",
   "execution_count": 5,
   "metadata": {},
   "outputs": [
    {
     "data": {
      "text/plain": [
       "4*4^n/(pi*n)"
      ]
     },
     "execution_count": 5,
     "metadata": {},
     "output_type": "execute_result"
    }
   ],
   "source": [
    "# Lattice paths enumeration sequence (on main diagonal)\n",
    "F2 = (1+x)*(1+y)/(1-w*x*y*(x+y+1/x+1/y))\n",
    "diagonal_asy(F2, as_symbolic=True)"
   ]
  },
  {
   "cell_type": "code",
   "execution_count": 6,
   "metadata": {},
   "outputs": [
    {
     "data": {
      "text/plain": [
       "1.225275868941647?*33.97056274847714?^n/(pi^(3/2)*n^(3/2))"
      ]
     },
     "execution_count": 6,
     "metadata": {},
     "output_type": "execute_result"
    }
   ],
   "source": [
    "# Apéry sequence (on main diagonal)\n",
    "F3 = 1/(1 - w*(1 + x)*(1 + y)*(1 + z)*(x*y*z + y*z + y + z + 1))\n",
    "diagonal_asy(F3, as_symbolic=True)"
   ]
  },
  {
   "cell_type": "code",
   "execution_count": 7,
   "metadata": {},
   "outputs": [
    {
     "data": {
      "text/plain": [
       "1.225275868941647?*33.97056274847714?^n/(pi^(3/2)*n^(3/2))"
      ]
     },
     "execution_count": 7,
     "metadata": {},
     "output_type": "execute_result"
    }
   ],
   "source": [
    "# Apéry sequence (on main diagonal)\n",
    "F3 = 1/(1 - w*(1 + x)*(1 + y)*(1 + z)*(x*y*z + y*z + y + z + 1))\n",
    "diagonal_asy(F3, as_symbolic=True, use_msolve=True)"
   ]
  },
  {
   "cell_type": "code",
   "execution_count": 8,
   "metadata": {},
   "outputs": [
    {
     "data": {
      "text/html": [
       "<html>\\(\\displaystyle \\frac{{\\left(12 \\, \\sqrt{2} + 17\\right)}^{n} \\sqrt{\\frac{17}{2} \\, \\sqrt{2} + 12}}{4 \\, \\pi^{\\frac{3}{2}} n^{\\frac{3}{2}}}\\)</html>"
      ],
      "text/latex": [
       "$\\displaystyle \\frac{{\\left(12 \\, \\sqrt{2} + 17\\right)}^{n} \\sqrt{\\frac{17}{2} \\, \\sqrt{2} + 12}}{4 \\, \\pi^{\\frac{3}{2}} n^{\\frac{3}{2}}}$"
      ],
      "text/plain": [
       "1/4*(12*sqrt(2) + 17)^n*sqrt(17/2*sqrt(2) + 12)/(pi^(3/2)*n^(3/2))"
      ]
     },
     "metadata": {},
     "output_type": "display_data"
    }
   ],
   "source": [
    "# The quantities here are algebraic of degree two, so we can represent them in radicals\n",
    "asm_vals = diagonal_asy(F3)\n",
    "show(add([a.radical_expression()^n*b*c*d.radical_expression() for (a,b,c,d) in asm_vals]))"
   ]
  },
  {
   "cell_type": "code",
   "execution_count": 9,
   "metadata": {},
   "outputs": [
    {
     "data": {
      "text/plain": [
       "(0.09677555757474702?*5.88444220401951?^n/(sqrt(pi)*sqrt(n)),\n",
       " [[0.548232473567013?, 0.3099773361396642?]])"
      ]
     },
     "execution_count": 9,
     "metadata": {},
     "output_type": "execute_result"
    }
   ],
   "source": [
    "# Example with two critical points with positive coords, neither of which is obviously non-minimal\n",
    "F4 = -1/(1-(1-x-y)*(20-x-40*y))\n",
    "diagonal_asy(F4, as_symbolic=True, return_points=True)"
   ]
  },
  {
   "cell_type": "code",
   "execution_count": 10,
   "metadata": {},
   "outputs": [
    {
     "data": {
      "text/plain": [
       "(0.09677555757474702?*5.884442204019508?^n/(sqrt(pi)*sqrt(n)),\n",
       " [[0.548232473567013?, 0.3099773361396642?]])"
      ]
     },
     "execution_count": 10,
     "metadata": {},
     "output_type": "execute_result"
    }
   ],
   "source": [
    "# Example with two critical points with positive coords, neither of which is obviously non-minimal\n",
    "F4 = -1/(1-(1-x-y)*(20-x-40*y))\n",
    "diagonal_asy(F4, as_symbolic=True, use_msolve=True, return_points=True)"
   ]
  },
  {
   "cell_type": "code",
   "execution_count": 11,
   "metadata": {},
   "outputs": [
    {
     "name": "stdout",
     "output_type": "stream",
     "text": [
      "No result was computed: No smooth minimal critical points found.\n"
     ]
    }
   ],
   "source": [
    "# Example with no critical points in (1,1)-direction\n",
    "F5 = 1/(x^4*y + x^3*y + x^2*y + x*y - 1)\n",
    "try:\n",
    "    diagonal_asy(F5, as_symbolic=True)\n",
    "except Exception as e:\n",
    "    print(f\"No result was computed: {e}\")"
   ]
  },
  {
   "cell_type": "code",
   "execution_count": 12,
   "metadata": {},
   "outputs": [
    {
     "name": "stdout",
     "output_type": "stream",
     "text": [
      "No result was computed: No smooth minimal critical points found.\n"
     ]
    }
   ],
   "source": [
    "# Another example with no critical points \n",
    "F6 = 1/((-x + 1)^4 - x*y*(x^3 + x^2*y - x^2 - x + 1))\n",
    "try:\n",
    "    diagonal_asy(F6, as_symbolic=True)\n",
    "except Exception as e:\n",
    "    print(f\"No result was computed: {e}\")"
   ]
  },
  {
   "cell_type": "code",
   "execution_count": 13,
   "metadata": {},
   "outputs": [
    {
     "data": {
      "text/plain": [
       "1.015051765128218?*5.828427124746190?^n/(sqrt(pi)*sqrt(n))"
      ]
     },
     "execution_count": 13,
     "metadata": {},
     "output_type": "execute_result"
    }
   ],
   "source": [
    "# Delannoy generating function\n",
    "F7 = 1/(1 - x - y - x*y)\n",
    "diagonal_asy(F7, as_symbolic=True)"
   ]
  },
  {
   "cell_type": "code",
   "execution_count": 14,
   "metadata": {},
   "outputs": [
    {
     "data": {
      "text/plain": [
       "1.015051765128218?*5.828427124746190?^n/(sqrt(pi)*sqrt(n))"
      ]
     },
     "execution_count": 14,
     "metadata": {},
     "output_type": "execute_result"
    }
   ],
   "source": [
    "# Delannoy generating function\n",
    "F7 = 1/(1 - x - y - x*y)\n",
    "diagonal_asy(F7, as_symbolic=True, use_msolve=True)"
   ]
  },
  {
   "cell_type": "code",
   "execution_count": 15,
   "metadata": {},
   "outputs": [
    {
     "data": {
      "text/plain": [
       "1/7*(0.6234898018587335? + 0.7818314824680299?*I)^n + 1/7*(0.6234898018587335? - 0.7818314824680299?*I)^n + 1/7*(-0.2225209339563144? + 0.9749279121818236?*I)^n + 1/7*(-0.2225209339563144? - 0.9749279121818236?*I)^n + 1/7*(-0.9009688679024191? + 0.4338837391175581?*I)^n + 1/7*(-0.9009688679024191? - 0.4338837391175581?*I)^n + 1/7"
      ]
     },
     "execution_count": 15,
     "metadata": {},
     "output_type": "execute_result"
    }
   ],
   "source": [
    "# One variable example with many minimal critical points on same torus\n",
    "F8 = 1/(1 - x^7)\n",
    "diagonal_asy(F8, as_symbolic=True)"
   ]
  },
  {
   "cell_type": "code",
   "execution_count": 16,
   "metadata": {},
   "outputs": [
    {
     "data": {
      "text/plain": [
       "1/7*(0.6234898018587335? + 0.7818314824680299?*I)^n + 1/7*(0.6234898018587335? - 0.7818314824680299?*I)^n + 1/7*(-0.2225209339563144? + 0.9749279121818236?*I)^n + 1/7*(-0.2225209339563144? - 0.9749279121818236?*I)^n + 1/7*(-0.9009688679024191? + 0.4338837391175581?*I)^n + 1/7*(-0.9009688679024191? - 0.4338837391175581?*I)^n + 1/7"
      ]
     },
     "execution_count": 16,
     "metadata": {},
     "output_type": "execute_result"
    }
   ],
   "source": [
    "# One variable example with many minimal critical points on same torus\n",
    "F8 = 1/(1 - x^7)\n",
    "diagonal_asy(F8, as_symbolic=True, use_msolve=True)"
   ]
  },
  {
   "cell_type": "code",
   "execution_count": 17,
   "metadata": {},
   "outputs": [
    {
     "data": {
      "text/plain": [
       "([(1.285654384750451?, 1, 1, 0.03396226416457560?)], [[0.7778140158516262?]])"
      ]
     },
     "execution_count": 17,
     "metadata": {},
     "output_type": "execute_result"
    }
   ],
   "source": [
    "# One variable example having singularities with close moduli\n",
    "F9 = 1/(8 - 17*x^3 - 9*x^2 + 7*x)\n",
    "diagonal_asy(F9, return_points=True)"
   ]
  },
  {
   "cell_type": "code",
   "execution_count": 18,
   "metadata": {},
   "outputs": [
    {
     "data": {
      "text/plain": [
       "0.9430514023983397?*4.518911369262258?^n/(sqrt(pi)*sqrt(n))"
      ]
     },
     "execution_count": 18,
     "metadata": {},
     "output_type": "execute_result"
    }
   ],
   "source": [
    "F10 = (x^2*y^2 - x*y + 1)/(1-x-y-x*y+x*y^2+x^2*y-x^2*y^3-x^3*y^2)\n",
    "diagonal_asy(F10, as_symbolic=True)"
   ]
  },
  {
   "cell_type": "code",
   "execution_count": 19,
   "metadata": {},
   "outputs": [
    {
     "data": {
      "text/plain": [
       "0.9430514023983397?*4.518911369262258?^n/(sqrt(pi)*sqrt(n))"
      ]
     },
     "execution_count": 19,
     "metadata": {},
     "output_type": "execute_result"
    }
   ],
   "source": [
    "F10 = (x^2*y^2 - x*y + 1)/(1-x-y-x*y+x*y^2+x^2*y-x^2*y^3-x^3*y^2)\n",
    "diagonal_asy(F10, as_symbolic=True, use_msolve=True)"
   ]
  },
  {
   "cell_type": "code",
   "execution_count": 20,
   "metadata": {},
   "outputs": [
    {
     "data": {
      "text/plain": [
       "1.068693934883829?*3.910193204291776?^n/(sqrt(pi)*sqrt(n))"
      ]
     },
     "execution_count": 20,
     "metadata": {},
     "output_type": "execute_result"
    }
   ],
   "source": [
    "#Does not finish computing (hangs on computing GB for critical point system)\n",
    "from sage_acsv import diagonal_asy\n",
    "var('x,y,w,z,n')\n",
    "F = (1-x^3*y^6+x^3*y^4+x^2*y^4+x^2*y^3)/(1-x-y+x^2*y^3-x^3*y^3-x^4*y^4-x^3*y^6+x^4*y^6)\n",
    "diagonal_asy(F, as_symbolic=True, use_msolve=True)"
   ]
  },
  {
   "cell_type": "code",
   "execution_count": null,
   "metadata": {},
   "outputs": [],
   "source": []
  },
  {
   "cell_type": "code",
   "execution_count": null,
   "metadata": {},
   "outputs": [],
   "source": []
  }
 ],
 "metadata": {
  "@webio": {
   "lastCommId": null,
   "lastKernelId": null
  },
  "kernelspec": {
   "display_name": "SageMath 10.2",
   "language": "sage",
   "name": "sagemath"
  },
  "language_info": {
   "codemirror_mode": {
    "name": "ipython",
    "version": 3
   },
   "file_extension": ".py",
   "mimetype": "text/x-python",
   "name": "python",
   "nbconvert_exporter": "python",
   "pygments_lexer": "ipython3",
   "version": "3.11.1"
  }
 },
 "nbformat": 4,
 "nbformat_minor": 4
}
