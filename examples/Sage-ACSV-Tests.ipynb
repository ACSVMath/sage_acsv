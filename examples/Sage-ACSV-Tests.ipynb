{
 "cells": [
  {
   "cell_type": "code",
   "execution_count": 1,
   "metadata": {},
   "outputs": [],
   "source": [
    "#import sage_acsv\n",
    "from sage_acsv import diagonal_asy"
   ]
  },
  {
   "cell_type": "code",
   "execution_count": 2,
   "metadata": {},
   "outputs": [
    {
     "data": {
      "text/plain": [
       "(x, y, w, z, n)"
      ]
     },
     "execution_count": 2,
     "metadata": {},
     "output_type": "execute_result"
    }
   ],
   "source": [
    "# Make variables to be used later\n",
    "var('x,y,w,z,n')"
   ]
  },
  {
   "cell_type": "code",
   "execution_count": 3,
   "metadata": {},
   "outputs": [
    {
     "name": "stdout",
     "output_type": "stream",
     "text": [
      "\n",
      "3\n",
      "(0.?e-47)*t0^160 + (0.?e-52*I)*t0^159 + (0.?e-51)*t0^158 + (0.?e-50*I)*t0^157 + (0.?e-49)*t0^156 + (0.?e-48*I)*t0^155 + (0.?e-47 + 0.?e-55*I)*t0^154 + (0.?e-47 + 0.?e-46*I)*t0^153 + (0.?e-45 + 0.?e-46*I)*t0^152 + (0.?e-45 - 2.?e-45*I)*t0^151 + (-3.?e-44 + 0.?e-42*I)*t0^150 + (0.?e-40 + 0.?e-38*I)*t0^149 + (0.?e-36 + 0.?e-33*I)*t0^148 + (0.?e-32 + 0.?e-29*I)*t0^147 + (0.?e-28 + 0.?e-31*I)*t0^146 + (0.?e-25 + 0.?e-27*I)*t0^145 + (0.?e-23 + 0.?e-24*I)*t0^144 + (0.?e-19 + 0.?e-20*I)*t0^143 + (0.?e-16 + 0.?e-17*I)*t0^142 + (0.?e-16 + 0.?e-15*I)*t0^141 + (0.?e-14 + 0.?e-13*I)*t0^140 + (0.?e-12 + 0.?e-12*I)*t0^139 + (0.?e-12 + 0.?e-12*I)*t0^138 + (0.?e-11 + 0.?e-11*I)*t0^137 + (0.?e-10 + 0.?e-10*I)*t0^136 + (0.?e-9 + 0.?e-9*I)*t0^135 + (0.?e-8 + 0.?e-8*I)*t0^134 + (0.?e-8 + 0.?e-8*I)*t0^133 + (0.?e-7 + 0.?e-7*I)*t0^132 + (0.?e-7 + 0.?e-7*I)*t0^131 + (0.?e-6 + 0.?e-6*I)*t0^130 + (0.?e-6 + 0.?e-6*I)*t0^129 + (0.?e-6 + 0.?e-6*I)*t0^128 + (0.00000? + 0.00000?*I)*t0^127 + (0.00000? + 0.00000?*I)*t0^126 + (0.00000? + 0.00000?*I)*t0^125 + (0.0000? + 0.0000?*I)*t0^124 + (0.0000? + 0.0000?*I)*t0^123 + (0.0000? + 0.0000?*I)*t0^122 + (0.000? + 0.000?*I)*t0^121 + (0.000? + 0.000?*I)*t0^120 + (0.000? + 0.000?*I)*t0^119 + (0.000? + 0.000?*I)*t0^118 + (0.000? + 0.000?*I)*t0^117 + (0.000? + 0.000?*I)*t0^116 + (0.000? + 0.000?*I)*t0^115 + (0.0000? + 0.0000?*I)*t0^114 + (0.0000? + 0.0000?*I)*t0^113 + (0.0000? + 0.0000?*I)*t0^112 + (0.0000? + 0.0000?*I)*t0^111 + (0.0000? + 0.0000?*I)*t0^110 + (0.0000? + 0.0000?*I)*t0^109 + (0.0000? + 0.0000?*I)*t0^108 + (0.0000? + 0.0000?*I)*t0^107 + (0.0000? + 0.0000?*I)*t0^106 + (0.0000? + 0.0000?*I)*t0^105 + (0.0000? + 0.0000?*I)*t0^104 + (0.0000? + 0.0000?*I)*t0^103 + (0.0000? + 0.0000?*I)*t0^102 + (0.0000? + 0.0000?*I)*t0^101 + (0.000? + 0.0000?*I)*t0^100 + (0.000? + 0.000?*I)*t0^99 + (0.000? + 0.000?*I)*t0^98 + (0.000? + 0.000?*I)*t0^97 + (0.000? + 0.000?*I)*t0^96 + (0.0000? - 0.001?*I)*t0^95 + (-0.001? + 0.000?*I)*t0^94 + (0.000? + 0.001?*I)*t0^93 + (0.002? + 0.000?*I)*t0^92 + (0.000? - 0.003?*I)*t0^91 + (-0.005? + 0.000?*I)*t0^90 + (0.000? + 0.010?*I)*t0^89 + (0.018? + 0.000?*I)*t0^88 + (0.000? - 0.033?*I)*t0^87 + (-0.056? + 0.000?*I)*t0^86 + (0.000? + 0.090?*I)*t0^85 + (0.138? + 0.000?*I)*t0^84 + (0.00? - 0.20?*I)*t0^83 + (-0.27? + 0.00?*I)*t0^82 + (0.00? + 0.33?*I)*t0^81 + (0.36? + 0.00?*I)*t0^80 + (0.00? - 0.33?*I)*t0^79 + (-0.24? + 0.00?*I)*t0^78 + (0.00? + 0.12?*I)*t0^77 + (0.06? + 0.00?*I)*t0^76 + (0.000? - 0.241?*I)*t0^75 + (-0.921? + 0.000?*I)*t0^74 + (0.000? + 2.292?*I)*t0^73 + (4.301? + 0.000?*I)*t0^72 + (0.000? - 6.399?*I)*t0^71 + (-7.404? + 0.000?*I)*t0^70 + (0.000? + 5.72?*I)*t0^69 + (0.098? + 0.000?*I)*t0^68 + (0.000? + 8.928?*I)*t0^67 + (17.719? + 0.000?*I)*t0^66 + (0.000? - 19.224?*I)*t0^65 + (-5.267? + 0.000?*I)*t0^64 + (0.000? - 27.982?*I)*t0^63 + (-72.891? + 0.000?*I)*t0^62 + (0.000? + 106.186?*I)*t0^61 + (94.12? + 0.000?*I)*t0^60 + (0.000? - 11.02?*I)*t0^59 + (133.176? + 0.000?*I)*t0^58 + (0.000? - 272.746?*I)*t0^57 + (-297.280? + 0.000?*I)*t0^56 + (0.000? + 109.190?*I)*t0^55 + (-287.052? + 0.000?*I)*t0^54 + (0.000? + 718.969?*I)*t0^53 + (878.100? + 0.000?*I)*t0^52 + (0.000? - 488.806?*I)*t0^51 + (445.208? + 0.000?*I)*t0^50 + (0.000? - 1485.282?*I)*t0^49 + (-1884.426? + 0.000?*I)*t0^48 + (0.000? + 1044.775?*I)*t0^47 + (-919.034? + 0.000?*I)*t0^46 + (0.000? + 2952.560?*I)*t0^45 + (3530.929? + 0.000?*I)*t0^44 + (0.000? - 1724.692?*I)*t0^43 + (1824.145? + 0.000?*I)*t0^42 + (0.000? - 4906.593?*I)*t0^41 + (-5077.81? + 0.000?*I)*t0^40 + (0.000? + 1583.43?*I)*t0^39 + (-3625.39? + 0.000?*I)*t0^38 + (0.000? + 6913.843?*I)*t0^37 + (5605.475? + 0.000?*I)*t0^36 + (0.000? - 273.213?*I)*t0^35 + (5366.229? + 0.000?*I)*t0^34 + (0.0000? - 7186.795?*I)*t0^33 + (-3922.536? + 0.000?*I)*t0^32 + (0.000? - 1808.571?*I)*t0^31 + (-5682.016? + 0.000?*I)*t0^30 + (0.000? + 5173.909?*I)*t0^29 + (1349.075? + 0.0000?*I)*t0^28 + (0.0000? + 2467.848?*I)*t0^27 + (3660.4123? + 0.0000?*I)*t0^26 + (0.0000? - 2164.7555?*I)*t0^25 + (153.3777? + 0.0000?*I)*t0^24 + (0.0000? - 1489.6093?*I)*t0^23 + (-1411.491? + 0.0000?*I)*t0^22 + (0.0000? + 615.8596?*I)*t0^21 + (-83.202? + 0.0000?*I)*t0^20 + (0.000? + 370.571?*I)*t0^19 + (342.312? + 0.0000?*I)*t0^18 + (0.0000? - 183.3255?*I)*t0^17 + (-19.7911? + 0.0000?*I)*t0^16 + (0.0000? - 77.1802?*I)*t0^15 + (-89.6391? + 0.00000?*I)*t0^14 + (0.00000? + 54.5934?*I)*t0^13 + (21.26165? + 0.00000?*I)*t0^12 + (0.00000? - 6.55102?*I)*t0^11 + (-1.88144? + 0.00000?*I)*t0^10 + (0.00000? + 0.71179?*I)*t0^9 + (1.912074? + 0.?e-6*I)*t0^8 + (0.?e-6 - 2.333116?*I)*t0^7 + (-0.7767937? + 0.?e-7*I)*t0^6 + (0.?e-7 - 0.0324424?*I)*t0^5 - 0.165110494?*t0^4 + 0.501889279?*I*t0^3 - 0.1918199923?*t0^2 - 0.20729472396?*I*t0 + 0.2535343356122912?\n",
      "Univariate Polynomial Ring in t0 over Algebraic Field\n"
     ]
    },
    {
     "data": {
      "text/plain": [
       "[(5.884442204019508?,\n",
       "  1/sqrt(n),\n",
       "  1/sqrt(pi),\n",
       "  0.3817059229513505?,\n",
       "  -0.2492821683297122?/n + 0.2535343356122912?)]"
      ]
     },
     "execution_count": 3,
     "metadata": {},
     "output_type": "execute_result"
    }
   ],
   "source": [
    "# Example with two critical points with positive coords, neither of which is obviously non-minimal\n",
    "F4 = -1/(1-(1-x-y)*(20-x-40*y))\n",
    "diagonal_asy(F4, as_symbolic=False, M=2)"
   ]
  },
  {
   "cell_type": "code",
   "execution_count": 4,
   "metadata": {},
   "outputs": [
    {
     "name": "stdout",
     "output_type": "stream",
     "text": [
      "\n",
      "3\n",
      "1/3492482123570757061814570188800000000*t0^64 - 1/54570033180793079090852659200000000*I*t0^63 - 1/1559143805165516545452933120000000*t0^62 + 1/61870785919266529581465600000000*I*t0^61 + 1273/3897859512913791363632332800000000*t0^60 - 1091/194892975645689568181616640000000*I*t0^59 - 11723/139209268318349691558297600000000*t0^58 + 1292731/1136875691266522481059430400000000*I*t0^57 + 382021469/27285016590396539545426329600000000*t0^56 - 5166067/32482162607614928030269440000000*I*t0^55 - 819245059/487232439114223920454041600000000*t0^54 + 811654933/48723243911422392045404160000000*I*t0^53 + 37885094641/243616219557111960227020800000000*t0^52 - 27893509151/20301351629759330018918400000000*I*t0^51 - 702265722679/60904054889277990056755200000000*t0^50 + 2807432031371/30452027444638995028377600000000*I*t0^49 + 3062610903571/4350289634948427861196800000000*t0^48 - 466314681289/90631034061425580441600000000*I*t0^47 - 3267487137157/90631034061425580441600000000*t0^46 + 10991575456009/45315517030712790220800000000*I*t0^45 + 23696563867349/15105172343570930073600000000*t0^44 - 36870610269881/3776293085892732518400000000*I*t0^43 - 221004015876991/3776293085892732518400000000*t0^42 + 2533018488361/7492645011691929600000000*I*t0^41 + 37622050654367/19980386697845145600000000*t0^40 - 15158703424607/1498529002338385920000000*I*t0^39 - 78567275230307/1498529002338385920000000*t0^38 + 196451486060467/749264501169192960000000*I*t0^37 + 947875244911949/749264501169192960000000*t0^36 - 367664857758893/62438708430766080000000*I*t0^35 - 9431087699171/356792619604377600000*t0^34 + 102032296253941/891981549010944000000*I*t0^33 + 141808991238977/297327183003648000000*t0^32 - 17790691018993/9291474468864000000*I*t0^31 - 68709274536767/9291474468864000000*t0^30 + 314842443413/11470956134400000*I*t0^29 + 10095143736221/103238605209600000*t0^28 - 1231187703509/3687093043200000*I*t0^27 - 4023081720487/3687093043200000*t0^26 + 3138668798467/921773260800000*I*t0^25 + 2133179786189/210691031040000*t0^24 - 585995853637/20483850240000*I*t0^23 - 1568401175759/20483850240000*t0^22 + 660228746147/3413975040000*I*t0^21 + 671399063827/1463132160000*t0^20 - 74428200071/73156608000*I*t0^19 - 153172796737/73156608000*t0^18 + 48370876139/12192768000*I*t0^17 + 83516225957/12192768000*t0^16 - 8103715483/762048000*I*t0^15 - 740879941/50803200*t0^14 + 62536331/3628800*I*t0^13 + 61387177/3628800*t0^12 - 1310401/100800*I*t0^11 - 705599/100800*t0^10 + 2*I*t0^9 + 1/20160*t0^8 + 1/2520*I*t0^7 - 1/360*t0^6 - 1/60*I*t0^5 + 1/12*t0^4 + 1/3*I*t0^3 - t0^2 - 2*I*t0 + 2\n",
      "Univariate Polynomial Ring in t0 over Algebraic Field\n"
     ]
    },
    {
     "data": {
      "text/plain": [
       "4^n*(-9/8/n + 145/128/n^2 - 1155/1024/n^3 + 1)/(sqrt(pi)*sqrt(n))"
      ]
     },
     "execution_count": 4,
     "metadata": {},
     "output_type": "execute_result"
    }
   ],
   "source": [
    "# Binomial coefficients\n",
    "F1 = 1/(1-x-y)\n",
    "diagonal_asy(F1, as_symbolic=True, M=4)"
   ]
  },
  {
   "cell_type": "code",
   "execution_count": 4,
   "metadata": {},
   "outputs": [
    {
     "name": "stdout",
     "output_type": "stream",
     "text": [
      "3\n",
      "-451/24*I*t0^7 - 9367/720*t0^6 + 361/40*I*t0^5 + 151/24*t0^4 - 9/2*I*t0^3 - 7/2*t0^2 + 3*I*t0\n",
      "Univariate Polynomial Ring in t0 over Algebraic Field\n"
     ]
    },
    {
     "data": {
      "text/plain": [
       "4^n*(1/4/n + 3/32/n^2)/(sqrt(pi)*sqrt(n))"
      ]
     },
     "execution_count": 4,
     "metadata": {},
     "output_type": "execute_result"
    }
   ],
   "source": [
    "# Binomial coefficients\n",
    "F1 = (2*y^2-x)/(x+y-1)\n",
    "diagonal_asy(F1, as_symbolic=True, M=3)"
   ]
  },
  {
   "cell_type": "code",
   "execution_count": 11,
   "metadata": {},
   "outputs": [
    {
     "ename": "KeyboardInterrupt",
     "evalue": "",
     "output_type": "error",
     "traceback": [
      "\u001b[0;31m---------------------------------------------------------------------------\u001b[0m",
      "\u001b[0;31mKeyboardInterrupt\u001b[0m                         Traceback (most recent call last)",
      "Cell \u001b[0;32mIn [11], line 3\u001b[0m\n\u001b[1;32m      1\u001b[0m \u001b[38;5;66;03m# Lattice paths enumeration sequence (on main diagonal)\u001b[39;00m\n\u001b[1;32m      2\u001b[0m F2 \u001b[38;5;241m=\u001b[39m (Integer(\u001b[38;5;241m1\u001b[39m)\u001b[38;5;241m+\u001b[39mx)\u001b[38;5;241m*\u001b[39m(Integer(\u001b[38;5;241m1\u001b[39m)\u001b[38;5;241m+\u001b[39my)\u001b[38;5;241m/\u001b[39m(Integer(\u001b[38;5;241m1\u001b[39m)\u001b[38;5;241m-\u001b[39mw\u001b[38;5;241m*\u001b[39mx\u001b[38;5;241m*\u001b[39my\u001b[38;5;241m*\u001b[39m(x\u001b[38;5;241m+\u001b[39my\u001b[38;5;241m+\u001b[39mInteger(\u001b[38;5;241m1\u001b[39m)\u001b[38;5;241m/\u001b[39mx\u001b[38;5;241m+\u001b[39mInteger(\u001b[38;5;241m1\u001b[39m)\u001b[38;5;241m/\u001b[39my))\n\u001b[0;32m----> 3\u001b[0m \u001b[43mdiagonal_asy\u001b[49m\u001b[43m(\u001b[49m\u001b[43mF2\u001b[49m\u001b[43m,\u001b[49m\u001b[43m \u001b[49m\u001b[43mas_symbolic\u001b[49m\u001b[38;5;241;43m=\u001b[39;49m\u001b[38;5;28;43;01mFalse\u001b[39;49;00m\u001b[43m,\u001b[49m\u001b[43m \u001b[49m\u001b[43mM\u001b[49m\u001b[38;5;241;43m=\u001b[39;49m\u001b[43mInteger\u001b[49m\u001b[43m(\u001b[49m\u001b[38;5;241;43m2\u001b[39;49m\u001b[43m)\u001b[49m\u001b[43m)\u001b[49m\n",
      "File \u001b[0;32m~/.sage/local/lib/python3.11/site-packages/sage_acsv/asymptotics.py:199\u001b[0m, in \u001b[0;36mdiagonal_asy\u001b[0;34m(F, r, linear_form, M, return_points, output_format, as_symbolic)\u001b[0m\n\u001b[1;32m    196\u001b[0m C \u001b[38;5;241m=\u001b[39m SR(\u001b[38;5;241m1\u001b[39m \u001b[38;5;241m/\u001b[39m T)\n\u001b[1;32m    198\u001b[0m \u001b[38;5;66;03m# Compute constants at contributing singularities\u001b[39;00m\n\u001b[0;32m--> 199\u001b[0m asm_quantities \u001b[38;5;241m=\u001b[39m \u001b[43m[\u001b[49m\n\u001b[1;32m    200\u001b[0m \u001b[43m    \u001b[49m\u001b[43m[\u001b[49m\u001b[43mGeneralTermAsymptotics\u001b[49m\u001b[43m(\u001b[49m\u001b[43mG\u001b[49m\u001b[43m,\u001b[49m\u001b[43m \u001b[49m\u001b[43mH\u001b[49m\u001b[43m,\u001b[49m\u001b[43m \u001b[49m\u001b[43mr\u001b[49m\u001b[43m,\u001b[49m\u001b[43m \u001b[49m\u001b[43mvs\u001b[49m\u001b[43m,\u001b[49m\u001b[43m \u001b[49m\u001b[43mcp\u001b[49m\u001b[43m,\u001b[49m\u001b[43m \u001b[49m\u001b[43mM\u001b[49m\u001b[43m)\u001b[49m\u001b[43m]\u001b[49m\n\u001b[1;32m    201\u001b[0m \u001b[43m        \u001b[49m\u001b[38;5;241;43m+\u001b[39;49m\u001b[43m \u001b[49m\u001b[43m[\u001b[49m\u001b[43mQQbar\u001b[49m\u001b[43m(\u001b[49m\u001b[43mq\u001b[49m\u001b[38;5;241;43m.\u001b[39;49m\u001b[43msubs\u001b[49m\u001b[43m(\u001b[49m\u001b[43m[\u001b[49m\u001b[43mSR\u001b[49m\u001b[43m(\u001b[49m\u001b[43mv\u001b[49m\u001b[43m)\u001b[49m\u001b[43m \u001b[49m\u001b[38;5;241;43m==\u001b[39;49m\u001b[43m \u001b[49m\u001b[43mV\u001b[49m\u001b[43m \u001b[49m\u001b[38;5;28;43;01mfor\u001b[39;49;00m\u001b[43m \u001b[49m\u001b[43m(\u001b[49m\u001b[43mv\u001b[49m\u001b[43m,\u001b[49m\u001b[43m \u001b[49m\u001b[43mV\u001b[49m\u001b[43m)\u001b[49m\u001b[43m \u001b[49m\u001b[38;5;129;43;01min\u001b[39;49;00m\u001b[43m \u001b[49m\u001b[38;5;28;43mzip\u001b[39;49m\u001b[43m(\u001b[49m\u001b[43mvs\u001b[49m\u001b[43m,\u001b[49m\u001b[43m \u001b[49m\u001b[43mcp\u001b[49m\u001b[43m)\u001b[49m\u001b[43m]\u001b[49m\u001b[43m)\u001b[49m\u001b[43m)\u001b[49m\u001b[43m \u001b[49m\u001b[38;5;28;43;01mfor\u001b[39;49;00m\u001b[43m \u001b[49m\u001b[43mq\u001b[49m\u001b[43m \u001b[49m\u001b[38;5;129;43;01min\u001b[39;49;00m\u001b[43m \u001b[49m\u001b[43m[\u001b[49m\u001b[43mB\u001b[49m\u001b[43m,\u001b[49m\u001b[43m \u001b[49m\u001b[43mC\u001b[49m\u001b[43m]\u001b[49m\u001b[43m]\u001b[49m\n\u001b[1;32m    202\u001b[0m \u001b[43m    \u001b[49m\u001b[38;5;28;43;01mfor\u001b[39;49;00m\u001b[43m \u001b[49m\u001b[43mcp\u001b[49m\u001b[43m \u001b[49m\u001b[38;5;129;43;01min\u001b[39;49;00m\u001b[43m \u001b[49m\u001b[43mmin_crit_pts\u001b[49m\n\u001b[1;32m    203\u001b[0m \u001b[43m\u001b[49m\u001b[43m]\u001b[49m \u001b[38;5;28;01mif\u001b[39;00m M \u001b[38;5;241m>\u001b[39m \u001b[38;5;241m1\u001b[39m \u001b[38;5;28;01melse\u001b[39;00m [\n\u001b[1;32m    204\u001b[0m     [[QQbar(A\u001b[38;5;241m.\u001b[39msubs([SR(v) \u001b[38;5;241m==\u001b[39m V \u001b[38;5;28;01mfor\u001b[39;00m (v, V) \u001b[38;5;129;01min\u001b[39;00m \u001b[38;5;28mzip\u001b[39m(vs, cp)]))]] \u001b[38;5;241m+\u001b[39m \n\u001b[1;32m    205\u001b[0m         [QQbar(q\u001b[38;5;241m.\u001b[39msubs([SR(v) \u001b[38;5;241m==\u001b[39m V \u001b[38;5;28;01mfor\u001b[39;00m (v, V) \u001b[38;5;129;01min\u001b[39;00m \u001b[38;5;28mzip\u001b[39m(vs, cp)])) \u001b[38;5;28;01mfor\u001b[39;00m q \u001b[38;5;129;01min\u001b[39;00m [B, C]]\n\u001b[1;32m    206\u001b[0m     \u001b[38;5;28;01mfor\u001b[39;00m cp \u001b[38;5;129;01min\u001b[39;00m min_crit_pts\n\u001b[1;32m    207\u001b[0m ]\n\u001b[1;32m    209\u001b[0m n \u001b[38;5;241m=\u001b[39m SR\u001b[38;5;241m.\u001b[39mvar(\u001b[38;5;124m'\u001b[39m\u001b[38;5;124mn\u001b[39m\u001b[38;5;124m'\u001b[39m)\n\u001b[1;32m    210\u001b[0m asm_vals \u001b[38;5;241m=\u001b[39m [\n\u001b[1;32m    211\u001b[0m     (c, QQ(\u001b[38;5;241m1\u001b[39m \u001b[38;5;241m-\u001b[39m d)\u001b[38;5;241m/\u001b[39m\u001b[38;5;241m2\u001b[39m, b\u001b[38;5;241m.\u001b[39msqrt(), add([a[j]\u001b[38;5;241m/\u001b[39m(rd\u001b[38;5;241m*\u001b[39mn)\u001b[38;5;241m*\u001b[39m\u001b[38;5;241m*\u001b[39mj \u001b[38;5;28;01mfor\u001b[39;00m j \u001b[38;5;129;01min\u001b[39;00m \u001b[38;5;28mrange\u001b[39m(M)]))\n\u001b[1;32m    212\u001b[0m     \u001b[38;5;28;01mfor\u001b[39;00m (a, b, c) \u001b[38;5;129;01min\u001b[39;00m asm_quantities\n\u001b[1;32m    213\u001b[0m ]\n",
      "File \u001b[0;32m~/.sage/local/lib/python3.11/site-packages/sage_acsv/asymptotics.py:200\u001b[0m, in \u001b[0;36m<listcomp>\u001b[0;34m(.0)\u001b[0m\n\u001b[1;32m    196\u001b[0m C \u001b[38;5;241m=\u001b[39m SR(\u001b[38;5;241m1\u001b[39m \u001b[38;5;241m/\u001b[39m T)\n\u001b[1;32m    198\u001b[0m \u001b[38;5;66;03m# Compute constants at contributing singularities\u001b[39;00m\n\u001b[1;32m    199\u001b[0m asm_quantities \u001b[38;5;241m=\u001b[39m [\n\u001b[0;32m--> 200\u001b[0m     [\u001b[43mGeneralTermAsymptotics\u001b[49m\u001b[43m(\u001b[49m\u001b[43mG\u001b[49m\u001b[43m,\u001b[49m\u001b[43m \u001b[49m\u001b[43mH\u001b[49m\u001b[43m,\u001b[49m\u001b[43m \u001b[49m\u001b[43mr\u001b[49m\u001b[43m,\u001b[49m\u001b[43m \u001b[49m\u001b[43mvs\u001b[49m\u001b[43m,\u001b[49m\u001b[43m \u001b[49m\u001b[43mcp\u001b[49m\u001b[43m,\u001b[49m\u001b[43m \u001b[49m\u001b[43mM\u001b[49m\u001b[43m)\u001b[49m]\n\u001b[1;32m    201\u001b[0m         \u001b[38;5;241m+\u001b[39m [QQbar(q\u001b[38;5;241m.\u001b[39msubs([SR(v) \u001b[38;5;241m==\u001b[39m V \u001b[38;5;28;01mfor\u001b[39;00m (v, V) \u001b[38;5;129;01min\u001b[39;00m \u001b[38;5;28mzip\u001b[39m(vs, cp)])) \u001b[38;5;28;01mfor\u001b[39;00m q \u001b[38;5;129;01min\u001b[39;00m [B, C]]\n\u001b[1;32m    202\u001b[0m     \u001b[38;5;28;01mfor\u001b[39;00m cp \u001b[38;5;129;01min\u001b[39;00m min_crit_pts\n\u001b[1;32m    203\u001b[0m ] \u001b[38;5;28;01mif\u001b[39;00m M \u001b[38;5;241m>\u001b[39m \u001b[38;5;241m1\u001b[39m \u001b[38;5;28;01melse\u001b[39;00m [\n\u001b[1;32m    204\u001b[0m     [[QQbar(A\u001b[38;5;241m.\u001b[39msubs([SR(v) \u001b[38;5;241m==\u001b[39m V \u001b[38;5;28;01mfor\u001b[39;00m (v, V) \u001b[38;5;129;01min\u001b[39;00m \u001b[38;5;28mzip\u001b[39m(vs, cp)]))]] \u001b[38;5;241m+\u001b[39m \n\u001b[1;32m    205\u001b[0m         [QQbar(q\u001b[38;5;241m.\u001b[39msubs([SR(v) \u001b[38;5;241m==\u001b[39m V \u001b[38;5;28;01mfor\u001b[39;00m (v, V) \u001b[38;5;129;01min\u001b[39;00m \u001b[38;5;28mzip\u001b[39m(vs, cp)])) \u001b[38;5;28;01mfor\u001b[39;00m q \u001b[38;5;129;01min\u001b[39;00m [B, C]]\n\u001b[1;32m    206\u001b[0m     \u001b[38;5;28;01mfor\u001b[39;00m cp \u001b[38;5;129;01min\u001b[39;00m min_crit_pts\n\u001b[1;32m    207\u001b[0m ]\n\u001b[1;32m    209\u001b[0m n \u001b[38;5;241m=\u001b[39m SR\u001b[38;5;241m.\u001b[39mvar(\u001b[38;5;124m'\u001b[39m\u001b[38;5;124mn\u001b[39m\u001b[38;5;124m'\u001b[39m)\n\u001b[1;32m    210\u001b[0m asm_vals \u001b[38;5;241m=\u001b[39m [\n\u001b[1;32m    211\u001b[0m     (c, QQ(\u001b[38;5;241m1\u001b[39m \u001b[38;5;241m-\u001b[39m d)\u001b[38;5;241m/\u001b[39m\u001b[38;5;241m2\u001b[39m, b\u001b[38;5;241m.\u001b[39msqrt(), add([a[j]\u001b[38;5;241m/\u001b[39m(rd\u001b[38;5;241m*\u001b[39mn)\u001b[38;5;241m*\u001b[39m\u001b[38;5;241m*\u001b[39mj \u001b[38;5;28;01mfor\u001b[39;00m j \u001b[38;5;129;01min\u001b[39;00m \u001b[38;5;28mrange\u001b[39m(M)]))\n\u001b[1;32m    212\u001b[0m     \u001b[38;5;28;01mfor\u001b[39;00m (a, b, c) \u001b[38;5;129;01min\u001b[39;00m asm_quantities\n\u001b[1;32m    213\u001b[0m ]\n",
      "File \u001b[0;32m~/.sage/local/lib/python3.11/site-packages/sage_acsv/asymptotics.py:325\u001b[0m, in \u001b[0;36mGeneralTermAsymptotics\u001b[0;34m(G, H, r, vs, cp, M)\u001b[0m\n\u001b[1;32m    322\u001b[0m tsubs \u001b[38;5;241m=\u001b[39m {v : v\u001b[38;5;241m.\u001b[39msubs(cp)\u001b[38;5;241m*\u001b[39mexpSeries\u001b[38;5;241m.\u001b[39msubs(x_ \u001b[38;5;241m=\u001b[39m I\u001b[38;5;241m*\u001b[39mt) \u001b[38;5;28;01mfor\u001b[39;00m [v,t] \u001b[38;5;129;01min\u001b[39;00m \u001b[38;5;28mzip\u001b[39m(vs,tvars)}\n\u001b[1;32m    323\u001b[0m tsubs[vd] \u001b[38;5;241m=\u001b[39m g\u001b[38;5;241m.\u001b[39msubs(tsubs)\n\u001b[0;32m--> 325\u001b[0m P \u001b[38;5;241m=\u001b[39m (\u001b[38;5;241m-\u001b[39mG\u001b[38;5;241m/\u001b[39mg\u001b[38;5;241m/\u001b[39mH\u001b[38;5;241m.\u001b[39mderivative(vd))\u001b[38;5;241m.\u001b[39msubs(tsubs)\n\u001b[1;32m    326\u001b[0m psi \u001b[38;5;241m=\u001b[39m logSeries\u001b[38;5;241m.\u001b[39msubs(x_ \u001b[38;5;241m=\u001b[39m g\u001b[38;5;241m.\u001b[39msubs(tsubs)\u001b[38;5;241m/\u001b[39mg\u001b[38;5;241m.\u001b[39msubs(cp) \u001b[38;5;241m-\u001b[39m \u001b[38;5;241m1\u001b[39m)\n\u001b[1;32m    327\u001b[0m psi \u001b[38;5;241m+\u001b[39m\u001b[38;5;241m=\u001b[39m I \u001b[38;5;241m*\u001b[39m add([r[k]\u001b[38;5;241m*\u001b[39mtvars[k] \u001b[38;5;28;01mfor\u001b[39;00m k \u001b[38;5;129;01min\u001b[39;00m \u001b[38;5;28mrange\u001b[39m(d\u001b[38;5;241m-\u001b[39m\u001b[38;5;241m1\u001b[39m)])\u001b[38;5;241m/\u001b[39mr[\u001b[38;5;241m-\u001b[39m\u001b[38;5;241m1\u001b[39m]\n",
      "File \u001b[0;32m/private/var/tmp/sage-10.2-current/local/var/lib/sage/venv-python3.11.1/lib/python3.11/site-packages/sage/structure/element.pyx:828\u001b[0m, in \u001b[0;36msage.structure.element.Element.subs (build/cythonized/sage/structure/element.c:15303)\u001b[0;34m()\u001b[0m\n\u001b[1;32m    826\u001b[0m         else:\n\u001b[1;32m    827\u001b[0m             variables.append(gen)\n\u001b[0;32m--> 828\u001b[0m     return self(*variables)\n\u001b[1;32m    829\u001b[0m \n\u001b[1;32m    830\u001b[0m def numerical_approx(self, prec=None, digits=None, algorithm=None):\n",
      "File \u001b[0;32m/private/var/tmp/sage-10.2-current/local/var/lib/sage/venv-python3.11.1/lib/python3.11/site-packages/sage/rings/fraction_field_element.pyx:447\u001b[0m, in \u001b[0;36msage.rings.fraction_field_element.FractionFieldElement.__call__ (build/cythonized/sage/rings/fraction_field_element.c:9170)\u001b[0;34m()\u001b[0m\n\u001b[1;32m    445\u001b[0m         (-2*x1*x2 + x1 + 1)/(x1 + x2)\n\u001b[1;32m    446\u001b[0m     \"\"\"\n\u001b[0;32m--> 447\u001b[0m     return self._numerator(*x, **kwds) / self._denominator(*x, **kwds)\n\u001b[1;32m    448\u001b[0m \n\u001b[1;32m    449\u001b[0m def _is_atomic(self):\n",
      "File \u001b[0;32m/private/var/tmp/sage-10.2-current/local/var/lib/sage/venv-python3.11.1/lib/python3.11/site-packages/sage/structure/element.pyx:1737\u001b[0m, in \u001b[0;36msage.structure.element.Element.__truediv__ (build/cythonized/sage/structure/element.c:21070)\u001b[0;34m()\u001b[0m\n\u001b[1;32m   1735\u001b[0m cdef int cl = classify_elements(left, right)\n\u001b[1;32m   1736\u001b[0m if HAVE_SAME_PARENT(cl):\n\u001b[0;32m-> 1737\u001b[0m     return (<Element>left)._div_(right)\n\u001b[1;32m   1738\u001b[0m if BOTH_ARE_ELEMENT(cl):\n\u001b[1;32m   1739\u001b[0m     return coercion_model.bin_op(left, right, truediv)\n",
      "File \u001b[0;32m/private/var/tmp/sage-10.2-current/local/var/lib/sage/venv-python3.11.1/lib/python3.11/site-packages/sage/structure/element.pyx:2748\u001b[0m, in \u001b[0;36msage.structure.element.RingElement._div_ (build/cythonized/sage/structure/element.c:28891)\u001b[0;34m()\u001b[0m\n\u001b[1;32m   2746\u001b[0m     return l\n\u001b[1;32m   2747\u001b[0m \n\u001b[0;32m-> 2748\u001b[0m cpdef _div_(self, other) noexcept:\n\u001b[1;32m   2749\u001b[0m     \"\"\"\n\u001b[1;32m   2750\u001b[0m     Default implementation of division using the fraction field.\n",
      "File \u001b[0;32m/private/var/tmp/sage-10.2-current/local/var/lib/sage/venv-python3.11.1/lib/python3.11/site-packages/sage/rings/polynomial/multi_polynomial_element.py:405\u001b[0m, in \u001b[0;36mMPolynomial_element._div_\u001b[0;34m(self, right)\u001b[0m\n\u001b[1;32m    403\u001b[0m     inv \u001b[38;5;241m=\u001b[39m \u001b[38;5;28mself\u001b[39m\u001b[38;5;241m.\u001b[39mbase_ring()\u001b[38;5;241m.\u001b[39mone() \u001b[38;5;241m/\u001b[39m right\u001b[38;5;241m.\u001b[39mconstant_coefficient()\n\u001b[1;32m    404\u001b[0m     \u001b[38;5;28;01mreturn\u001b[39;00m inv \u001b[38;5;241m*\u001b[39m \u001b[38;5;28mself\u001b[39m\n\u001b[0;32m--> 405\u001b[0m \u001b[38;5;28;01mreturn\u001b[39;00m \u001b[38;5;28;43mself\u001b[39;49m\u001b[38;5;241;43m.\u001b[39;49m\u001b[43mparent\u001b[49m\u001b[43m(\u001b[49m\u001b[43m)\u001b[49m\u001b[38;5;241;43m.\u001b[39;49m\u001b[43mfraction_field\u001b[49m\u001b[43m(\u001b[49m\u001b[43m)\u001b[49m\u001b[43m(\u001b[49m\u001b[38;5;28;43mself\u001b[39;49m\u001b[43m,\u001b[49m\u001b[43m \u001b[49m\u001b[43mright\u001b[49m\u001b[43m,\u001b[49m\u001b[43m \u001b[49m\u001b[43mcoerce\u001b[49m\u001b[38;5;241;43m=\u001b[39;49m\u001b[38;5;28;43;01mFalse\u001b[39;49;00m\u001b[43m)\u001b[49m\n",
      "File \u001b[0;32m/private/var/tmp/sage-10.2-current/local/var/lib/sage/venv-python3.11.1/lib/python3.11/site-packages/sage/structure/parent.pyx:903\u001b[0m, in \u001b[0;36msage.structure.parent.Parent.__call__ (build/cythonized/sage/structure/parent.c:12685)\u001b[0;34m()\u001b[0m\n\u001b[1;32m    901\u001b[0m         return mor._call_(x)\n\u001b[1;32m    902\u001b[0m     else:\n\u001b[0;32m--> 903\u001b[0m         return mor._call_with_args(x, args, kwds)\n\u001b[1;32m    904\u001b[0m \n\u001b[1;32m    905\u001b[0m raise TypeError(_LazyString(\"No conversion defined from %s to %s\", (R, self), {}))\n",
      "File \u001b[0;32m/private/var/tmp/sage-10.2-current/local/var/lib/sage/venv-python3.11.1/lib/python3.11/site-packages/sage/structure/coerce_maps.pyx:177\u001b[0m, in \u001b[0;36msage.structure.coerce_maps.DefaultConvertMap_unique._call_with_args (build/cythonized/sage/structure/coerce_maps.c:7430)\u001b[0;34m()\u001b[0m\n\u001b[1;32m    175\u001b[0m             return C._element_constructor(x, *args)\n\u001b[1;32m    176\u001b[0m         else:\n\u001b[0;32m--> 177\u001b[0m             return C._element_constructor(x, *args, **kwds)\n\u001b[1;32m    178\u001b[0m except Exception:\n\u001b[1;32m    179\u001b[0m     if print_warnings:\n",
      "File \u001b[0;32m/private/var/tmp/sage-10.2-current/local/var/lib/sage/venv-python3.11.1/lib/python3.11/site-packages/sage/rings/fraction_field.py:665\u001b[0m, in \u001b[0;36mFractionField_generic._element_constructor_\u001b[0;34m(self, x, y, coerce)\u001b[0m\n\u001b[1;32m    663\u001b[0m     x, y \u001b[38;5;241m=\u001b[39m x\u001b[38;5;241m.\u001b[39mnumerator() \u001b[38;5;241m*\u001b[39m y\u001b[38;5;241m.\u001b[39mdenominator(), y\u001b[38;5;241m.\u001b[39mnumerator() \u001b[38;5;241m*\u001b[39m x\u001b[38;5;241m.\u001b[39mdenominator()\n\u001b[1;32m    664\u001b[0m \u001b[38;5;28;01mtry\u001b[39;00m:\n\u001b[0;32m--> 665\u001b[0m     \u001b[38;5;28;01mreturn\u001b[39;00m \u001b[38;5;28;43mself\u001b[39;49m\u001b[38;5;241;43m.\u001b[39;49m\u001b[43m_element_class\u001b[49m\u001b[43m(\u001b[49m\u001b[38;5;28;43mself\u001b[39;49m\u001b[43m,\u001b[49m\u001b[43m \u001b[49m\u001b[43mx\u001b[49m\u001b[43m,\u001b[49m\u001b[43m \u001b[49m\u001b[43my\u001b[49m\u001b[43m,\u001b[49m\u001b[43m \u001b[49m\u001b[43mcoerce\u001b[49m\u001b[38;5;241;43m=\u001b[39;49m\u001b[43mcoerce\u001b[49m\u001b[43m)\u001b[49m\n\u001b[1;32m    666\u001b[0m \u001b[38;5;28;01mexcept\u001b[39;00m (\u001b[38;5;167;01mTypeError\u001b[39;00m, \u001b[38;5;167;01mValueError\u001b[39;00m):\n\u001b[1;32m    667\u001b[0m     \u001b[38;5;28;01mpass\u001b[39;00m\n",
      "File \u001b[0;32m/private/var/tmp/sage-10.2-current/local/var/lib/sage/venv-python3.11.1/lib/python3.11/site-packages/sage/rings/fraction_field_element.pyx:118\u001b[0m, in \u001b[0;36msage.rings.fraction_field_element.FractionFieldElement.__init__ (build/cythonized/sage/rings/fraction_field_element.c:6695)\u001b[0;34m()\u001b[0m\n\u001b[1;32m    116\u001b[0m if reduce and parent.is_exact():\n\u001b[1;32m    117\u001b[0m     try:\n\u001b[0;32m--> 118\u001b[0m         self.reduce()\n\u001b[1;32m    119\u001b[0m     except ArithmeticError:\n\u001b[1;32m    120\u001b[0m         pass\n",
      "File \u001b[0;32m/private/var/tmp/sage-10.2-current/local/var/lib/sage/venv-python3.11.1/lib/python3.11/site-packages/sage/rings/fraction_field_element.pyx:195\u001b[0m, in \u001b[0;36msage.rings.fraction_field_element.FractionFieldElement.reduce (build/cythonized/sage/rings/fraction_field_element.c:7325)\u001b[0;34m()\u001b[0m\n\u001b[1;32m    193\u001b[0m     return\n\u001b[1;32m    194\u001b[0m try:\n\u001b[0;32m--> 195\u001b[0m     g = self._numerator.gcd(self._denominator)\n\u001b[1;32m    196\u001b[0m     if not g.is_unit():\n\u001b[1;32m    197\u001b[0m         self._numerator //= g\n",
      "File \u001b[0;32m/private/var/tmp/sage-10.2-current/local/var/lib/sage/venv-python3.11.1/lib/python3.11/site-packages/sage/rings/polynomial/multi_polynomial.pyx:2133\u001b[0m, in \u001b[0;36msage.rings.polynomial.multi_polynomial.MPolynomial.gcd (build/cythonized/sage/rings/polynomial/multi_polynomial.c:27889)\u001b[0;34m()\u001b[0m\n\u001b[1;32m   2131\u001b[0m         raise NotImplementedError(\"GCD is not implemented for multivariate polynomials over {}\".format(self._parent._mpoly_base_ring()))\n\u001b[1;32m   2132\u001b[0m     else:\n\u001b[0;32m-> 2133\u001b[0m         return self.parent()(doit(uniself, other.polynomial(x)))\n\u001b[1;32m   2134\u001b[0m \n\u001b[1;32m   2135\u001b[0m def nth_root(self, n):\n",
      "File \u001b[0;32m/private/var/tmp/sage-10.2-current/local/var/lib/sage/venv-python3.11.1/lib/python3.11/site-packages/sage/categories/unique_factorization_domains.py:205\u001b[0m, in \u001b[0;36mUniqueFactorizationDomains.ParentMethods._gcd_univariate_polynomial\u001b[0;34m(self, f, g)\u001b[0m\n\u001b[1;32m    203\u001b[0m     h \u001b[38;5;241m=\u001b[39m h\u001b[38;5;241m*\u001b[39mg\u001b[38;5;241m*\u001b[39m\u001b[38;5;241m*\u001b[39mdelta \u001b[38;5;241m/\u001b[39m\u001b[38;5;241m/\u001b[39m h\u001b[38;5;241m*\u001b[39m\u001b[38;5;241m*\u001b[39mdelta\n\u001b[1;32m    204\u001b[0m     delta \u001b[38;5;241m=\u001b[39m A\u001b[38;5;241m.\u001b[39mdegree() \u001b[38;5;241m-\u001b[39m B\u001b[38;5;241m.\u001b[39mdegree()\n\u001b[0;32m--> 205\u001b[0m     _, R \u001b[38;5;241m=\u001b[39m A\u001b[38;5;241m.\u001b[39mpseudo_quo_rem(B)\n\u001b[1;32m    207\u001b[0m \u001b[38;5;28;01mif\u001b[39;00m R\u001b[38;5;241m.\u001b[39mis_zero():\n\u001b[1;32m    208\u001b[0m     b \u001b[38;5;241m=\u001b[39m \u001b[38;5;28mself\u001b[39m\u001b[38;5;241m.\u001b[39mzero()\n",
      "File \u001b[0;32m/private/var/tmp/sage-10.2-current/local/var/lib/sage/venv-python3.11.1/lib/python3.11/site-packages/sage/rings/polynomial/polynomial_element.pyx:4998\u001b[0m, in \u001b[0;36msage.rings.polynomial.polynomial_element.Polynomial.pseudo_quo_rem (build/cythonized/sage/rings/polynomial/polynomial_element.c:54870)\u001b[0;34m()\u001b[0m\n\u001b[1;32m   4996\u001b[0m diffdeg = R.degree() - B.degree()\n\u001b[1;32m   4997\u001b[0m Q = d*Q + self._parent(c).shift(diffdeg)\n\u001b[0;32m-> 4998\u001b[0m R = d*R - c*B.shift(diffdeg)\n\u001b[1;32m   4999\u001b[0m e -= 1\n\u001b[1;32m   5000\u001b[0m \n",
      "File \u001b[0;32m/private/var/tmp/sage-10.2-current/local/var/lib/sage/venv-python3.11.1/lib/python3.11/site-packages/sage/structure/element.pyx:1515\u001b[0m, in \u001b[0;36msage.structure.element.Element.__mul__ (build/cythonized/sage/structure/element.c:20104)\u001b[0;34m()\u001b[0m\n\u001b[1;32m   1513\u001b[0m     return (<Element>left)._mul_(right)\n\u001b[1;32m   1514\u001b[0m if BOTH_ARE_ELEMENT(cl):\n\u001b[0;32m-> 1515\u001b[0m     return coercion_model.bin_op(left, right, mul)\n\u001b[1;32m   1516\u001b[0m \n\u001b[1;32m   1517\u001b[0m cdef long value\n",
      "File \u001b[0;32m/private/var/tmp/sage-10.2-current/local/var/lib/sage/venv-python3.11.1/lib/python3.11/site-packages/sage/structure/coerce.pyx:1222\u001b[0m, in \u001b[0;36msage.structure.coerce.CoercionModel.bin_op (build/cythonized/sage/structure/coerce.c:15809)\u001b[0;34m()\u001b[0m\n\u001b[1;32m   1220\u001b[0m if action is not None:\n\u001b[1;32m   1221\u001b[0m     if (<Action>action)._is_left:\n\u001b[0;32m-> 1222\u001b[0m         return (<Action>action)._act_(x, y)\n\u001b[1;32m   1223\u001b[0m     else:\n\u001b[1;32m   1224\u001b[0m         return (<Action>action)._act_(y, x)\n",
      "File \u001b[0;32m/private/var/tmp/sage-10.2-current/local/var/lib/sage/venv-python3.11.1/lib/python3.11/site-packages/sage/structure/coerce_actions.pyx:622\u001b[0m, in \u001b[0;36msage.structure.coerce_actions.LeftModuleAction._act_ (build/cythonized/sage/structure/coerce_actions.c:12835)\u001b[0;34m()\u001b[0m\n\u001b[1;32m    620\u001b[0m if self.extended_base is not None:\n\u001b[1;32m    621\u001b[0m     a = <ModuleElement?>self.extended_base(a)\n\u001b[0;32m--> 622\u001b[0m return (<ModuleElement>a)._rmul_(<Element>g)  # g * a\n\u001b[1;32m    623\u001b[0m \n\u001b[1;32m    624\u001b[0m \n",
      "File \u001b[0;32m/private/var/tmp/sage-10.2-current/local/var/lib/sage/venv-python3.11.1/lib/python3.11/site-packages/sage/rings/polynomial/polynomial_element.pyx:11909\u001b[0m, in \u001b[0;36msage.rings.polynomial.polynomial_element.Polynomial_generic_dense._rmul_ (build/cythonized/sage/rings/polynomial/polynomial_element.c:119830)\u001b[0;34m()\u001b[0m\n\u001b[1;32m  11907\u001b[0m if c._parent is not (<Element>self._coeffs[0])._parent:\n\u001b[1;32m  11908\u001b[0m     c = (<Element>self._coeffs[0])._parent.coerce(c)\n\u001b[0;32m> 11909\u001b[0m v = [c * a for a in self._coeffs]\n\u001b[1;32m  11910\u001b[0m cdef Polynomial_generic_dense res = self._new_c(v, self._parent)\n\u001b[1;32m  11911\u001b[0m #if not v[len(v)-1]:\n",
      "File \u001b[0;32m/private/var/tmp/sage-10.2-current/local/var/lib/sage/venv-python3.11.1/lib/python3.11/site-packages/sage/structure/element.pyx:1513\u001b[0m, in \u001b[0;36msage.structure.element.Element.__mul__ (build/cythonized/sage/structure/element.c:20069)\u001b[0;34m()\u001b[0m\n\u001b[1;32m   1511\u001b[0m cdef int cl = classify_elements(left, right)\n\u001b[1;32m   1512\u001b[0m if HAVE_SAME_PARENT(cl):\n\u001b[0;32m-> 1513\u001b[0m     return (<Element>left)._mul_(right)\n\u001b[1;32m   1514\u001b[0m if BOTH_ARE_ELEMENT(cl):\n\u001b[1;32m   1515\u001b[0m     return coercion_model.bin_op(left, right, mul)\n",
      "File \u001b[0;32m/private/var/tmp/sage-10.2-current/local/var/lib/sage/venv-python3.11.1/lib/python3.11/site-packages/sage/rings/polynomial/polynomial_element.pyx:1838\u001b[0m, in \u001b[0;36msage.rings.polynomial.polynomial_element.Polynomial._mul_ (build/cythonized/sage/rings/polynomial/polynomial_element.c:28695)\u001b[0;34m()\u001b[0m\n\u001b[1;32m   1836\u001b[0m \n\u001b[1;32m   1837\u001b[0m         elif self._parent.is_exact():\n\u001b[0;32m-> 1838\u001b[0m             return self._mul_karatsuba(right)\n\u001b[1;32m   1839\u001b[0m         else:\n\u001b[1;32m   1840\u001b[0m             return self._mul_generic(right)\n",
      "File \u001b[0;32m/private/var/tmp/sage-10.2-current/local/var/lib/sage/venv-python3.11.1/lib/python3.11/site-packages/sage/rings/polynomial/polynomial_element.pyx:3333\u001b[0m, in \u001b[0;36msage.rings.polynomial.polynomial_element.Polynomial._mul_karatsuba (build/cythonized/sage/rings/polynomial/polynomial_element.c:43715)\u001b[0;34m()\u001b[0m\n\u001b[1;32m   3331\u001b[0m     if n == m:\n\u001b[1;32m   3332\u001b[0m         return self._new_generic(do_karatsuba(f,g, K_threshold, 0, 0, n))\n\u001b[0;32m-> 3333\u001b[0m     return self._new_generic(do_karatsuba_different_size(f,g, K_threshold))\n\u001b[1;32m   3334\u001b[0m \n\u001b[1;32m   3335\u001b[0m @cython.boundscheck(False)\n",
      "File \u001b[0;32m/private/var/tmp/sage-10.2-current/local/var/lib/sage/venv-python3.11.1/lib/python3.11/site-packages/sage/rings/polynomial/polynomial_element.pyx:11427\u001b[0m, in \u001b[0;36msage.rings.polynomial.polynomial_element.do_karatsuba_different_size (build/cythonized/sage/rings/polynomial/polynomial_element.c:113771)\u001b[0;34m()\u001b[0m\n\u001b[1;32m  11425\u001b[0m q = m // n\n\u001b[1;32m  11426\u001b[0m r = m % n\n\u001b[0;32m> 11427\u001b[0m output = do_karatsuba(left, right, K_threshold, 0, 0, n)\n\u001b[1;32m  11428\u001b[0m for i from 1 <= i < q:\n\u001b[1;32m  11429\u001b[0m     mi = n*i\n",
      "File \u001b[0;32m/private/var/tmp/sage-10.2-current/local/var/lib/sage/venv-python3.11.1/lib/python3.11/site-packages/sage/rings/polynomial/polynomial_element.pyx:11517\u001b[0m, in \u001b[0;36msage.rings.polynomial.polynomial_element.do_karatsuba (build/cythonized/sage/rings/polynomial/polynomial_element.c:114517)\u001b[0;34m()\u001b[0m\n\u001b[1;32m  11515\u001b[0m start_le = start_l+e\n\u001b[1;32m  11516\u001b[0m start_re = start_r+e\n\u001b[0;32m> 11517\u001b[0m ac = do_karatsuba(left, right, K_threshold, start_le, start_re, ne)\n\u001b[1;32m  11518\u001b[0m bd = do_karatsuba(left, right, K_threshold, start_l,  start_r,  e)\n\u001b[1;32m  11519\u001b[0m a_m_b = left[start_le:start_le+ne]\n",
      "File \u001b[0;32m/private/var/tmp/sage-10.2-current/local/var/lib/sage/venv-python3.11.1/lib/python3.11/site-packages/sage/rings/polynomial/polynomial_element.pyx:11518\u001b[0m, in \u001b[0;36msage.rings.polynomial.polynomial_element.do_karatsuba (build/cythonized/sage/rings/polynomial/polynomial_element.c:114529)\u001b[0;34m()\u001b[0m\n\u001b[1;32m  11516\u001b[0m start_re = start_r+e\n\u001b[1;32m  11517\u001b[0m ac = do_karatsuba(left, right, K_threshold, start_le, start_re, ne)\n\u001b[0;32m> 11518\u001b[0m bd = do_karatsuba(left, right, K_threshold, start_l,  start_r,  e)\n\u001b[1;32m  11519\u001b[0m a_m_b = left[start_le:start_le+ne]\n\u001b[1;32m  11520\u001b[0m c_m_d = right[start_re:start_re+ne]\n",
      "File \u001b[0;32m/private/var/tmp/sage-10.2-current/local/var/lib/sage/venv-python3.11.1/lib/python3.11/site-packages/sage/rings/polynomial/polynomial_element.pyx:11532\u001b[0m, in \u001b[0;36msage.rings.polynomial.polynomial_element.do_karatsuba (build/cythonized/sage/rings/polynomial/polynomial_element.c:114721)\u001b[0;34m()\u001b[0m\n\u001b[1;32m  11530\u001b[0m # Reconstruct the product from the lists bd, tt1, ac.\n\u001b[1;32m  11531\u001b[0m for i from 0 <= i < e-1:\n\u001b[0;32m> 11532\u001b[0m     bd[e+i] = bd[e+i] + tt1[i]\n\u001b[1;32m  11533\u001b[0m bd.append(tt1[e-1])\n\u001b[1;32m  11534\u001b[0m for i from 0 <= i < lenac -e:\n",
      "File \u001b[0;32m/private/var/tmp/sage-10.2-current/local/var/lib/sage/venv-python3.11.1/lib/python3.11/site-packages/sage/structure/element.pyx:1227\u001b[0m, in \u001b[0;36msage.structure.element.Element.__add__ (build/cythonized/sage/structure/element.c:18826)\u001b[0;34m()\u001b[0m\n\u001b[1;32m   1225\u001b[0m cdef int cl = classify_elements(left, right)\n\u001b[1;32m   1226\u001b[0m if HAVE_SAME_PARENT(cl):\n\u001b[0;32m-> 1227\u001b[0m     return (<Element>left)._add_(right)\n\u001b[1;32m   1228\u001b[0m # Left and right are Sage elements => use coercion model\n\u001b[1;32m   1229\u001b[0m if BOTH_ARE_ELEMENT(cl):\n",
      "File \u001b[0;32m/private/var/tmp/sage-10.2-current/local/var/lib/sage/venv-python3.11.1/lib/python3.11/site-packages/sage/structure/element.pyx:2379\u001b[0m, in \u001b[0;36msage.structure.element.ModuleElement._add_ (build/cythonized/sage/structure/element.c:23636)\u001b[0;34m()\u001b[0m\n\u001b[1;32m   2377\u001b[0m Generic element of a module.\n\u001b[1;32m   2378\u001b[0m \"\"\"\n\u001b[0;32m-> 2379\u001b[0m cpdef _add_(self, other) noexcept:\n\u001b[1;32m   2380\u001b[0m     \"\"\"\n\u001b[1;32m   2381\u001b[0m     Abstract addition method\n",
      "File \u001b[0;32m/private/var/tmp/sage-10.2-current/local/var/lib/sage/venv-python3.11.1/lib/python3.11/site-packages/sage/rings/qqbar.py:3883\u001b[0m, in \u001b[0;36mAlgebraicNumber_base._add_\u001b[0;34m(self, other)\u001b[0m\n\u001b[1;32m   3881\u001b[0m sk \u001b[38;5;241m=\u001b[39m \u001b[38;5;28mtype\u001b[39m(\u001b[38;5;28mself\u001b[39m\u001b[38;5;241m.\u001b[39m_descr)\n\u001b[1;32m   3882\u001b[0m ok \u001b[38;5;241m=\u001b[39m \u001b[38;5;28mtype\u001b[39m(other\u001b[38;5;241m.\u001b[39m_descr)\n\u001b[0;32m-> 3883\u001b[0m \u001b[38;5;28;01mreturn\u001b[39;00m \u001b[38;5;28mtype\u001b[39m(\u001b[38;5;28mself\u001b[39m)(\u001b[43m_binop_algo\u001b[49m\u001b[43m[\u001b[49m\u001b[43msk\u001b[49m\u001b[43m,\u001b[49m\u001b[43m \u001b[49m\u001b[43mok\u001b[49m\u001b[43m]\u001b[49m\u001b[43m(\u001b[49m\u001b[38;5;28;43mself\u001b[39;49m\u001b[43m,\u001b[49m\u001b[43m \u001b[49m\u001b[43mother\u001b[49m\u001b[43m,\u001b[49m\u001b[43m \u001b[49m\u001b[43moperator\u001b[49m\u001b[38;5;241;43m.\u001b[39;49m\u001b[43madd\u001b[49m\u001b[43m)\u001b[49m)\n",
      "File \u001b[0;32m/private/var/tmp/sage-10.2-current/local/var/lib/sage/venv-python3.11.1/lib/python3.11/site-packages/sage/rings/qqbar.py:8720\u001b[0m, in \u001b[0;36man_binop_element\u001b[0;34m(a, b, op)\u001b[0m\n\u001b[1;32m   8718\u001b[0m bdg \u001b[38;5;241m=\u001b[39m bd\u001b[38;5;241m.\u001b[39mgenerator()\n\u001b[1;32m   8719\u001b[0m \u001b[38;5;28;01mif\u001b[39;00m adg \u001b[38;5;241m==\u001b[39m qq_generator \u001b[38;5;129;01mor\u001b[39;00m adg \u001b[38;5;241m==\u001b[39m bdg:\n\u001b[0;32m-> 8720\u001b[0m     \u001b[38;5;28;01mreturn\u001b[39;00m ANExtensionElement(bdg, op(ad\u001b[38;5;241m.\u001b[39m_value, bd\u001b[38;5;241m.\u001b[39m_value))\n\u001b[1;32m   8722\u001b[0m \u001b[38;5;28;01mif\u001b[39;00m bdg \u001b[38;5;241m==\u001b[39m qq_generator:\n\u001b[1;32m   8723\u001b[0m     \u001b[38;5;28;01mreturn\u001b[39;00m ANExtensionElement(adg, op(ad\u001b[38;5;241m.\u001b[39m_value, bd\u001b[38;5;241m.\u001b[39m_value))\n",
      "File \u001b[0;32msrc/cysignals/signals.pyx:341\u001b[0m, in \u001b[0;36mcysignals.signals.python_check_interrupt\u001b[0;34m()\u001b[0m\n",
      "\u001b[0;31mKeyboardInterrupt\u001b[0m: "
     ]
    }
   ],
   "source": [
    "# Lattice paths enumeration sequence (on main diagonal)\n",
    "F2 = (1+x)*(1+y)/(1-w*x*y*(x+y+1/x+1/y))\n",
    "diagonal_asy(F2, as_symbolic=False, M=2)"
   ]
  },
  {
   "cell_type": "code",
   "execution_count": 5,
   "metadata": {},
   "outputs": [
    {
     "data": {
      "text/plain": [
       "1.225275868941647?*33.97056274847714?^n/(pi^(3/2)*n^(3/2))"
      ]
     },
     "execution_count": 5,
     "metadata": {},
     "output_type": "execute_result"
    }
   ],
   "source": [
    "# Apéry sequence (on main diagonal)\n",
    "F3 = 1/(1 - w*(1 + x)*(1 + y)*(1 + z)*(x*y*z + y*z + y + z + 1))\n",
    "diagonal_asy(F3, as_symbolic=True)"
   ]
  },
  {
   "cell_type": "code",
   "execution_count": 6,
   "metadata": {},
   "outputs": [
    {
     "data": {
      "text/html": [
       "<html>\\(\\displaystyle \\frac{{\\left(12 \\, \\sqrt{2} + 17\\right)}^{n} \\sqrt{\\frac{17}{2} \\, \\sqrt{2} + 12}}{4 \\, \\pi^{1.5} n^{1.5}}\\)</html>"
      ],
      "text/latex": [
       "$\\displaystyle \\frac{{\\left(12 \\, \\sqrt{2} + 17\\right)}^{n} \\sqrt{\\frac{17}{2} \\, \\sqrt{2} + 12}}{4 \\, \\pi^{1.5} n^{1.5}}$"
      ],
      "text/plain": [
       "1/4*(12*sqrt(2) + 17)^n*sqrt(17/2*sqrt(2) + 12)/(pi^1.5*n^1.5)"
      ]
     },
     "metadata": {},
     "output_type": "display_data"
    }
   ],
   "source": [
    "# The quantities here are algebraic of degree two, so we can represent them in radicals\n",
    "asm_vals = diagonal_asy(F3)\n",
    "show(add([a.radical_expression()^n*b*c*d.radical_expression() for (a,b,c,d) in asm_vals]))"
   ]
  },
  {
   "cell_type": "code",
   "execution_count": 6,
   "metadata": {},
   "outputs": [
    {
     "data": {
      "text/plain": [
       "0.09677555757474702?*5.884442204019508?^n/(sqrt(pi)*sqrt(n))"
      ]
     },
     "execution_count": 6,
     "metadata": {},
     "output_type": "execute_result"
    }
   ],
   "source": [
    "# Example with two critical points with positive coords, neither of which is obviously non-minimal\n",
    "F4 = -1/(1-(1-x-y)*(20-x-40*y))\n",
    "diagonal_asy(F4, as_symbolic=True, M=1)"
   ]
  },
  {
   "cell_type": "code",
   "execution_count": 8,
   "metadata": {},
   "outputs": [
    {
     "name": "stdout",
     "output_type": "stream",
     "text": [
      "No result was computed: No smooth minimal critical points found.\n"
     ]
    }
   ],
   "source": [
    "# Example with no critical points in (1,1)-direction\n",
    "F5 = 1/(x^4*y + x^3*y + x^2*y + x*y - 1)\n",
    "try:\n",
    "    diagonal_asy(F5, as_symbolic=True)\n",
    "except Exception as e:\n",
    "    print(f\"No result was computed: {e}\")"
   ]
  },
  {
   "cell_type": "code",
   "execution_count": 9,
   "metadata": {},
   "outputs": [
    {
     "name": "stdout",
     "output_type": "stream",
     "text": [
      "No result was computed: No smooth minimal critical points found.\n"
     ]
    }
   ],
   "source": [
    "# Another example with no critical points \n",
    "F6 = 1/((-x + 1)^4 - x*y*(x^3 + x^2*y - x^2 - x + 1))\n",
    "try:\n",
    "    diagonal_asy(F6, as_symbolic=True)\n",
    "except Exception as e:\n",
    "    print(f\"No result was computed: {e}\")"
   ]
  },
  {
   "cell_type": "code",
   "execution_count": 10,
   "metadata": {},
   "outputs": [
    {
     "data": {
      "text/plain": [
       "1.015051765128218?*5.828427124746190?^n/(sqrt(pi)*sqrt(n))"
      ]
     },
     "execution_count": 10,
     "metadata": {},
     "output_type": "execute_result"
    }
   ],
   "source": [
    "# Delannoy generating function\n",
    "F7 = 1/(1 - x - y - x*y)\n",
    "diagonal_asy(F7, as_symbolic=True)"
   ]
  },
  {
   "cell_type": "code",
   "execution_count": 11,
   "metadata": {},
   "outputs": [
    {
     "data": {
      "text/plain": [
       "1/7*(0.6234898018587335? + 0.7818314824680299?*I)^n + 1/7*(0.6234898018587335? - 0.7818314824680299?*I)^n + 1/7*(-0.2225209339563144? + 0.9749279121818236?*I)^n + 1/7*(-0.2225209339563144? - 0.9749279121818236?*I)^n + 1/7*(-0.9009688679024191? + 0.4338837391175581?*I)^n + 1/7*(-0.9009688679024191? - 0.4338837391175581?*I)^n + 1/7"
      ]
     },
     "execution_count": 11,
     "metadata": {},
     "output_type": "execute_result"
    }
   ],
   "source": [
    "# One variable example with many minimal critical points on same torus\n",
    "F8 = 1/(1 - x^7)\n",
    "diagonal_asy(F8, as_symbolic=True)"
   ]
  },
  {
   "cell_type": "code",
   "execution_count": 12,
   "metadata": {},
   "outputs": [
    {
     "data": {
      "text/plain": [
       "([(1.285654384750451?, 1, 1, 0.03396226416457560?)], [[0.7778140158516262?]])"
      ]
     },
     "execution_count": 12,
     "metadata": {},
     "output_type": "execute_result"
    }
   ],
   "source": [
    "# One variable example having singularities with close moduli\n",
    "F9 = 1/(8 - 17*x^3 - 9*x^2 + 7*x)\n",
    "diagonal_asy(F9, return_points=True)"
   ]
  },
  {
   "cell_type": "code",
   "execution_count": 13,
   "metadata": {},
   "outputs": [
    {
     "data": {
      "text/plain": [
       "0.9430514023983397?*4.518911369262258?^n/(sqrt(pi)*sqrt(n))"
      ]
     },
     "execution_count": 13,
     "metadata": {},
     "output_type": "execute_result"
    }
   ],
   "source": [
    "F10 = (x^2*y^2 - x*y + 1)/(1-x-y-x*y+x*y^2+x^2*y-x^2*y^3-x^3*y^2)\n",
    "diagonal_asy(F10, as_symbolic=True)"
   ]
  },
  {
   "cell_type": "code",
   "execution_count": null,
   "metadata": {},
   "outputs": [],
   "source": [
    "# Does not finish computing (hangs on computing GB for critical point system)\n",
    "#F = (1-x^3*y^6+x^3*y^4+x^2*y^4+x^2*y^3)/(1-x-y+x^2*y^3-x^3*y^3-x^4*y^4-x^3*y^6+x^4*y^6)"
   ]
  },
  {
   "cell_type": "code",
   "execution_count": null,
   "metadata": {},
   "outputs": [],
   "source": []
  },
  {
   "cell_type": "code",
   "execution_count": null,
   "metadata": {},
   "outputs": [],
   "source": []
  }
 ],
 "metadata": {
  "@webio": {
   "lastCommId": null,
   "lastKernelId": null
  },
  "kernelspec": {
   "display_name": "SageMath 10.2",
   "language": "sage",
   "name": "sagemath"
  },
  "language_info": {
   "codemirror_mode": {
    "name": "ipython",
    "version": 3
   },
   "file_extension": ".py",
   "mimetype": "text/x-python",
   "name": "python",
   "nbconvert_exporter": "python",
   "pygments_lexer": "ipython3",
   "version": "3.11.1"
  }
 },
 "nbformat": 4,
 "nbformat_minor": 4
}
