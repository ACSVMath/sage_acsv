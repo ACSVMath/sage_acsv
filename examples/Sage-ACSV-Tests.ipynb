{
 "cells": [
  {
   "cell_type": "code",
   "execution_count": 1,
   "metadata": {},
   "outputs": [],
   "source": [
    "from sage_acsv import diagonal_asy"
   ]
  },
  {
   "cell_type": "code",
   "execution_count": 2,
   "metadata": {},
   "outputs": [
    {
     "data": {
      "text/plain": [
       "(x, y, w, z, n)"
      ]
     },
     "execution_count": 2,
     "metadata": {},
     "output_type": "execute_result"
    }
   ],
   "source": [
    "# Make variables to be used later\n",
    "var('x,y,w,z,n')"
   ]
  },
  {
   "cell_type": "code",
   "execution_count": 3,
   "metadata": {},
   "outputs": [
    {
     "data": {
      "text/plain": [
       "4^n/(sqrt(pi)*sqrt(n))"
      ]
     },
     "execution_count": 3,
     "metadata": {},
     "output_type": "execute_result"
    }
   ],
   "source": [
    "# Binomial coefficients\n",
    "F1 = 1/(1-x-y)\n",
    "diagonal_asy(F1, as_symbolic=True, use_msolve=False)"
   ]
  },
  {
   "cell_type": "code",
   "execution_count": 4,
   "metadata": {},
   "outputs": [
    {
     "name": "stdout",
     "output_type": "stream",
     "text": [
      "[]\n",
      "[]\n"
     ]
    },
    {
     "data": {
      "text/plain": [
       "4^n/(sqrt(pi)*sqrt(n))"
      ]
     },
     "execution_count": 4,
     "metadata": {},
     "output_type": "execute_result"
    }
   ],
   "source": [
    "# Binomial coefficients\n",
    "F1 = 1/(1-x-y)\n",
    "diagonal_asy(F1, as_symbolic=True, use_msolve=True)"
   ]
  },
  {
   "cell_type": "code",
   "execution_count": 5,
   "metadata": {},
   "outputs": [
    {
     "name": "stdout",
     "output_type": "stream",
     "text": [
      "[]\n",
      "[]\n"
     ]
    },
    {
     "data": {
      "text/plain": [
       "4*4^n/(pi*n)"
      ]
     },
     "execution_count": 5,
     "metadata": {},
     "output_type": "execute_result"
    }
   ],
   "source": [
    "# Lattice paths enumeration sequence (on main diagonal)\n",
    "F2 = (1+x)*(1+y)/(1-w*x*y*(x+y+1/x+1/y))\n",
    "diagonal_asy(F2, as_symbolic=True)"
   ]
  },
  {
   "cell_type": "code",
   "execution_count": 6,
   "metadata": {},
   "outputs": [
    {
     "name": "stdout",
     "output_type": "stream",
     "text": [
      "[]\n",
      "[]\n"
     ]
    },
    {
     "data": {
      "text/plain": [
       "1.225275868941647?*33.97056274847714?^n/(pi^(3/2)*n^(3/2))"
      ]
     },
     "execution_count": 6,
     "metadata": {},
     "output_type": "execute_result"
    }
   ],
   "source": [
    "# Apéry sequence (on main diagonal)\n",
    "F3 = 1/(1 - w*(1 + x)*(1 + y)*(1 + z)*(x*y*z + y*z + y + z + 1))\n",
    "diagonal_asy(F3, as_symbolic=True)"
   ]
  },
  {
   "cell_type": "code",
   "execution_count": 7,
   "metadata": {},
   "outputs": [
    {
     "name": "stdout",
     "output_type": "stream",
     "text": [
      "[]\n",
      "[]\n"
     ]
    },
    {
     "data": {
      "text/plain": [
       "1.225275868941647?*33.97056274847714?^n/(pi^(3/2)*n^(3/2))"
      ]
     },
     "execution_count": 7,
     "metadata": {},
     "output_type": "execute_result"
    }
   ],
   "source": [
    "# Apéry sequence (on main diagonal)\n",
    "F3 = 1/(1 - w*(1 + x)*(1 + y)*(1 + z)*(x*y*z + y*z + y + z + 1))\n",
    "diagonal_asy(F3, as_symbolic=True, use_msolve=True)"
   ]
  },
  {
   "cell_type": "code",
   "execution_count": 8,
   "metadata": {},
   "outputs": [
    {
     "name": "stdout",
     "output_type": "stream",
     "text": [
      "[]\n",
      "[]\n"
     ]
    },
    {
     "data": {
      "text/html": [
       "<html>\\(\\displaystyle \\frac{{\\left(12 \\, \\sqrt{2} + 17\\right)}^{n} \\sqrt{\\frac{17}{2} \\, \\sqrt{2} + 12}}{4 \\, \\pi^{\\frac{3}{2}} n^{\\frac{3}{2}}}\\)</html>"
      ],
      "text/latex": [
       "$\\displaystyle \\frac{{\\left(12 \\, \\sqrt{2} + 17\\right)}^{n} \\sqrt{\\frac{17}{2} \\, \\sqrt{2} + 12}}{4 \\, \\pi^{\\frac{3}{2}} n^{\\frac{3}{2}}}$"
      ],
      "text/plain": [
       "1/4*(12*sqrt(2) + 17)^n*sqrt(17/2*sqrt(2) + 12)/(pi^(3/2)*n^(3/2))"
      ]
     },
     "metadata": {},
     "output_type": "display_data"
    }
   ],
   "source": [
    "# The quantities here are algebraic of degree two, so we can represent them in radicals\n",
    "asm_vals = diagonal_asy(F3)\n",
    "show(add([a.radical_expression()^n*b*c*d.radical_expression() for (a,b,c,d) in asm_vals]))"
   ]
  },
  {
   "cell_type": "code",
   "execution_count": 4,
   "metadata": {},
   "outputs": [
    {
     "data": {
      "text/plain": [
       "(0.09677555757474702?*5.884442204019508?^n/(sqrt(pi)*sqrt(n)),\n",
       " [[0.548232473567013?, 0.3099773361396642?]])"
      ]
     },
     "execution_count": 4,
     "metadata": {},
     "output_type": "execute_result"
    }
   ],
   "source": [
    "# Example with two critical points with positive coords, neither of which is obviously non-minimal\n",
    "F4 = -1/(1-(1-x-y)*(20-x-40*y))\n",
    "diagonal_asy(F4, as_symbolic=True, return_points=True)"
   ]
  },
  {
   "cell_type": "code",
   "execution_count": null,
   "metadata": {},
   "outputs": [],
   "source": [
    "# Example with two critical points with positive coords, neither of which is obviously non-minimal\n",
    "F4 = -1/(1-(1-x-y)*(20-x-40*y))\n",
    "diagonal_asy(F4, as_symbolic=True, use_msolve=True, return_points=True)"
   ]
  },
  {
   "cell_type": "code",
   "execution_count": null,
   "metadata": {},
   "outputs": [],
   "source": [
    "# Example with no critical points in (1,1)-direction\n",
    "F5 = 1/(x^4*y + x^3*y + x^2*y + x*y - 1)\n",
    "try:\n",
    "    diagonal_asy(F5, as_symbolic=True)\n",
    "except Exception as e:\n",
    "    print(f\"No result was computed: {e}\")"
   ]
  },
  {
   "cell_type": "code",
   "execution_count": 12,
   "metadata": {},
   "outputs": [
    {
     "name": "stdout",
     "output_type": "stream",
     "text": [
      "No result was computed: No smooth minimal critical points found.\n"
     ]
    }
   ],
   "source": [
    "# Another example with no critical points \n",
    "F6 = 1/((-x + 1)^4 - x*y*(x^3 + x^2*y - x^2 - x + 1))\n",
    "try:\n",
    "    diagonal_asy(F6, as_symbolic=True)\n",
    "except Exception as e:\n",
    "    print(f\"No result was computed: {e}\")"
   ]
  },
  {
   "cell_type": "code",
   "execution_count": 13,
   "metadata": {},
   "outputs": [
    {
     "data": {
      "text/plain": [
       "1.015051765128218?*5.828427124746190?^n/(sqrt(pi)*sqrt(n))"
      ]
     },
     "execution_count": 13,
     "metadata": {},
     "output_type": "execute_result"
    }
   ],
   "source": [
    "# Delannoy generating function\n",
    "F7 = 1/(1 - x - y - x*y)\n",
    "diagonal_asy(F7, as_symbolic=True)"
   ]
  },
  {
   "cell_type": "code",
   "execution_count": 14,
   "metadata": {},
   "outputs": [
    {
     "data": {
      "text/plain": [
       "1.015051765128218?*5.828427124746190?^n/(sqrt(pi)*sqrt(n))"
      ]
     },
     "execution_count": 14,
     "metadata": {},
     "output_type": "execute_result"
    }
   ],
   "source": [
    "# Delannoy generating function\n",
    "F7 = 1/(1 - x - y - x*y)\n",
    "diagonal_asy(F7, as_symbolic=True, use_msolve=True)"
   ]
  },
  {
   "cell_type": "code",
   "execution_count": 15,
   "metadata": {},
   "outputs": [
    {
     "data": {
      "text/plain": [
       "1/7*(0.6234898018587335? + 0.7818314824680299?*I)^n + 1/7*(0.6234898018587335? - 0.7818314824680299?*I)^n + 1/7*(-0.2225209339563144? + 0.9749279121818236?*I)^n + 1/7*(-0.2225209339563144? - 0.9749279121818236?*I)^n + 1/7*(-0.9009688679024191? + 0.4338837391175581?*I)^n + 1/7*(-0.9009688679024191? - 0.4338837391175581?*I)^n + 1/7"
      ]
     },
     "execution_count": 15,
     "metadata": {},
     "output_type": "execute_result"
    }
   ],
   "source": [
    "# One variable example with many minimal critical points on same torus\n",
    "F8 = 1/(1 - x^7)\n",
    "diagonal_asy(F8, as_symbolic=True)"
   ]
  },
  {
   "cell_type": "code",
   "execution_count": 16,
   "metadata": {},
   "outputs": [
    {
     "data": {
      "text/plain": [
       "1/7*(0.6234898018587335? + 0.7818314824680299?*I)^n + 1/7*(0.6234898018587335? - 0.7818314824680299?*I)^n + 1/7*(-0.2225209339563144? + 0.9749279121818236?*I)^n + 1/7*(-0.2225209339563144? - 0.9749279121818236?*I)^n + 1/7*(-0.9009688679024191? + 0.4338837391175581?*I)^n + 1/7*(-0.9009688679024191? - 0.4338837391175581?*I)^n + 1/7"
      ]
     },
     "execution_count": 16,
     "metadata": {},
     "output_type": "execute_result"
    }
   ],
   "source": [
    "# One variable example with many minimal critical points on same torus\n",
    "F8 = 1/(1 - x^7)\n",
    "diagonal_asy(F8, as_symbolic=True, use_msolve=True)"
   ]
  },
  {
   "cell_type": "code",
   "execution_count": 17,
   "metadata": {},
   "outputs": [
    {
     "data": {
      "text/plain": [
       "([(1.285654384750451?, 1, 1, 0.03396226416457560?)], [[0.7778140158516262?]])"
      ]
     },
     "execution_count": 17,
     "metadata": {},
     "output_type": "execute_result"
    }
   ],
   "source": [
    "# One variable example having singularities with close moduli\n",
    "F9 = 1/(8 - 17*x^3 - 9*x^2 + 7*x)\n",
    "diagonal_asy(F9, return_points=True)"
   ]
  },
  {
   "cell_type": "code",
   "execution_count": 18,
   "metadata": {},
   "outputs": [
    {
     "data": {
      "text/plain": [
       "0.9430514023983397?*4.518911369262258?^n/(sqrt(pi)*sqrt(n))"
      ]
     },
     "execution_count": 18,
     "metadata": {},
     "output_type": "execute_result"
    }
   ],
   "source": [
    "F10 = (x^2*y^2 - x*y + 1)/(1-x-y-x*y+x*y^2+x^2*y-x^2*y^3-x^3*y^2)\n",
    "diagonal_asy(F10, as_symbolic=True)"
   ]
  },
  {
   "cell_type": "code",
   "execution_count": 19,
   "metadata": {},
   "outputs": [
    {
     "data": {
      "text/plain": [
       "0.9430514023983397?*4.518911369262258?^n/(sqrt(pi)*sqrt(n))"
      ]
     },
     "execution_count": 19,
     "metadata": {},
     "output_type": "execute_result"
    }
   ],
   "source": [
    "F10 = (x^2*y^2 - x*y + 1)/(1-x-y-x*y+x*y^2+x^2*y-x^2*y^3-x^3*y^2)\n",
    "diagonal_asy(F10, as_symbolic=True, use_msolve=True)"
   ]
  },
  {
   "cell_type": "code",
   "execution_count": 5,
   "metadata": {},
   "outputs": [
    {
     "ename": "KeyboardInterrupt",
     "evalue": "",
     "output_type": "error",
     "traceback": [
      "\u001b[0;31m---------------------------------------------------------------------------\u001b[0m",
      "\u001b[0;31mAttributeError\u001b[0m                            Traceback (most recent call last)",
      "File \u001b[0;32m/private/var/tmp/sage-10.2-current/local/var/lib/sage/venv-python3.11.1/lib/python3.11/site-packages/sage/rings/qqbar.py:4564\u001b[0m, in \u001b[0;36mAlgebraicNumber_base.minpoly\u001b[0;34m(self)\u001b[0m\n\u001b[1;32m   4563\u001b[0m \u001b[38;5;28;01mtry\u001b[39;00m:\n\u001b[0;32m-> 4564\u001b[0m     \u001b[38;5;28;01mreturn\u001b[39;00m \u001b[38;5;28;43mself\u001b[39;49m\u001b[38;5;241;43m.\u001b[39;49m\u001b[43m_minimal_polynomial\u001b[49m\n\u001b[1;32m   4565\u001b[0m \u001b[38;5;28;01mexcept\u001b[39;00m \u001b[38;5;167;01mAttributeError\u001b[39;00m:\n",
      "File \u001b[0;32m/private/var/tmp/sage-10.2-current/local/var/lib/sage/venv-python3.11.1/lib/python3.11/site-packages/sage/structure/element.pyx:489\u001b[0m, in \u001b[0;36msage.structure.element.Element.__getattr__ (build/cythonized/sage/structure/element.c:11576)\u001b[0;34m()\u001b[0m\n\u001b[1;32m    488\u001b[0m \"\"\"\n\u001b[0;32m--> 489\u001b[0m return self.getattr_from_category(name)\n\u001b[1;32m    490\u001b[0m \n",
      "File \u001b[0;32m/private/var/tmp/sage-10.2-current/local/var/lib/sage/venv-python3.11.1/lib/python3.11/site-packages/sage/structure/element.pyx:502\u001b[0m, in \u001b[0;36msage.structure.element.Element.getattr_from_category (build/cythonized/sage/structure/element.c:11686)\u001b[0;34m()\u001b[0m\n\u001b[1;32m    501\u001b[0m     cls = P._abstract_element_class\n\u001b[0;32m--> 502\u001b[0m return getattr_from_other_class(self, cls, name)\n\u001b[1;32m    503\u001b[0m \n",
      "File \u001b[0;32m/private/var/tmp/sage-10.2-current/local/var/lib/sage/venv-python3.11.1/lib/python3.11/site-packages/sage/cpython/getattr.pyx:362\u001b[0m, in \u001b[0;36msage.cpython.getattr.getattr_from_other_class (build/cythonized/sage/cpython/getattr.c:4424)\u001b[0;34m()\u001b[0m\n\u001b[1;32m    361\u001b[0m     dummy_error_message.name = name\n\u001b[0;32m--> 362\u001b[0m     raise AttributeError(dummy_error_message)\n\u001b[1;32m    363\u001b[0m attribute = <object>attr\n",
      "\u001b[0;31mAttributeError\u001b[0m: 'MatrixSpace_with_category' object has no attribute 'product_by_coercion'",
      "\nDuring handling of the above exception, another exception occurred:\n",
      "\u001b[0;31mAttributeError\u001b[0m                            Traceback (most recent call last)",
      "File \u001b[0;32m/private/var/tmp/sage-10.2-current/local/var/lib/sage/venv-python3.11.1/lib/python3.11/site-packages/sage/rings/qqbar.py:7890\u001b[0m, in \u001b[0;36mANExtensionElement.minpoly\u001b[0;34m(self)\u001b[0m\n\u001b[1;32m   7889\u001b[0m \u001b[38;5;28;01mtry\u001b[39;00m:\n\u001b[0;32m-> 7890\u001b[0m     \u001b[38;5;28;01mreturn\u001b[39;00m \u001b[38;5;28;43mself\u001b[39;49m\u001b[38;5;241;43m.\u001b[39;49m\u001b[43m_minpoly\u001b[49m\n\u001b[1;32m   7891\u001b[0m \u001b[38;5;28;01mexcept\u001b[39;00m \u001b[38;5;167;01mAttributeError\u001b[39;00m:\n",
      "\u001b[0;31mAttributeError\u001b[0m: 'ANExtensionElement' object has no attribute '_minpoly'",
      "\nDuring handling of the above exception, another exception occurred:\n",
      "\u001b[0;31mKeyboardInterrupt\u001b[0m                         Traceback (most recent call last)",
      "Cell \u001b[0;32mIn [5], line 5\u001b[0m\n\u001b[1;32m      3\u001b[0m var(\u001b[38;5;124m'\u001b[39m\u001b[38;5;124mx,y,w,z,n\u001b[39m\u001b[38;5;124m'\u001b[39m)\n\u001b[1;32m      4\u001b[0m F \u001b[38;5;241m=\u001b[39m (Integer(\u001b[38;5;241m1\u001b[39m)\u001b[38;5;241m-\u001b[39mx\u001b[38;5;241m*\u001b[39m\u001b[38;5;241m*\u001b[39mInteger(\u001b[38;5;241m3\u001b[39m)\u001b[38;5;241m*\u001b[39my\u001b[38;5;241m*\u001b[39m\u001b[38;5;241m*\u001b[39mInteger(\u001b[38;5;241m6\u001b[39m)\u001b[38;5;241m+\u001b[39mx\u001b[38;5;241m*\u001b[39m\u001b[38;5;241m*\u001b[39mInteger(\u001b[38;5;241m3\u001b[39m)\u001b[38;5;241m*\u001b[39my\u001b[38;5;241m*\u001b[39m\u001b[38;5;241m*\u001b[39mInteger(\u001b[38;5;241m4\u001b[39m)\u001b[38;5;241m+\u001b[39mx\u001b[38;5;241m*\u001b[39m\u001b[38;5;241m*\u001b[39mInteger(\u001b[38;5;241m2\u001b[39m)\u001b[38;5;241m*\u001b[39my\u001b[38;5;241m*\u001b[39m\u001b[38;5;241m*\u001b[39mInteger(\u001b[38;5;241m4\u001b[39m)\u001b[38;5;241m+\u001b[39mx\u001b[38;5;241m*\u001b[39m\u001b[38;5;241m*\u001b[39mInteger(\u001b[38;5;241m2\u001b[39m)\u001b[38;5;241m*\u001b[39my\u001b[38;5;241m*\u001b[39m\u001b[38;5;241m*\u001b[39mInteger(\u001b[38;5;241m3\u001b[39m))\u001b[38;5;241m/\u001b[39m(Integer(\u001b[38;5;241m1\u001b[39m)\u001b[38;5;241m-\u001b[39mx\u001b[38;5;241m-\u001b[39my\u001b[38;5;241m+\u001b[39mx\u001b[38;5;241m*\u001b[39m\u001b[38;5;241m*\u001b[39mInteger(\u001b[38;5;241m2\u001b[39m)\u001b[38;5;241m*\u001b[39my\u001b[38;5;241m*\u001b[39m\u001b[38;5;241m*\u001b[39mInteger(\u001b[38;5;241m3\u001b[39m)\u001b[38;5;241m-\u001b[39mx\u001b[38;5;241m*\u001b[39m\u001b[38;5;241m*\u001b[39mInteger(\u001b[38;5;241m3\u001b[39m)\u001b[38;5;241m*\u001b[39my\u001b[38;5;241m*\u001b[39m\u001b[38;5;241m*\u001b[39mInteger(\u001b[38;5;241m3\u001b[39m)\u001b[38;5;241m-\u001b[39mx\u001b[38;5;241m*\u001b[39m\u001b[38;5;241m*\u001b[39mInteger(\u001b[38;5;241m4\u001b[39m)\u001b[38;5;241m*\u001b[39my\u001b[38;5;241m*\u001b[39m\u001b[38;5;241m*\u001b[39mInteger(\u001b[38;5;241m4\u001b[39m)\u001b[38;5;241m-\u001b[39mx\u001b[38;5;241m*\u001b[39m\u001b[38;5;241m*\u001b[39mInteger(\u001b[38;5;241m3\u001b[39m)\u001b[38;5;241m*\u001b[39my\u001b[38;5;241m*\u001b[39m\u001b[38;5;241m*\u001b[39mInteger(\u001b[38;5;241m6\u001b[39m)\u001b[38;5;241m+\u001b[39mx\u001b[38;5;241m*\u001b[39m\u001b[38;5;241m*\u001b[39mInteger(\u001b[38;5;241m4\u001b[39m)\u001b[38;5;241m*\u001b[39my\u001b[38;5;241m*\u001b[39m\u001b[38;5;241m*\u001b[39mInteger(\u001b[38;5;241m6\u001b[39m))\n\u001b[0;32m----> 5\u001b[0m \u001b[43mdiagonal_asy\u001b[49m\u001b[43m(\u001b[49m\u001b[43mF\u001b[49m\u001b[43m,\u001b[49m\u001b[43m \u001b[49m\u001b[43mas_symbolic\u001b[49m\u001b[38;5;241;43m=\u001b[39;49m\u001b[38;5;28;43;01mTrue\u001b[39;49;00m\u001b[43m,\u001b[49m\u001b[43m \u001b[49m\u001b[43muse_msolve\u001b[49m\u001b[38;5;241;43m=\u001b[39;49m\u001b[38;5;28;43;01mTrue\u001b[39;49;00m\u001b[43m)\u001b[49m\n",
      "File \u001b[0;32m~/.sage/local/lib/python3.11/site-packages/sage_acsv/asymptotics.py:161\u001b[0m, in \u001b[0;36mdiagonal_asy\u001b[0;34m(F, r, linear_form, return_points, output_format, as_symbolic, use_msolve)\u001b[0m\n\u001b[1;32m    158\u001b[0m \u001b[38;5;28;01mfor\u001b[39;00m _ \u001b[38;5;129;01min\u001b[39;00m \u001b[38;5;28mrange\u001b[39m(MAX_MIN_CRIT_RETRIES):\n\u001b[1;32m    159\u001b[0m     \u001b[38;5;28;01mtry\u001b[39;00m:\n\u001b[1;32m    160\u001b[0m         \u001b[38;5;66;03m# Find minimal critical points in Kronecker Representation\u001b[39;00m\n\u001b[0;32m--> 161\u001b[0m         min_crit_pts \u001b[38;5;241m=\u001b[39m \u001b[43mMinimalCriticalCombinatorial\u001b[49m\u001b[43m(\u001b[49m\n\u001b[1;32m    162\u001b[0m \u001b[43m            \u001b[49m\u001b[43mG\u001b[49m\u001b[43m,\u001b[49m\u001b[43m \u001b[49m\u001b[43mH\u001b[49m\u001b[43m,\u001b[49m\u001b[43m \u001b[49m\u001b[43mall_variables\u001b[49m\u001b[43m,\u001b[49m\n\u001b[1;32m    163\u001b[0m \u001b[43m            \u001b[49m\u001b[43mr\u001b[49m\u001b[38;5;241;43m=\u001b[39;49m\u001b[43mr\u001b[49m\u001b[43m,\u001b[49m\n\u001b[1;32m    164\u001b[0m \u001b[43m            \u001b[49m\u001b[43mlinear_form\u001b[49m\u001b[38;5;241;43m=\u001b[39;49m\u001b[43mlinear_form\u001b[49m\u001b[43m,\u001b[49m\n\u001b[1;32m    165\u001b[0m \u001b[43m            \u001b[49m\u001b[43muse_msolve\u001b[49m\u001b[38;5;241;43m=\u001b[39;49m\u001b[43muse_msolve\u001b[49m\n\u001b[1;32m    166\u001b[0m \u001b[43m        \u001b[49m\u001b[43m)\u001b[49m\n\u001b[1;32m    167\u001b[0m         \u001b[38;5;28;01mbreak\u001b[39;00m\n\u001b[1;32m    168\u001b[0m     \u001b[38;5;28;01mexcept\u001b[39;00m \u001b[38;5;167;01mException\u001b[39;00m \u001b[38;5;28;01mas\u001b[39;00m e:\n",
      "File \u001b[0;32m~/.sage/local/lib/python3.11/site-packages/sage_acsv/asymptotics.py:349\u001b[0m, in \u001b[0;36mMinimalCriticalCombinatorial\u001b[0;34m(G, H, variables, r, linear_form, use_msolve)\u001b[0m\n\u001b[1;32m    347\u001b[0m     \u001b[38;5;28;01mcontinue\u001b[39;00m\n\u001b[1;32m    348\u001b[0m \u001b[38;5;28;01mfor\u001b[39;00m pt \u001b[38;5;129;01min\u001b[39;00m non_min:\n\u001b[0;32m--> 349\u001b[0m     \u001b[38;5;28;01mif\u001b[39;00m \u001b[38;5;28mall\u001b[39m(\u001b[43m[\u001b[49m\u001b[43ma\u001b[49m\u001b[43m \u001b[49m\u001b[38;5;241;43m==\u001b[39;49m\u001b[43m \u001b[49m\u001b[43mb\u001b[49m\u001b[43m \u001b[49m\u001b[38;5;28;43;01mfor\u001b[39;49;00m\u001b[43m \u001b[49m\u001b[43m(\u001b[49m\u001b[43ma\u001b[49m\u001b[43m,\u001b[49m\u001b[43m \u001b[49m\u001b[43mb\u001b[49m\u001b[43m)\u001b[49m\u001b[43m \u001b[49m\u001b[38;5;129;43;01min\u001b[39;49;00m\u001b[43m \u001b[49m\u001b[38;5;28;43mzip\u001b[39;49m\u001b[43m(\u001b[49m\u001b[43mv\u001b[49m\u001b[43m,\u001b[49m\u001b[43m \u001b[49m\u001b[43mpt\u001b[49m\u001b[43m)\u001b[49m\u001b[43m]\u001b[49m):\n\u001b[1;32m    350\u001b[0m         is_min \u001b[38;5;241m=\u001b[39m \u001b[38;5;28;01mFalse\u001b[39;00m\n\u001b[1;32m    351\u001b[0m         \u001b[38;5;28;01mbreak\u001b[39;00m\n",
      "File \u001b[0;32m~/.sage/local/lib/python3.11/site-packages/sage_acsv/asymptotics.py:349\u001b[0m, in \u001b[0;36m<listcomp>\u001b[0;34m(.0)\u001b[0m\n\u001b[1;32m    347\u001b[0m     \u001b[38;5;28;01mcontinue\u001b[39;00m\n\u001b[1;32m    348\u001b[0m \u001b[38;5;28;01mfor\u001b[39;00m pt \u001b[38;5;129;01min\u001b[39;00m non_min:\n\u001b[0;32m--> 349\u001b[0m     \u001b[38;5;28;01mif\u001b[39;00m \u001b[38;5;28mall\u001b[39m([\u001b[43ma\u001b[49m\u001b[43m \u001b[49m\u001b[38;5;241;43m==\u001b[39;49m\u001b[43m \u001b[49m\u001b[43mb\u001b[49m \u001b[38;5;28;01mfor\u001b[39;00m (a, b) \u001b[38;5;129;01min\u001b[39;00m \u001b[38;5;28mzip\u001b[39m(v, pt)]):\n\u001b[1;32m    350\u001b[0m         is_min \u001b[38;5;241m=\u001b[39m \u001b[38;5;28;01mFalse\u001b[39;00m\n\u001b[1;32m    351\u001b[0m         \u001b[38;5;28;01mbreak\u001b[39;00m\n",
      "File \u001b[0;32m/private/var/tmp/sage-10.2-current/local/var/lib/sage/venv-python3.11.1/lib/python3.11/site-packages/sage/structure/element.pyx:1105\u001b[0m, in \u001b[0;36msage.structure.element.Element.__richcmp__ (build/cythonized/sage/structure/element.c:18097)\u001b[0;34m()\u001b[0m\n\u001b[1;32m   1103\u001b[0m     # an instance of Element. The explicit casts below make\n\u001b[1;32m   1104\u001b[0m     # Cython generate optimized code for this call.\n\u001b[0;32m-> 1105\u001b[0m     return (<Element>self)._richcmp_(other, op)\n\u001b[1;32m   1106\u001b[0m else:\n\u001b[1;32m   1107\u001b[0m     return coercion_model.richcmp(self, other, op)\n",
      "File \u001b[0;32m/private/var/tmp/sage-10.2-current/local/var/lib/sage/venv-python3.11.1/lib/python3.11/site-packages/sage/structure/element.pyx:1109\u001b[0m, in \u001b[0;36msage.structure.element.Element._richcmp_ (build/cythonized/sage/structure/element.c:18211)\u001b[0;34m()\u001b[0m\n\u001b[1;32m   1107\u001b[0m         return coercion_model.richcmp(self, other, op)\n\u001b[1;32m   1108\u001b[0m \n\u001b[0;32m-> 1109\u001b[0m cpdef _richcmp_(left, right, int op) noexcept:\n\u001b[1;32m   1110\u001b[0m     r\"\"\"\n\u001b[1;32m   1111\u001b[0m     Basic default implementation of rich comparisons for elements with\n",
      "File \u001b[0;32m/private/var/tmp/sage-10.2-current/local/var/lib/sage/venv-python3.11.1/lib/python3.11/site-packages/sage/rings/qqbar.py:5572\u001b[0m, in \u001b[0;36mAlgebraicReal._richcmp_\u001b[0;34m(self, other, op)\u001b[0m\n\u001b[1;32m   5566\u001b[0m \u001b[38;5;28;01mif\u001b[39;00m \u001b[38;5;129;01mnot\u001b[39;00m \u001b[38;5;28mself\u001b[39m\u001b[38;5;241m.\u001b[39m_value\u001b[38;5;241m.\u001b[39moverlaps(other\u001b[38;5;241m.\u001b[39m_value):\n\u001b[1;32m   5567\u001b[0m     \u001b[38;5;66;03m# NOTE: do not call richcmp here as self._value and other._value\u001b[39;00m\n\u001b[1;32m   5568\u001b[0m     \u001b[38;5;66;03m# might have different precisions. See\u001b[39;00m\n\u001b[1;32m   5569\u001b[0m     \u001b[38;5;66;03m# https://github.com/sagemath/sage/issues/29220\u001b[39;00m\n\u001b[1;32m   5570\u001b[0m     \u001b[38;5;28;01mreturn\u001b[39;00m \u001b[38;5;28mself\u001b[39m\u001b[38;5;241m.\u001b[39m_value\u001b[38;5;241m.\u001b[39m_richcmp_(other\u001b[38;5;241m.\u001b[39m_value, op)\n\u001b[0;32m-> 5572\u001b[0m \u001b[38;5;28;01mreturn\u001b[39;00m rich_to_bool(op, \u001b[43m(\u001b[49m\u001b[38;5;28;43mself\u001b[39;49m\u001b[43m \u001b[49m\u001b[38;5;241;43m-\u001b[39;49m\u001b[43m \u001b[49m\u001b[43mother\u001b[49m\u001b[43m)\u001b[49m\u001b[38;5;241;43m.\u001b[39;49m\u001b[43msign\u001b[49m\u001b[43m(\u001b[49m\u001b[43m)\u001b[49m)\n",
      "File \u001b[0;32m/private/var/tmp/sage-10.2-current/local/var/lib/sage/venv-python3.11.1/lib/python3.11/site-packages/sage/rings/qqbar.py:5940\u001b[0m, in \u001b[0;36mAlgebraicReal.sign\u001b[0;34m(self)\u001b[0m\n\u001b[1;32m   5937\u001b[0m         \u001b[38;5;28;01mreturn\u001b[39;00m \u001b[38;5;241m0\u001b[39m\n\u001b[1;32m   5938\u001b[0m     \u001b[38;5;28;01mreturn\u001b[39;00m ret\u001b[38;5;241m.\u001b[39msign()\n\u001b[0;32m-> 5940\u001b[0m \u001b[38;5;28;01mif\u001b[39;00m sd\u001b[38;5;241m.\u001b[39m_left\u001b[38;5;241m.\u001b[39mminpoly() \u001b[38;5;241m==\u001b[39m \u001b[43msd\u001b[49m\u001b[38;5;241;43m.\u001b[39;49m\u001b[43m_right\u001b[49m\u001b[38;5;241;43m.\u001b[39;49m\u001b[43mminpoly\u001b[49m\u001b[43m(\u001b[49m\u001b[43m)\u001b[49m:\n\u001b[1;32m   5941\u001b[0m     \u001b[38;5;66;03m# Negating the element does not change the minpoly\u001b[39;00m\n\u001b[1;32m   5942\u001b[0m     right \u001b[38;5;241m=\u001b[39m sd\u001b[38;5;241m.\u001b[39m_right \u001b[38;5;28;01mif\u001b[39;00m sd\u001b[38;5;241m.\u001b[39m_op \u001b[38;5;129;01mis\u001b[39;00m operator\u001b[38;5;241m.\u001b[39msub \u001b[38;5;28;01melse\u001b[39;00m \u001b[38;5;241m-\u001b[39msd\u001b[38;5;241m.\u001b[39m_right\n\u001b[1;32m   5943\u001b[0m     c \u001b[38;5;241m=\u001b[39m cmp_elements_with_same_minpoly(sd\u001b[38;5;241m.\u001b[39m_left, right, sd\u001b[38;5;241m.\u001b[39m_left\u001b[38;5;241m.\u001b[39mminpoly())\n",
      "File \u001b[0;32m/private/var/tmp/sage-10.2-current/local/var/lib/sage/venv-python3.11.1/lib/python3.11/site-packages/sage/rings/qqbar.py:4567\u001b[0m, in \u001b[0;36mAlgebraicNumber_base.minpoly\u001b[0;34m(self)\u001b[0m\n\u001b[1;32m   4565\u001b[0m \u001b[38;5;28;01mexcept\u001b[39;00m \u001b[38;5;167;01mAttributeError\u001b[39;00m:\n\u001b[1;32m   4566\u001b[0m     \u001b[38;5;28mself\u001b[39m\u001b[38;5;241m.\u001b[39mexactify()\n\u001b[0;32m-> 4567\u001b[0m     \u001b[38;5;28mself\u001b[39m\u001b[38;5;241m.\u001b[39m_minimal_polynomial \u001b[38;5;241m=\u001b[39m \u001b[38;5;28;43mself\u001b[39;49m\u001b[38;5;241;43m.\u001b[39;49m\u001b[43m_descr\u001b[49m\u001b[38;5;241;43m.\u001b[39;49m\u001b[43mminpoly\u001b[49m\u001b[43m(\u001b[49m\u001b[43m)\u001b[49m\n\u001b[1;32m   4568\u001b[0m     \u001b[38;5;28;01mreturn\u001b[39;00m \u001b[38;5;28mself\u001b[39m\u001b[38;5;241m.\u001b[39m_minimal_polynomial\n",
      "File \u001b[0;32m/private/var/tmp/sage-10.2-current/local/var/lib/sage/venv-python3.11.1/lib/python3.11/site-packages/sage/rings/qqbar.py:7892\u001b[0m, in \u001b[0;36mANExtensionElement.minpoly\u001b[0;34m(self)\u001b[0m\n\u001b[1;32m   7890\u001b[0m     \u001b[38;5;28;01mreturn\u001b[39;00m \u001b[38;5;28mself\u001b[39m\u001b[38;5;241m.\u001b[39m_minpoly\n\u001b[1;32m   7891\u001b[0m \u001b[38;5;28;01mexcept\u001b[39;00m \u001b[38;5;167;01mAttributeError\u001b[39;00m:\n\u001b[0;32m-> 7892\u001b[0m     \u001b[38;5;28mself\u001b[39m\u001b[38;5;241m.\u001b[39m_minpoly \u001b[38;5;241m=\u001b[39m \u001b[38;5;28mself\u001b[39m\u001b[38;5;241m.\u001b[39m_value\u001b[38;5;241m.\u001b[39mminpoly()\n\u001b[1;32m   7893\u001b[0m     \u001b[38;5;28;01mreturn\u001b[39;00m \u001b[38;5;28mself\u001b[39m\u001b[38;5;241m.\u001b[39m_minpoly\n",
      "File \u001b[0;32m/private/var/tmp/sage-10.2-current/local/var/lib/sage/venv-python3.11.1/lib/python3.11/site-packages/sage/rings/number_field/number_field_element.pyx:4842\u001b[0m, in \u001b[0;36msage.rings.number_field.number_field_element.NumberFieldElement_absolute.minpoly (build/cythonized/sage/rings/number_field/number_field_element.cpp:52168)\u001b[0;34m()\u001b[0m\n\u001b[1;32m   4840\u001b[0m         True\n\u001b[1;32m   4841\u001b[0m     \"\"\"\n\u001b[0;32m-> 4842\u001b[0m     return self.charpoly(var, algorithm).radical()  # square free part of charpoly\n\u001b[1;32m   4843\u001b[0m \n\u001b[1;32m   4844\u001b[0m def list(self):\n",
      "File \u001b[0;32m/private/var/tmp/sage-10.2-current/local/var/lib/sage/venv-python3.11.1/lib/python3.11/site-packages/sage/rings/number_field/number_field_element.pyx:4810\u001b[0m, in \u001b[0;36msage.rings.number_field.number_field_element.NumberFieldElement_absolute.charpoly (build/cythonized/sage/rings/number_field/number_field_element.cpp:51938)\u001b[0;34m()\u001b[0m\n\u001b[1;32m   4808\u001b[0m         return R(self.__pari__('x').charpoly())\n\u001b[1;32m   4809\u001b[0m     if algorithm == 'sage':\n\u001b[0;32m-> 4810\u001b[0m         return R(self.matrix().charpoly())\n\u001b[1;32m   4811\u001b[0m \n\u001b[1;32m   4812\u001b[0m def minpoly(self, var='x', algorithm=None):\n",
      "File \u001b[0;32m/private/var/tmp/sage-10.2-current/local/var/lib/sage/venv-python3.11.1/lib/python3.11/site-packages/sage/matrix/matrix_rational_dense.pyx:1042\u001b[0m, in \u001b[0;36msage.matrix.matrix_rational_dense.Matrix_rational_dense.charpoly (build/cythonized/sage/matrix/matrix_rational_dense.cpp:19579)\u001b[0;34m()\u001b[0m\n\u001b[1;32m   1040\u001b[0m if algorithm == 'flint' or algorithm == 'linbox':\n\u001b[1;32m   1041\u001b[0m     A, denom = self._clear_denom()\n\u001b[0;32m-> 1042\u001b[0m     f = A.charpoly(var, algorithm=algorithm)\n\u001b[1;32m   1043\u001b[0m     x = f.parent().gen()\n\u001b[1;32m   1044\u001b[0m     g = f(x * denom) / denom ** f.degree()\n",
      "File \u001b[0;32m/private/var/tmp/sage-10.2-current/local/var/lib/sage/venv-python3.11.1/lib/python3.11/site-packages/sage/matrix/matrix_integer_dense.pyx:1377\u001b[0m, in \u001b[0;36msage.matrix.matrix_integer_dense.Matrix_integer_dense.charpoly (build/cythonized/sage/matrix/matrix_integer_dense.cpp:24372)\u001b[0;34m()\u001b[0m\n\u001b[1;32m   1375\u001b[0m elif algorithm == 'linbox':\n\u001b[1;32m   1376\u001b[0m     g = (<Polynomial_integer_dense_flint> PolynomialRing(ZZ, names=var).gen())._new()\n\u001b[0;32m-> 1377\u001b[0m     sig_on()\n\u001b[1;32m   1378\u001b[0m     linbox_fmpz_mat_charpoly(g._poly, self._matrix)\n\u001b[1;32m   1379\u001b[0m     sig_off()\n",
      "\u001b[0;31mKeyboardInterrupt\u001b[0m: "
     ]
    }
   ],
   "source": [
    "#Does not finish computing (hangs on computing GB for critical point system)\n",
    "from sage_acsv import diagonal_asy\n",
    "var('x,y,w,z,n')\n",
    "F = (1-x^3*y^6+x^3*y^4+x^2*y^4+x^2*y^3)/(1-x-y+x^2*y^3-x^3*y^3-x^4*y^4-x^3*y^6+x^4*y^6)\n",
    "diagonal_asy(F, as_symbolic=True, use_msolve=True)"
   ]
  },
  {
   "cell_type": "code",
   "execution_count": null,
   "metadata": {},
   "outputs": [],
   "source": []
  },
  {
   "cell_type": "code",
   "execution_count": null,
   "metadata": {},
   "outputs": [],
   "source": []
  }
 ],
 "metadata": {
  "@webio": {
   "lastCommId": null,
   "lastKernelId": null
  },
  "kernelspec": {
   "display_name": "SageMath 10.2",
   "language": "sage",
   "name": "sagemath"
  },
  "language_info": {
   "codemirror_mode": {
    "name": "ipython",
    "version": 3
   },
   "file_extension": ".py",
   "mimetype": "text/x-python",
   "name": "python",
   "nbconvert_exporter": "python",
   "pygments_lexer": "ipython3",
   "version": "3.11.1"
  }
 },
 "nbformat": 4,
 "nbformat_minor": 4
}
