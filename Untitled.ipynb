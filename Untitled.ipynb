{
 "cells": [
  {
   "cell_type": "code",
   "execution_count": 2,
   "id": "a08d27da-7b5d-4fd5-b08b-cc2e6a48eab6",
   "metadata": {},
   "outputs": [],
   "source": [
    "XR = PolynomialRing(QQbar, 'x_')\n",
    "x_ = XR.gens()[0]\n",
    "logSeries = XR(log(x_+1).series(x_, 10).truncate().canonicalize_radical())"
   ]
  },
  {
   "cell_type": "code",
   "execution_count": 4,
   "id": "7b9b1232-c529-4273-a526-a57240d0f5b4",
   "metadata": {},
   "outputs": [
    {
     "data": {
      "text/plain": [
       "Univariate Polynomial Ring in x_ over Algebraic Field"
      ]
     },
     "execution_count": 4,
     "metadata": {},
     "output_type": "execute_result"
    }
   ],
   "source": [
    "logSeries.parent()"
   ]
  },
  {
   "cell_type": "code",
   "execution_count": 68,
   "id": "353975de-d584-46e9-9899-b0e542559682",
   "metadata": {},
   "outputs": [],
   "source": [
    "R.<x,y> = QQbar[['x,y']]"
   ]
  },
  {
   "cell_type": "code",
   "execution_count": 89,
   "id": "e0081818-0d20-42fc-988a-4ba50bb48feb",
   "metadata": {},
   "outputs": [
    {
     "ename": "TypeError",
     "evalue": "polynomial() takes exactly 1 positional argument (0 given)",
     "output_type": "error",
     "traceback": [
      "\u001b[0;31m---------------------------------------------------------------------------\u001b[0m",
      "\u001b[0;31mTypeError\u001b[0m                                 Traceback (most recent call last)",
      "Cell \u001b[0;32mIn [89], line 2\u001b[0m\n\u001b[1;32m      1\u001b[0m R \u001b[38;5;241m=\u001b[39m QQbar[[\u001b[38;5;124m'\u001b[39m\u001b[38;5;124mx\u001b[39m\u001b[38;5;124m'\u001b[39m]]; (x,) \u001b[38;5;241m=\u001b[39m R\u001b[38;5;241m.\u001b[39m_first_ngens(\u001b[38;5;241m1\u001b[39m)\n\u001b[0;32m----> 2\u001b[0m \u001b[43mlog\u001b[49m\u001b[43m(\u001b[49m\u001b[43mInteger\u001b[49m\u001b[43m(\u001b[49m\u001b[38;5;241;43m1\u001b[39;49m\u001b[43m)\u001b[49m\u001b[38;5;241;43m+\u001b[39;49m\u001b[43mx\u001b[49m\u001b[43m)\u001b[49m\u001b[38;5;241;43m.\u001b[39;49m\u001b[43mtruncate\u001b[49m\u001b[43m(\u001b[49m\u001b[43mInteger\u001b[49m\u001b[43m(\u001b[49m\u001b[38;5;241;43m10\u001b[39;49m\u001b[43m)\u001b[49m\u001b[43m)\u001b[49m\u001b[38;5;241;43m.\u001b[39;49m\u001b[43mpolynomial\u001b[49m\u001b[43m(\u001b[49m\u001b[43m)\u001b[49m\n",
      "File \u001b[0;32m/private/var/tmp/sage-10.2-current/local/var/lib/sage/venv-python3.11.1/lib/python3.11/site-packages/sage/rings/polynomial/polynomial_element.pyx:6386\u001b[0m, in \u001b[0;36msage.rings.polynomial.polynomial_element.Polynomial.polynomial (build/cythonized/sage/rings/polynomial/polynomial_element.c:66774)\u001b[0;34m()\u001b[0m\n\u001b[1;32m   6384\u001b[0m     return L\n\u001b[1;32m   6385\u001b[0m \n\u001b[0;32m-> 6386\u001b[0m def polynomial(self, var):\n\u001b[1;32m   6387\u001b[0m     r\"\"\"\n\u001b[1;32m   6388\u001b[0m     Let ``var`` be one of the variables of the parent of ``self``. This returns\n",
      "\u001b[0;31mTypeError\u001b[0m: polynomial() takes exactly 1 positional argument (0 given)"
     ]
    }
   ],
   "source": [
    "R.<x> = QQbar[['x']]\n",
    "log(1+x).truncate(10).polynomial()"
   ]
  },
  {
   "cell_type": "code",
   "execution_count": 75,
   "id": "4849f263-f092-4516-9109-fb41c8fb6199",
   "metadata": {},
   "outputs": [],
   "source": [
    "pow = log(1+x+y).truncate(10)"
   ]
  },
  {
   "cell_type": "code",
   "execution_count": 76,
   "id": "d500207f-6e3d-473a-ab10-54a1a51e0ee0",
   "metadata": {},
   "outputs": [
    {
     "data": {
      "text/plain": [
       "Multivariate Power Series Ring in x, y over Algebraic Field"
      ]
     },
     "execution_count": 76,
     "metadata": {},
     "output_type": "execute_result"
    }
   ],
   "source": [
    "pow.parent()"
   ]
  },
  {
   "cell_type": "code",
   "execution_count": 77,
   "id": "fe6ee534-6250-495c-b6e7-18940dd5d8b0",
   "metadata": {},
   "outputs": [],
   "source": [
    "RP.<x,y> = PolynomialRing(QQbar, [x,y])"
   ]
  },
  {
   "cell_type": "code",
   "execution_count": 83,
   "id": "b574b903-4d19-4308-96c0-d478f48f3e8b",
   "metadata": {},
   "outputs": [
    {
     "data": {
      "text/plain": [
       "Multivariate Polynomial Ring in x, y over Algebraic Field"
      ]
     },
     "execution_count": 83,
     "metadata": {},
     "output_type": "execute_result"
    }
   ],
   "source": [
    "(pow).polynomial().parent()"
   ]
  },
  {
   "cell_type": "code",
   "execution_count": 13,
   "id": "0acae904-a1e7-457a-a1fb-de6dac0edddd",
   "metadata": {},
   "outputs": [
    {
     "name": "stdout",
     "output_type": "stream",
     "text": [
      "1 1\n",
      "2 2\n"
     ]
    }
   ],
   "source": [
    "for i, j in zip([1,2,3], [1,2]):\n",
    "    print(i,j)"
   ]
  },
  {
   "cell_type": "code",
   "execution_count": 30,
   "id": "9b01f4ec-241a-4ac2-9440-bf6dd7346c1a",
   "metadata": {},
   "outputs": [],
   "source": [
    "var('x,y')\n",
    "def func(F):\n",
    "    return F.subs(x=3)"
   ]
  },
  {
   "cell_type": "code",
   "execution_count": 31,
   "id": "81aefdb6-159e-409f-9183-e955d88fd1a6",
   "metadata": {},
   "outputs": [
    {
     "data": {
      "text/plain": [
       "-2"
      ]
     },
     "execution_count": 31,
     "metadata": {},
     "output_type": "execute_result"
    }
   ],
   "source": [
    "F = 1-x\n",
    "func(F)"
   ]
  },
  {
   "cell_type": "code",
   "execution_count": 41,
   "id": "318b5cba-4340-487f-b422-0ffaf40ed113",
   "metadata": {},
   "outputs": [
    {
     "ename": "ValueError",
     "evalue": "variable name '1' does not start with a letter",
     "output_type": "error",
     "traceback": [
      "\u001b[0;31m---------------------------------------------------------------------------\u001b[0m",
      "\u001b[0;31mValueError\u001b[0m                                Traceback (most recent call last)",
      "Cell \u001b[0;32mIn [41], line 2\u001b[0m\n\u001b[1;32m      1\u001b[0m vs \u001b[38;5;241m=\u001b[39m (x,y)\n\u001b[0;32m----> 2\u001b[0m x,y \u001b[38;5;241m=\u001b[39m \u001b[43mQQ\u001b[49m\u001b[43m[\u001b[49m\u001b[43m[\u001b[49m\u001b[43mvs\u001b[49m\u001b[43m]\u001b[49m\u001b[43m]\u001b[49m\u001b[38;5;241m.\u001b[39mgens()\n",
      "File \u001b[0;32m/private/var/tmp/sage-10.2-current/local/var/lib/sage/venv-python3.11.1/lib/python3.11/site-packages/sage/structure/parent.pyx:1283\u001b[0m, in \u001b[0;36msage.structure.parent.Parent.__getitem__ (build/cythonized/sage/structure/parent.c:14812)\u001b[0;34m()\u001b[0m\n\u001b[1;32m   1281\u001b[0m         except AttributeError:\n\u001b[1;32m   1282\u001b[0m             return self.list()[n]\n\u001b[0;32m-> 1283\u001b[0m     return meth(n)\n\u001b[1;32m   1284\u001b[0m \n\u001b[1;32m   1285\u001b[0m #########################################################################\n",
      "File \u001b[0;32m/private/var/tmp/sage-10.2-current/local/var/lib/sage/venv-python3.11.1/lib/python3.11/site-packages/sage/categories/rings.py:1199\u001b[0m, in \u001b[0;36mRings.ParentMethods.__getitem__\u001b[0;34m(self, arg)\u001b[0m\n\u001b[1;32m   1197\u001b[0m         elts \u001b[38;5;241m=\u001b[39m normalize_arg(arg)\n\u001b[1;32m   1198\u001b[0m     \u001b[38;5;28;01mfrom\u001b[39;00m \u001b[38;5;21;01msage\u001b[39;00m\u001b[38;5;21;01m.\u001b[39;00m\u001b[38;5;21;01mrings\u001b[39;00m\u001b[38;5;21;01m.\u001b[39;00m\u001b[38;5;21;01mpower_series_ring\u001b[39;00m \u001b[38;5;28;01mimport\u001b[39;00m PowerSeriesRing\n\u001b[0;32m-> 1199\u001b[0m     \u001b[38;5;28;01mreturn\u001b[39;00m \u001b[43mPowerSeriesRing\u001b[49m\u001b[43m(\u001b[49m\u001b[38;5;28;43mself\u001b[39;49m\u001b[43m,\u001b[49m\u001b[43m \u001b[49m\u001b[43melts\u001b[49m\u001b[43m)\u001b[49m\n\u001b[1;32m   1201\u001b[0m \u001b[38;5;28;01mif\u001b[39;00m \u001b[38;5;28misinstance\u001b[39m(arg, \u001b[38;5;28mtuple\u001b[39m):\n\u001b[1;32m   1202\u001b[0m     \u001b[38;5;28;01mfrom\u001b[39;00m \u001b[38;5;21;01msage\u001b[39;00m\u001b[38;5;21;01m.\u001b[39;00m\u001b[38;5;21;01mcategories\u001b[39;00m\u001b[38;5;21;01m.\u001b[39;00m\u001b[38;5;21;01mmorphism\u001b[39;00m \u001b[38;5;28;01mimport\u001b[39;00m Morphism\n",
      "File \u001b[0;32m/private/var/tmp/sage-10.2-current/local/var/lib/sage/venv-python3.11.1/lib/python3.11/site-packages/sage/rings/power_series_ring.py:357\u001b[0m, in \u001b[0;36mPowerSeriesRing\u001b[0;34m(base_ring, name, arg2, names, sparse, default_prec, order, num_gens, implementation)\u001b[0m\n\u001b[1;32m    355\u001b[0m     names \u001b[38;5;241m=\u001b[39m name\n\u001b[1;32m    356\u001b[0m \u001b[38;5;28;01mif\u001b[39;00m \u001b[38;5;28misinstance\u001b[39m(names, (\u001b[38;5;28mtuple\u001b[39m, \u001b[38;5;28mlist\u001b[39m)) \u001b[38;5;129;01mand\u001b[39;00m \u001b[38;5;28mlen\u001b[39m(names) \u001b[38;5;241m>\u001b[39m \u001b[38;5;241m1\u001b[39m \u001b[38;5;129;01mor\u001b[39;00m (\u001b[38;5;28misinstance\u001b[39m(names, \u001b[38;5;28mstr\u001b[39m) \u001b[38;5;129;01mand\u001b[39;00m \u001b[38;5;124m'\u001b[39m\u001b[38;5;124m,\u001b[39m\u001b[38;5;124m'\u001b[39m \u001b[38;5;129;01min\u001b[39;00m names):\n\u001b[0;32m--> 357\u001b[0m     \u001b[38;5;28;01mreturn\u001b[39;00m \u001b[43m_multi_variate\u001b[49m\u001b[43m(\u001b[49m\u001b[43mbase_ring\u001b[49m\u001b[43m,\u001b[49m\u001b[43m \u001b[49m\u001b[43mnum_gens\u001b[49m\u001b[38;5;241;43m=\u001b[39;49m\u001b[43marg2\u001b[49m\u001b[43m,\u001b[49m\u001b[43m \u001b[49m\u001b[43mnames\u001b[49m\u001b[38;5;241;43m=\u001b[39;49m\u001b[43mnames\u001b[49m\u001b[43m,\u001b[49m\n\u001b[1;32m    358\u001b[0m \u001b[43m                 \u001b[49m\u001b[43morder\u001b[49m\u001b[38;5;241;43m=\u001b[39;49m\u001b[43morder\u001b[49m\u001b[43m,\u001b[49m\u001b[43m \u001b[49m\u001b[43mdefault_prec\u001b[49m\u001b[38;5;241;43m=\u001b[39;49m\u001b[43mdefault_prec\u001b[49m\u001b[43m,\u001b[49m\u001b[43m \u001b[49m\u001b[43msparse\u001b[49m\u001b[38;5;241;43m=\u001b[39;49m\u001b[43msparse\u001b[49m\u001b[43m)\u001b[49m\n\u001b[1;32m    359\u001b[0m \u001b[38;5;66;03m# examples for second case:\u001b[39;00m\n\u001b[1;32m    360\u001b[0m \u001b[38;5;66;03m# PowerSeriesRing(QQ,3,'t')\u001b[39;00m\n\u001b[1;32m    361\u001b[0m \u001b[38;5;28;01mif\u001b[39;00m arg2 \u001b[38;5;129;01mis\u001b[39;00m \u001b[38;5;28;01mNone\u001b[39;00m \u001b[38;5;129;01mand\u001b[39;00m num_gens \u001b[38;5;129;01mis\u001b[39;00m \u001b[38;5;129;01mnot\u001b[39;00m \u001b[38;5;28;01mNone\u001b[39;00m:\n",
      "File \u001b[0;32m/private/var/tmp/sage-10.2-current/local/var/lib/sage/venv-python3.11.1/lib/python3.11/site-packages/sage/rings/power_series_ring.py:436\u001b[0m, in \u001b[0;36m_multi_variate\u001b[0;34m(base_ring, num_gens, names, order, default_prec, sparse)\u001b[0m\n\u001b[1;32m    434\u001b[0m     \u001b[38;5;28;01melse\u001b[39;00m:\n\u001b[1;32m    435\u001b[0m         \u001b[38;5;28;01mraise\u001b[39;00m \u001b[38;5;167;01mTypeError\u001b[39;00m(\u001b[38;5;124m\"\u001b[39m\u001b[38;5;124mvariable names must be a string, tuple or list\u001b[39m\u001b[38;5;124m\"\u001b[39m)\n\u001b[0;32m--> 436\u001b[0m names \u001b[38;5;241m=\u001b[39m \u001b[43mnormalize_names\u001b[49m\u001b[43m(\u001b[49m\u001b[43mnum_gens\u001b[49m\u001b[43m,\u001b[49m\u001b[43m \u001b[49m\u001b[43mnames\u001b[49m\u001b[43m)\u001b[49m\n\u001b[1;32m    437\u001b[0m num_gens \u001b[38;5;241m=\u001b[39m \u001b[38;5;28mlen\u001b[39m(names)\n\u001b[1;32m    438\u001b[0m \u001b[38;5;28;01mif\u001b[39;00m default_prec \u001b[38;5;129;01mis\u001b[39;00m \u001b[38;5;28;01mNone\u001b[39;00m:\n",
      "File \u001b[0;32m/private/var/tmp/sage-10.2-current/local/var/lib/sage/venv-python3.11.1/lib/python3.11/site-packages/sage/structure/category_object.pyx:908\u001b[0m, in \u001b[0;36msage.structure.category_object.normalize_names (build/cythonized/sage/structure/category_object.c:11064)\u001b[0;34m()\u001b[0m\n\u001b[1;32m    906\u001b[0m         return dir_with_other_class(self, self.category().parent_class)\n\u001b[1;32m    907\u001b[0m \n\u001b[0;32m--> 908\u001b[0m cpdef normalize_names(Py_ssize_t ngens, names) noexcept:\n\u001b[1;32m    909\u001b[0m     r\"\"\"\n\u001b[1;32m    910\u001b[0m     Return a tuple of strings of variable names of length ngens given\n",
      "File \u001b[0;32m/private/var/tmp/sage-10.2-current/local/var/lib/sage/venv-python3.11.1/lib/python3.11/site-packages/sage/structure/category_object.pyx:1022\u001b[0m, in \u001b[0;36msage.structure.category_object.normalize_names (build/cythonized/sage/structure/category_object.c:10860)\u001b[0;34m()\u001b[0m\n\u001b[1;32m   1020\u001b[0m             names = sage.misc.defaults.variable_names(ngens, names)\n\u001b[1;32m   1021\u001b[0m \n\u001b[0;32m-> 1022\u001b[0m certify_names(names)\n\u001b[1;32m   1023\u001b[0m if ngens >= 0 and len(names) != ngens:\n\u001b[1;32m   1024\u001b[0m     raise IndexError(\"the number of names must equal the number of generators\")\n",
      "File \u001b[0;32m/private/var/tmp/sage-10.2-current/local/var/lib/sage/venv-python3.11.1/lib/python3.11/site-packages/sage/structure/category_object.pyx:1074\u001b[0m, in \u001b[0;36msage.structure.category_object.certify_names (build/cythonized/sage/structure/category_object.c:11445)\u001b[0;34m()\u001b[0m\n\u001b[1;32m   1072\u001b[0m     raise ValueError(\"variable name {!r} is not alphanumeric\".format(N))\n\u001b[1;32m   1073\u001b[0m if not N[0].isalpha():\n\u001b[0;32m-> 1074\u001b[0m     raise ValueError(\"variable name {!r} does not start with a letter\".format(N))\n\u001b[1;32m   1075\u001b[0m if N in s:\n\u001b[1;32m   1076\u001b[0m     raise ValueError(\"variable name {!r} appears more than once\".format(N))\n",
      "\u001b[0;31mValueError\u001b[0m: variable name '1' does not start with a letter"
     ]
    }
   ],
   "source": [
    "vs = (x,y)\n",
    "x,y = QQ[[vs]].gens()"
   ]
  },
  {
   "cell_type": "code",
   "execution_count": 36,
   "id": "e0696944-293f-4bc7-9597-bcef21c5c2a6",
   "metadata": {},
   "outputs": [
    {
     "data": {
      "text/plain": [
       "Multivariate Power Series Ring in x, y over Rational Field"
      ]
     },
     "execution_count": 36,
     "metadata": {},
     "output_type": "execute_result"
    }
   ],
   "source": [
    "x.parent()"
   ]
  },
  {
   "cell_type": "code",
   "execution_count": 40,
   "id": "cab529f7-b4be-4d3b-b0e3-ac48e91057ce",
   "metadata": {},
   "outputs": [
    {
     "ename": "AttributeError",
     "evalue": "'sage.symbolic.ring.SymbolicRing' object has no attribute 'mixed_order'",
     "output_type": "error",
     "traceback": [
      "\u001b[0;31m---------------------------------------------------------------------------\u001b[0m",
      "\u001b[0;31mKeyError\u001b[0m                                  Traceback (most recent call last)",
      "File \u001b[0;32m/private/var/tmp/sage-10.2-current/local/var/lib/sage/venv-python3.11.1/lib/python3.11/site-packages/sage/structure/category_object.pyx:847\u001b[0m, in \u001b[0;36msage.structure.category_object.CategoryObject.getattr_from_category (build/cythonized/sage/structure/category_object.c:9549)\u001b[0;34m()\u001b[0m\n\u001b[1;32m    846\u001b[0m try:\n\u001b[0;32m--> 847\u001b[0m     return self._cached_methods[name]\n\u001b[1;32m    848\u001b[0m except KeyError:\n",
      "\u001b[0;31mKeyError\u001b[0m: 'mixed_order'",
      "\nDuring handling of the above exception, another exception occurred:\n",
      "\u001b[0;31mAttributeError\u001b[0m                            Traceback (most recent call last)",
      "Cell \u001b[0;32mIn [40], line 2\u001b[0m\n\u001b[1;32m      1\u001b[0m \u001b[38;5;28;01mfrom\u001b[39;00m \u001b[38;5;21;01msage\u001b[39;00m\u001b[38;5;21;01m.\u001b[39;00m\u001b[38;5;21;01msymbolic\u001b[39;00m\u001b[38;5;21;01m.\u001b[39;00m\u001b[38;5;21;01mexpression\u001b[39;00m \u001b[38;5;28;01mimport\u001b[39;00m mixed_order\n\u001b[0;32m----> 2\u001b[0m \u001b[43mSR\u001b[49m\u001b[38;5;241;43m.\u001b[39;49m\u001b[43mmixed_order\u001b[49m(Integer(\u001b[38;5;241m2\u001b[39m))\n",
      "File \u001b[0;32m/private/var/tmp/sage-10.2-current/local/var/lib/sage/venv-python3.11.1/lib/python3.11/site-packages/sage/structure/category_object.pyx:841\u001b[0m, in \u001b[0;36msage.structure.category_object.CategoryObject.__getattr__ (build/cythonized/sage/structure/category_object.c:9469)\u001b[0;34m()\u001b[0m\n\u001b[1;32m    839\u001b[0m         AttributeError: 'PrimeNumbers_with_category' object has no attribute 'sadfasdf'...\n\u001b[1;32m    840\u001b[0m     \"\"\"\n\u001b[0;32m--> 841\u001b[0m     return self.getattr_from_category(name)\n\u001b[1;32m    842\u001b[0m \n\u001b[1;32m    843\u001b[0m cdef getattr_from_category(self, name) noexcept:\n",
      "File \u001b[0;32m/private/var/tmp/sage-10.2-current/local/var/lib/sage/venv-python3.11.1/lib/python3.11/site-packages/sage/structure/category_object.pyx:856\u001b[0m, in \u001b[0;36msage.structure.category_object.CategoryObject.getattr_from_category (build/cythonized/sage/structure/category_object.c:9633)\u001b[0;34m()\u001b[0m\n\u001b[1;32m    854\u001b[0m     cls = self._category.parent_class\n\u001b[1;32m    855\u001b[0m \n\u001b[0;32m--> 856\u001b[0m attr = getattr_from_other_class(self, cls, name)\n\u001b[1;32m    857\u001b[0m self._cached_methods[name] = attr\n\u001b[1;32m    858\u001b[0m return attr\n",
      "File \u001b[0;32m/private/var/tmp/sage-10.2-current/local/var/lib/sage/venv-python3.11.1/lib/python3.11/site-packages/sage/cpython/getattr.pyx:362\u001b[0m, in \u001b[0;36msage.cpython.getattr.getattr_from_other_class (build/cythonized/sage/cpython/getattr.c:4424)\u001b[0;34m()\u001b[0m\n\u001b[1;32m    360\u001b[0m     dummy_error_message.cls = type(self)\n\u001b[1;32m    361\u001b[0m     dummy_error_message.name = name\n\u001b[0;32m--> 362\u001b[0m     raise AttributeError(dummy_error_message)\n\u001b[1;32m    363\u001b[0m attribute = <object>attr\n\u001b[1;32m    364\u001b[0m # Check for a descriptor (__get__ in Python)\n",
      "\u001b[0;31mAttributeError\u001b[0m: 'sage.symbolic.ring.SymbolicRing' object has no attribute 'mixed_order'"
     ]
    }
   ],
   "source": [
    "from sage.symbolic.expression import mixed_order\n"
   ]
  },
  {
   "cell_type": "code",
   "execution_count": 11,
   "id": "0909cce9-7db4-490a-889d-815987ac112a",
   "metadata": {},
   "outputs": [
    {
     "data": {
      "text/plain": [
       "False"
      ]
     },
     "execution_count": 11,
     "metadata": {},
     "output_type": "execute_result"
    }
   ],
   "source": [
    "1 > 2"
   ]
  },
  {
   "cell_type": "code",
   "execution_count": 14,
   "id": "14dfb577-8ae8-4d88-afbb-ca87e919a140",
   "metadata": {},
   "outputs": [
    {
     "data": {
      "text/plain": [
       "1"
      ]
     },
     "execution_count": 14,
     "metadata": {},
     "output_type": "execute_result"
    }
   ],
   "source": []
  },
  {
   "cell_type": "code",
   "execution_count": 16,
   "id": "4e9c7cc8-0dcd-42f7-8083-ac20049dd22e",
   "metadata": {},
   "outputs": [],
   "source": [
    "x = [1,1]"
   ]
  },
  {
   "cell_type": "code",
   "execution_count": 20,
   "id": "a6da979c-db61-422c-b8b2-ad82a3ba41c9",
   "metadata": {},
   "outputs": [
    {
     "ename": "SyntaxError",
     "evalue": "cannot assign to expression here. Maybe you meant '==' instead of '='? (3372125915.py, line 1)",
     "output_type": "error",
     "traceback": [
      "\u001b[0;36m  Cell \u001b[0;32mIn [20], line 1\u001b[0;36m\u001b[0m\n\u001b[0;31m    _, -y = x\u001b[0m\n\u001b[0m       ^\u001b[0m\n\u001b[0;31mSyntaxError\u001b[0m\u001b[0;31m:\u001b[0m cannot assign to expression here. Maybe you meant '==' instead of '='?\n"
     ]
    }
   ],
   "source": [
    "_, y = x"
   ]
  },
  {
   "cell_type": "code",
   "execution_count": 23,
   "id": "040d3f37-8e89-4b5f-b967-4043184a09e5",
   "metadata": {},
   "outputs": [
    {
     "ename": "ImportError",
     "evalue": "cannot import name 'quo_rem' from 'sage.all' (/private/var/tmp/sage-10.2-current/local/var/lib/sage/venv-python3.11.1/lib/python3.11/site-packages/sage/all.py)",
     "output_type": "error",
     "traceback": [
      "\u001b[0;31m---------------------------------------------------------------------------\u001b[0m",
      "\u001b[0;31mImportError\u001b[0m                               Traceback (most recent call last)",
      "Cell \u001b[0;32mIn [23], line 1\u001b[0m\n\u001b[0;32m----> 1\u001b[0m \u001b[38;5;28;01mfrom\u001b[39;00m \u001b[38;5;21;01msage\u001b[39;00m\u001b[38;5;21;01m.\u001b[39;00m\u001b[38;5;21;01mall\u001b[39;00m \u001b[38;5;28;01mimport\u001b[39;00m quo_rem\n",
      "\u001b[0;31mImportError\u001b[0m: cannot import name 'quo_rem' from 'sage.all' (/private/var/tmp/sage-10.2-current/local/var/lib/sage/venv-python3.11.1/lib/python3.11/site-packages/sage/all.py)"
     ]
    }
   ],
   "source": []
  },
  {
   "cell_type": "code",
   "execution_count": 24,
   "id": "92f6776c-26b0-4b8d-b224-d03586870d72",
   "metadata": {},
   "outputs": [],
   "source": [
    "a = 1\n",
    "b = 2\n",
    "a, b = b, a"
   ]
  },
  {
   "cell_type": "code",
   "execution_count": 25,
   "id": "0ab0e059-59da-4503-8c31-25e614a92f17",
   "metadata": {},
   "outputs": [
    {
     "name": "stdout",
     "output_type": "stream",
     "text": [
      "2\n",
      "1\n"
     ]
    }
   ],
   "source": [
    "print(a)\n",
    "print(b)"
   ]
  },
  {
   "cell_type": "code",
   "execution_count": 26,
   "id": "61220aea-3b18-4f64-a07a-ea82982dbc89",
   "metadata": {},
   "outputs": [],
   "source": [
    "R.<x> = PolynomialRing(QQ, 'x')"
   ]
  },
  {
   "cell_type": "code",
   "execution_count": 32,
   "id": "e2774aa1-0ae0-45f7-831a-9eb0f66854c6",
   "metadata": {},
   "outputs": [],
   "source": [
    "F = (x^2+2*x+1).radical()"
   ]
  },
  {
   "cell_type": "code",
   "execution_count": 37,
   "id": "ba2776a9-13ab-4a95-ab80-6b86342c8f79",
   "metadata": {},
   "outputs": [
    {
     "data": {
      "text/plain": [
       "1"
      ]
     },
     "execution_count": 37,
     "metadata": {},
     "output_type": "execute_result"
    }
   ],
   "source": [
    "R((F/(x+1)))"
   ]
  },
  {
   "cell_type": "code",
   "execution_count": 50,
   "id": "b6d0ed0e-22b3-4caf-8859-e3a003049876",
   "metadata": {},
   "outputs": [
    {
     "data": {
      "text/plain": [
       "(Univariate Polynomial Ring in x over Rational Field, x)"
      ]
     },
     "execution_count": 50,
     "metadata": {},
     "output_type": "execute_result"
    }
   ],
   "source": [
    "R.objgen()"
   ]
  },
  {
   "cell_type": "code",
   "execution_count": 52,
   "id": "628cd531-3e40-47f4-8d5f-48147faee387",
   "metadata": {},
   "outputs": [
    {
     "data": {
      "text/plain": [
       "[1, 1, 1, 1, 1, 1, 1, 1, 1, 1]"
      ]
     },
     "execution_count": 52,
     "metadata": {},
     "output_type": "execute_result"
    }
   ],
   "source": [
    "[_ for i in range(10)]"
   ]
  },
  {
   "cell_type": "code",
   "execution_count": null,
   "id": "bcee9477-632e-4a31-b54e-81a731f90c11",
   "metadata": {},
   "outputs": [],
   "source": []
  },
  {
   "cell_type": "code",
   "execution_count": null,
   "id": "d7b75b7b-febc-490f-9f3e-b2d766db9ae1",
   "metadata": {},
   "outputs": [],
   "source": []
  },
  {
   "cell_type": "code",
   "execution_count": null,
   "id": "78ead347-50da-4670-bcc6-70d3d8dcd910",
   "metadata": {},
   "outputs": [],
   "source": []
  },
  {
   "cell_type": "code",
   "execution_count": 54,
   "id": "4ea4f3c3-a503-406e-9737-4616f9edc247",
   "metadata": {},
   "outputs": [],
   "source": [
    "R.<y,x,t, lambda_, r0> = PolynomialRing(QQ)"
   ]
  },
  {
   "cell_type": "code",
   "execution_count": 60,
   "id": "578123d5-61fa-410c-afeb-297fd2891209",
   "metadata": {},
   "outputs": [],
   "source": [
    "system = [2*y^2*x^3 + y*x^4 - y*x^3 - y*x^2 + y*x - r0*lambda_, 3*y^2*x^3 + 4*y*x^4 - 3*y*x^3 - 4*x^4 - 2*y*x^2 + 12*x^3 + y*x - 12*x^2 + 4*x - lambda_, y^2*x^3 + y*x^4 - y*x^3 - x^4 - y*x^2 + 4*x^3 + y*x - 6*x^2 + 4*x - 1, y^2*x^3*t^5 + y*x^4*t^5 - y*x^3*t^4 - x^4*t^4 - y*x^2*t^3 + 4*x^3*t^3 + y*x*t^2 - 6*x^2*t^2 + 4*x*t - 1, 944*r0^3 - 649*r0^2 + 204*r0 - 47]"
   ]
  },
  {
   "cell_type": "code",
   "execution_count": 59,
   "id": "b0ad9ec5-17b1-4351-8602-7cffb649864a",
   "metadata": {},
   "outputs": [],
   "source": [
    "from sage.rings.polynomial.msolve import *"
   ]
  },
  {
   "cell_type": "code",
   "execution_count": 64,
   "id": "f85dc0a9-ac86-4491-ade8-c83bb5bb7b52",
   "metadata": {},
   "outputs": [
    {
     "data": {
      "text/plain": [
       "[{y: -1.?e2, x: -0.10535326?, t: 1.000000000?, lambda_: -14.538395?, r0: 0.45307458?},\n",
       " {y: 0.?e3, x: -0.1053533?, t: 0.36598619?, lambda_: -14.53840?, r0: 0.45307457?},\n",
       " {y: 0.?e3, x: -0.1053533?, t: -0.31657121?, lambda_: -14.53840?, r0: 0.45307457?},\n",
       " {y: 0.?e7, x: 0.17357?, t: 1.000000?, lambda_: 11.154?, r0: 0.453075?},\n",
       " {y: 0.?e-12, x: 1.000000000000?, t: 1.000000000000?, lambda_: 0.?e-11, r0: 0.453074571638?},\n",
       " {y: 1.00000000000?, x: 0.311957055279?, t: 1.000000000000?, lambda_: 0.56164987758?, r0: 0.453074571638?},\n",
       " {y: [-infinity .. +infinity], x: [-infinity .. +infinity], t: [-infinity .. +infinity], lambda_: [-infinity .. +infinity], r0: [-infinity .. +infinity]},\n",
       " {y: [-infinity .. +infinity], x: [-infinity .. +infinity], t: [-infinity .. +infinity], lambda_: [-infinity .. +infinity], r0: [-infinity .. +infinity]},\n",
       " {y: [-infinity .. +infinity], x: [-infinity .. +infinity], t: [-infinity .. +infinity], lambda_: [-infinity .. +infinity], r0: [-infinity .. +infinity]}]"
      ]
     },
     "execution_count": 64,
     "metadata": {},
     "output_type": "execute_result"
    }
   ],
   "source": [
    "variety(Ideal(system), AA, proof=False)"
   ]
  },
  {
   "cell_type": "code",
   "execution_count": null,
   "id": "42838735-c9f9-4c43-976b-434552065e61",
   "metadata": {},
   "outputs": [],
   "source": []
  }
 ],
 "metadata": {
  "kernelspec": {
   "display_name": "SageMath 10.2",
   "language": "sage",
   "name": "sagemath-10.2"
  },
  "language_info": {
   "codemirror_mode": {
    "name": "ipython",
    "version": 3
   },
   "file_extension": ".py",
   "mimetype": "text/x-python",
   "name": "python",
   "nbconvert_exporter": "python",
   "pygments_lexer": "ipython3",
   "version": "3.11.1"
  }
 },
 "nbformat": 4,
 "nbformat_minor": 5
}
